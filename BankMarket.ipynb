{
 "cells": [
  {
   "cell_type": "markdown",
   "id": "52118013",
   "metadata": {},
   "source": [
    "# Introduction"
   ]
  },
  {
   "cell_type": "markdown",
   "id": "a120b1fe",
   "metadata": {},
   "source": [
    "    The data is related with direct marketing campaigns of a Portuguese banking institution. The marketing campaigns were based on phone calls. Often, more than one contact to the same client was required, in order to access if the product (bank term deposit) would be (or not) subscribed.\n",
    "    "
   ]
  },
  {
   "cell_type": "code",
   "execution_count": 1,
   "id": "35de095f",
   "metadata": {},
   "outputs": [],
   "source": [
    "#Importing required libraries\n",
    "import matplotlib.pyplot as plt\n",
    "import numpy as np\n",
    "import pandas as pd\n",
    "import seaborn as sns\n",
    "from sklearn.preprocessing import LabelEncoder\n",
    "from sklearn.model_selection import train_test_split\n",
    "from sklearn import metrics\n",
    "from sklearn.metrics import confusion_matrix,classification_report\n",
    "from sklearn.linear_model import LogisticRegression\n",
    "from sklearn.ensemble import RandomForestClassifier\n",
    "from sklearn.naive_bayes import GaussianNB\n",
    "from sklearn.neighbors import KNeighborsClassifier"
   ]
  },
  {
   "cell_type": "markdown",
   "id": "420faa0d",
   "metadata": {},
   "source": [
    "# Data Analysis"
   ]
  },
  {
   "cell_type": "code",
   "execution_count": 2,
   "id": "245de465",
   "metadata": {},
   "outputs": [
    {
     "data": {
      "text/html": [
       "<div>\n",
       "<style scoped>\n",
       "    .dataframe tbody tr th:only-of-type {\n",
       "        vertical-align: middle;\n",
       "    }\n",
       "\n",
       "    .dataframe tbody tr th {\n",
       "        vertical-align: top;\n",
       "    }\n",
       "\n",
       "    .dataframe thead th {\n",
       "        text-align: right;\n",
       "    }\n",
       "</style>\n",
       "<table border=\"1\" class=\"dataframe\">\n",
       "  <thead>\n",
       "    <tr style=\"text-align: right;\">\n",
       "      <th></th>\n",
       "      <th>Age</th>\n",
       "      <th>Job</th>\n",
       "      <th>Marital Status</th>\n",
       "      <th>Education</th>\n",
       "      <th>Credit</th>\n",
       "      <th>Balance (euros)</th>\n",
       "      <th>Housing Loan</th>\n",
       "      <th>Personal Loan</th>\n",
       "      <th>Contact</th>\n",
       "      <th>Last Contact Day</th>\n",
       "      <th>Last Contact Month</th>\n",
       "      <th>Last Contact Duration</th>\n",
       "      <th>Campaign</th>\n",
       "      <th>Pdays</th>\n",
       "      <th>Previous</th>\n",
       "      <th>Poutcome</th>\n",
       "      <th>Subscription</th>\n",
       "    </tr>\n",
       "  </thead>\n",
       "  <tbody>\n",
       "    <tr>\n",
       "      <th>0</th>\n",
       "      <td>58</td>\n",
       "      <td>management</td>\n",
       "      <td>married</td>\n",
       "      <td>tertiary</td>\n",
       "      <td>no</td>\n",
       "      <td>2143</td>\n",
       "      <td>yes</td>\n",
       "      <td>no</td>\n",
       "      <td>unknown</td>\n",
       "      <td>5</td>\n",
       "      <td>may</td>\n",
       "      <td>261</td>\n",
       "      <td>1</td>\n",
       "      <td>-1</td>\n",
       "      <td>0</td>\n",
       "      <td>unknown</td>\n",
       "      <td>1</td>\n",
       "    </tr>\n",
       "    <tr>\n",
       "      <th>1</th>\n",
       "      <td>44</td>\n",
       "      <td>technician</td>\n",
       "      <td>single</td>\n",
       "      <td>secondary</td>\n",
       "      <td>no</td>\n",
       "      <td>29</td>\n",
       "      <td>yes</td>\n",
       "      <td>no</td>\n",
       "      <td>unknown</td>\n",
       "      <td>5</td>\n",
       "      <td>may</td>\n",
       "      <td>151</td>\n",
       "      <td>1</td>\n",
       "      <td>-1</td>\n",
       "      <td>0</td>\n",
       "      <td>unknown</td>\n",
       "      <td>1</td>\n",
       "    </tr>\n",
       "    <tr>\n",
       "      <th>2</th>\n",
       "      <td>33</td>\n",
       "      <td>entrepreneur</td>\n",
       "      <td>married</td>\n",
       "      <td>secondary</td>\n",
       "      <td>no</td>\n",
       "      <td>2</td>\n",
       "      <td>yes</td>\n",
       "      <td>yes</td>\n",
       "      <td>unknown</td>\n",
       "      <td>5</td>\n",
       "      <td>may</td>\n",
       "      <td>76</td>\n",
       "      <td>1</td>\n",
       "      <td>-1</td>\n",
       "      <td>0</td>\n",
       "      <td>unknown</td>\n",
       "      <td>1</td>\n",
       "    </tr>\n",
       "    <tr>\n",
       "      <th>3</th>\n",
       "      <td>47</td>\n",
       "      <td>blue-collar</td>\n",
       "      <td>married</td>\n",
       "      <td>unknown</td>\n",
       "      <td>no</td>\n",
       "      <td>1506</td>\n",
       "      <td>yes</td>\n",
       "      <td>no</td>\n",
       "      <td>unknown</td>\n",
       "      <td>5</td>\n",
       "      <td>may</td>\n",
       "      <td>92</td>\n",
       "      <td>1</td>\n",
       "      <td>-1</td>\n",
       "      <td>0</td>\n",
       "      <td>unknown</td>\n",
       "      <td>1</td>\n",
       "    </tr>\n",
       "    <tr>\n",
       "      <th>4</th>\n",
       "      <td>33</td>\n",
       "      <td>unknown</td>\n",
       "      <td>single</td>\n",
       "      <td>unknown</td>\n",
       "      <td>no</td>\n",
       "      <td>1</td>\n",
       "      <td>no</td>\n",
       "      <td>no</td>\n",
       "      <td>unknown</td>\n",
       "      <td>5</td>\n",
       "      <td>may</td>\n",
       "      <td>198</td>\n",
       "      <td>1</td>\n",
       "      <td>-1</td>\n",
       "      <td>0</td>\n",
       "      <td>unknown</td>\n",
       "      <td>1</td>\n",
       "    </tr>\n",
       "    <tr>\n",
       "      <th>...</th>\n",
       "      <td>...</td>\n",
       "      <td>...</td>\n",
       "      <td>...</td>\n",
       "      <td>...</td>\n",
       "      <td>...</td>\n",
       "      <td>...</td>\n",
       "      <td>...</td>\n",
       "      <td>...</td>\n",
       "      <td>...</td>\n",
       "      <td>...</td>\n",
       "      <td>...</td>\n",
       "      <td>...</td>\n",
       "      <td>...</td>\n",
       "      <td>...</td>\n",
       "      <td>...</td>\n",
       "      <td>...</td>\n",
       "      <td>...</td>\n",
       "    </tr>\n",
       "    <tr>\n",
       "      <th>45206</th>\n",
       "      <td>51</td>\n",
       "      <td>technician</td>\n",
       "      <td>married</td>\n",
       "      <td>tertiary</td>\n",
       "      <td>no</td>\n",
       "      <td>825</td>\n",
       "      <td>no</td>\n",
       "      <td>no</td>\n",
       "      <td>cellular</td>\n",
       "      <td>17</td>\n",
       "      <td>nov</td>\n",
       "      <td>977</td>\n",
       "      <td>3</td>\n",
       "      <td>-1</td>\n",
       "      <td>0</td>\n",
       "      <td>unknown</td>\n",
       "      <td>2</td>\n",
       "    </tr>\n",
       "    <tr>\n",
       "      <th>45207</th>\n",
       "      <td>71</td>\n",
       "      <td>retired</td>\n",
       "      <td>divorced</td>\n",
       "      <td>primary</td>\n",
       "      <td>no</td>\n",
       "      <td>1729</td>\n",
       "      <td>no</td>\n",
       "      <td>no</td>\n",
       "      <td>cellular</td>\n",
       "      <td>17</td>\n",
       "      <td>nov</td>\n",
       "      <td>456</td>\n",
       "      <td>2</td>\n",
       "      <td>-1</td>\n",
       "      <td>0</td>\n",
       "      <td>unknown</td>\n",
       "      <td>2</td>\n",
       "    </tr>\n",
       "    <tr>\n",
       "      <th>45208</th>\n",
       "      <td>72</td>\n",
       "      <td>retired</td>\n",
       "      <td>married</td>\n",
       "      <td>secondary</td>\n",
       "      <td>no</td>\n",
       "      <td>5715</td>\n",
       "      <td>no</td>\n",
       "      <td>no</td>\n",
       "      <td>cellular</td>\n",
       "      <td>17</td>\n",
       "      <td>nov</td>\n",
       "      <td>1127</td>\n",
       "      <td>5</td>\n",
       "      <td>184</td>\n",
       "      <td>3</td>\n",
       "      <td>success</td>\n",
       "      <td>2</td>\n",
       "    </tr>\n",
       "    <tr>\n",
       "      <th>45209</th>\n",
       "      <td>57</td>\n",
       "      <td>blue-collar</td>\n",
       "      <td>married</td>\n",
       "      <td>secondary</td>\n",
       "      <td>no</td>\n",
       "      <td>668</td>\n",
       "      <td>no</td>\n",
       "      <td>no</td>\n",
       "      <td>telephone</td>\n",
       "      <td>17</td>\n",
       "      <td>nov</td>\n",
       "      <td>508</td>\n",
       "      <td>4</td>\n",
       "      <td>-1</td>\n",
       "      <td>0</td>\n",
       "      <td>unknown</td>\n",
       "      <td>1</td>\n",
       "    </tr>\n",
       "    <tr>\n",
       "      <th>45210</th>\n",
       "      <td>37</td>\n",
       "      <td>entrepreneur</td>\n",
       "      <td>married</td>\n",
       "      <td>secondary</td>\n",
       "      <td>no</td>\n",
       "      <td>2971</td>\n",
       "      <td>no</td>\n",
       "      <td>no</td>\n",
       "      <td>cellular</td>\n",
       "      <td>17</td>\n",
       "      <td>nov</td>\n",
       "      <td>361</td>\n",
       "      <td>2</td>\n",
       "      <td>188</td>\n",
       "      <td>11</td>\n",
       "      <td>other</td>\n",
       "      <td>1</td>\n",
       "    </tr>\n",
       "  </tbody>\n",
       "</table>\n",
       "<p>45211 rows × 17 columns</p>\n",
       "</div>"
      ],
      "text/plain": [
       "       Age           Job Marital Status  Education Credit  Balance (euros)  \\\n",
       "0       58    management        married   tertiary     no             2143   \n",
       "1       44    technician         single  secondary     no               29   \n",
       "2       33  entrepreneur        married  secondary     no                2   \n",
       "3       47   blue-collar        married    unknown     no             1506   \n",
       "4       33       unknown         single    unknown     no                1   \n",
       "...    ...           ...            ...        ...    ...              ...   \n",
       "45206   51    technician        married   tertiary     no              825   \n",
       "45207   71       retired       divorced    primary     no             1729   \n",
       "45208   72       retired        married  secondary     no             5715   \n",
       "45209   57   blue-collar        married  secondary     no              668   \n",
       "45210   37  entrepreneur        married  secondary     no             2971   \n",
       "\n",
       "      Housing Loan Personal Loan    Contact  Last Contact Day  \\\n",
       "0              yes            no    unknown                 5   \n",
       "1              yes            no    unknown                 5   \n",
       "2              yes           yes    unknown                 5   \n",
       "3              yes            no    unknown                 5   \n",
       "4               no            no    unknown                 5   \n",
       "...            ...           ...        ...               ...   \n",
       "45206           no            no   cellular                17   \n",
       "45207           no            no   cellular                17   \n",
       "45208           no            no   cellular                17   \n",
       "45209           no            no  telephone                17   \n",
       "45210           no            no   cellular                17   \n",
       "\n",
       "      Last Contact Month  Last Contact Duration  Campaign  Pdays  Previous  \\\n",
       "0                    may                    261         1     -1         0   \n",
       "1                    may                    151         1     -1         0   \n",
       "2                    may                     76         1     -1         0   \n",
       "3                    may                     92         1     -1         0   \n",
       "4                    may                    198         1     -1         0   \n",
       "...                  ...                    ...       ...    ...       ...   \n",
       "45206                nov                    977         3     -1         0   \n",
       "45207                nov                    456         2     -1         0   \n",
       "45208                nov                   1127         5    184         3   \n",
       "45209                nov                    508         4     -1         0   \n",
       "45210                nov                    361         2    188        11   \n",
       "\n",
       "      Poutcome  Subscription  \n",
       "0      unknown             1  \n",
       "1      unknown             1  \n",
       "2      unknown             1  \n",
       "3      unknown             1  \n",
       "4      unknown             1  \n",
       "...        ...           ...  \n",
       "45206  unknown             2  \n",
       "45207  unknown             2  \n",
       "45208  success             2  \n",
       "45209  unknown             1  \n",
       "45210    other             1  \n",
       "\n",
       "[45211 rows x 17 columns]"
      ]
     },
     "execution_count": 2,
     "metadata": {},
     "output_type": "execute_result"
    }
   ],
   "source": [
    "#Load Dataset\n",
    "bank=pd.read_csv('Bank Marketing.csv')\n",
    "bank"
   ]
  },
  {
   "cell_type": "code",
   "execution_count": 3,
   "id": "92e6c404",
   "metadata": {},
   "outputs": [
    {
     "data": {
      "text/plain": [
       "Age                      0\n",
       "Job                      0\n",
       "Marital Status           0\n",
       "Education                0\n",
       "Credit                   0\n",
       "Balance (euros)          0\n",
       "Housing Loan             0\n",
       "Personal Loan            0\n",
       "Contact                  0\n",
       "Last Contact Day         0\n",
       "Last Contact Month       0\n",
       "Last Contact Duration    0\n",
       "Campaign                 0\n",
       "Pdays                    0\n",
       "Previous                 0\n",
       "Poutcome                 0\n",
       "Subscription             0\n",
       "dtype: int64"
      ]
     },
     "execution_count": 3,
     "metadata": {},
     "output_type": "execute_result"
    }
   ],
   "source": [
    "bank.isna().sum()#check null values"
   ]
  },
  {
   "cell_type": "code",
   "execution_count": 4,
   "id": "7c26989d",
   "metadata": {},
   "outputs": [
    {
     "data": {
      "text/html": [
       "<div>\n",
       "<style scoped>\n",
       "    .dataframe tbody tr th:only-of-type {\n",
       "        vertical-align: middle;\n",
       "    }\n",
       "\n",
       "    .dataframe tbody tr th {\n",
       "        vertical-align: top;\n",
       "    }\n",
       "\n",
       "    .dataframe thead th {\n",
       "        text-align: right;\n",
       "    }\n",
       "</style>\n",
       "<table border=\"1\" class=\"dataframe\">\n",
       "  <thead>\n",
       "    <tr style=\"text-align: right;\">\n",
       "      <th></th>\n",
       "      <th>Age</th>\n",
       "      <th>Balance (euros)</th>\n",
       "      <th>Last Contact Day</th>\n",
       "      <th>Last Contact Duration</th>\n",
       "      <th>Campaign</th>\n",
       "      <th>Pdays</th>\n",
       "      <th>Previous</th>\n",
       "      <th>Subscription</th>\n",
       "    </tr>\n",
       "  </thead>\n",
       "  <tbody>\n",
       "    <tr>\n",
       "      <th>count</th>\n",
       "      <td>45211.000000</td>\n",
       "      <td>45211.000000</td>\n",
       "      <td>45211.000000</td>\n",
       "      <td>45211.000000</td>\n",
       "      <td>45211.000000</td>\n",
       "      <td>45211.000000</td>\n",
       "      <td>45211.000000</td>\n",
       "      <td>45211.000000</td>\n",
       "    </tr>\n",
       "    <tr>\n",
       "      <th>mean</th>\n",
       "      <td>40.936210</td>\n",
       "      <td>1362.272058</td>\n",
       "      <td>15.806419</td>\n",
       "      <td>258.163080</td>\n",
       "      <td>2.763841</td>\n",
       "      <td>40.197828</td>\n",
       "      <td>0.580323</td>\n",
       "      <td>1.116985</td>\n",
       "    </tr>\n",
       "    <tr>\n",
       "      <th>std</th>\n",
       "      <td>10.618762</td>\n",
       "      <td>3044.765829</td>\n",
       "      <td>8.322476</td>\n",
       "      <td>257.527812</td>\n",
       "      <td>3.098021</td>\n",
       "      <td>100.128746</td>\n",
       "      <td>2.303441</td>\n",
       "      <td>0.321406</td>\n",
       "    </tr>\n",
       "    <tr>\n",
       "      <th>min</th>\n",
       "      <td>18.000000</td>\n",
       "      <td>-8019.000000</td>\n",
       "      <td>1.000000</td>\n",
       "      <td>0.000000</td>\n",
       "      <td>1.000000</td>\n",
       "      <td>-1.000000</td>\n",
       "      <td>0.000000</td>\n",
       "      <td>1.000000</td>\n",
       "    </tr>\n",
       "    <tr>\n",
       "      <th>25%</th>\n",
       "      <td>33.000000</td>\n",
       "      <td>72.000000</td>\n",
       "      <td>8.000000</td>\n",
       "      <td>103.000000</td>\n",
       "      <td>1.000000</td>\n",
       "      <td>-1.000000</td>\n",
       "      <td>0.000000</td>\n",
       "      <td>1.000000</td>\n",
       "    </tr>\n",
       "    <tr>\n",
       "      <th>50%</th>\n",
       "      <td>39.000000</td>\n",
       "      <td>448.000000</td>\n",
       "      <td>16.000000</td>\n",
       "      <td>180.000000</td>\n",
       "      <td>2.000000</td>\n",
       "      <td>-1.000000</td>\n",
       "      <td>0.000000</td>\n",
       "      <td>1.000000</td>\n",
       "    </tr>\n",
       "    <tr>\n",
       "      <th>75%</th>\n",
       "      <td>48.000000</td>\n",
       "      <td>1428.000000</td>\n",
       "      <td>21.000000</td>\n",
       "      <td>319.000000</td>\n",
       "      <td>3.000000</td>\n",
       "      <td>-1.000000</td>\n",
       "      <td>0.000000</td>\n",
       "      <td>1.000000</td>\n",
       "    </tr>\n",
       "    <tr>\n",
       "      <th>max</th>\n",
       "      <td>95.000000</td>\n",
       "      <td>102127.000000</td>\n",
       "      <td>31.000000</td>\n",
       "      <td>4918.000000</td>\n",
       "      <td>63.000000</td>\n",
       "      <td>871.000000</td>\n",
       "      <td>275.000000</td>\n",
       "      <td>2.000000</td>\n",
       "    </tr>\n",
       "  </tbody>\n",
       "</table>\n",
       "</div>"
      ],
      "text/plain": [
       "                Age  Balance (euros)  Last Contact Day  Last Contact Duration  \\\n",
       "count  45211.000000     45211.000000      45211.000000           45211.000000   \n",
       "mean      40.936210      1362.272058         15.806419             258.163080   \n",
       "std       10.618762      3044.765829          8.322476             257.527812   \n",
       "min       18.000000     -8019.000000          1.000000               0.000000   \n",
       "25%       33.000000        72.000000          8.000000             103.000000   \n",
       "50%       39.000000       448.000000         16.000000             180.000000   \n",
       "75%       48.000000      1428.000000         21.000000             319.000000   \n",
       "max       95.000000    102127.000000         31.000000            4918.000000   \n",
       "\n",
       "           Campaign         Pdays      Previous  Subscription  \n",
       "count  45211.000000  45211.000000  45211.000000  45211.000000  \n",
       "mean       2.763841     40.197828      0.580323      1.116985  \n",
       "std        3.098021    100.128746      2.303441      0.321406  \n",
       "min        1.000000     -1.000000      0.000000      1.000000  \n",
       "25%        1.000000     -1.000000      0.000000      1.000000  \n",
       "50%        2.000000     -1.000000      0.000000      1.000000  \n",
       "75%        3.000000     -1.000000      0.000000      1.000000  \n",
       "max       63.000000    871.000000    275.000000      2.000000  "
      ]
     },
     "execution_count": 4,
     "metadata": {},
     "output_type": "execute_result"
    }
   ],
   "source": [
    "bank.describe()"
   ]
  },
  {
   "cell_type": "code",
   "execution_count": 5,
   "id": "a7b56a67",
   "metadata": {},
   "outputs": [
    {
     "data": {
      "text/html": [
       "<div>\n",
       "<style scoped>\n",
       "    .dataframe tbody tr th:only-of-type {\n",
       "        vertical-align: middle;\n",
       "    }\n",
       "\n",
       "    .dataframe tbody tr th {\n",
       "        vertical-align: top;\n",
       "    }\n",
       "\n",
       "    .dataframe thead th {\n",
       "        text-align: right;\n",
       "    }\n",
       "</style>\n",
       "<table border=\"1\" class=\"dataframe\">\n",
       "  <thead>\n",
       "    <tr style=\"text-align: right;\">\n",
       "      <th></th>\n",
       "      <th>Age</th>\n",
       "      <th>Balance (euros)</th>\n",
       "      <th>Last Contact Day</th>\n",
       "      <th>Last Contact Duration</th>\n",
       "      <th>Campaign</th>\n",
       "      <th>Pdays</th>\n",
       "      <th>Previous</th>\n",
       "    </tr>\n",
       "    <tr>\n",
       "      <th>Subscription</th>\n",
       "      <th></th>\n",
       "      <th></th>\n",
       "      <th></th>\n",
       "      <th></th>\n",
       "      <th></th>\n",
       "      <th></th>\n",
       "      <th></th>\n",
       "    </tr>\n",
       "  </thead>\n",
       "  <tbody>\n",
       "    <tr>\n",
       "      <th>1</th>\n",
       "      <td>40.838986</td>\n",
       "      <td>1303.714969</td>\n",
       "      <td>15.892290</td>\n",
       "      <td>221.182806</td>\n",
       "      <td>2.846350</td>\n",
       "      <td>36.421372</td>\n",
       "      <td>0.502154</td>\n",
       "    </tr>\n",
       "    <tr>\n",
       "      <th>2</th>\n",
       "      <td>41.670070</td>\n",
       "      <td>1804.267915</td>\n",
       "      <td>15.158253</td>\n",
       "      <td>537.294574</td>\n",
       "      <td>2.141047</td>\n",
       "      <td>68.702968</td>\n",
       "      <td>1.170354</td>\n",
       "    </tr>\n",
       "  </tbody>\n",
       "</table>\n",
       "</div>"
      ],
      "text/plain": [
       "                    Age  Balance (euros)  Last Contact Day  \\\n",
       "Subscription                                                 \n",
       "1             40.838986      1303.714969         15.892290   \n",
       "2             41.670070      1804.267915         15.158253   \n",
       "\n",
       "              Last Contact Duration  Campaign      Pdays  Previous  \n",
       "Subscription                                                        \n",
       "1                        221.182806  2.846350  36.421372  0.502154  \n",
       "2                        537.294574  2.141047  68.702968  1.170354  "
      ]
     },
     "execution_count": 5,
     "metadata": {},
     "output_type": "execute_result"
    }
   ],
   "source": [
    "#bank.Job.unique()\n",
    "#bank.Subscription.unique()\n",
    "bank.Contact.unique()\n",
    "bank.groupby('Subscription').mean()"
   ]
  },
  {
   "cell_type": "code",
   "execution_count": 6,
   "id": "fafb1a5f",
   "metadata": {},
   "outputs": [
    {
     "name": "stdout",
     "output_type": "stream",
     "text": [
      "<class 'pandas.core.frame.DataFrame'>\n",
      "RangeIndex: 45211 entries, 0 to 45210\n",
      "Data columns (total 17 columns):\n",
      " #   Column                 Non-Null Count  Dtype \n",
      "---  ------                 --------------  ----- \n",
      " 0   Age                    45211 non-null  int64 \n",
      " 1   Job                    45211 non-null  object\n",
      " 2   Marital Status         45211 non-null  object\n",
      " 3   Education              45211 non-null  object\n",
      " 4   Credit                 45211 non-null  object\n",
      " 5   Balance (euros)        45211 non-null  int64 \n",
      " 6   Housing Loan           45211 non-null  object\n",
      " 7   Personal Loan          45211 non-null  object\n",
      " 8   Contact                45211 non-null  object\n",
      " 9   Last Contact Day       45211 non-null  int64 \n",
      " 10  Last Contact Month     45211 non-null  object\n",
      " 11  Last Contact Duration  45211 non-null  int64 \n",
      " 12  Campaign               45211 non-null  int64 \n",
      " 13  Pdays                  45211 non-null  int64 \n",
      " 14  Previous               45211 non-null  int64 \n",
      " 15  Poutcome               45211 non-null  object\n",
      " 16  Subscription           45211 non-null  int64 \n",
      "dtypes: int64(8), object(9)\n",
      "memory usage: 5.9+ MB\n"
     ]
    }
   ],
   "source": [
    "bank.info()"
   ]
  },
  {
   "cell_type": "markdown",
   "id": "b7fcab59",
   "metadata": {},
   "source": [
    "# Data Visualization"
   ]
  },
  {
   "cell_type": "code",
   "execution_count": 7,
   "id": "97b8e2b4",
   "metadata": {},
   "outputs": [
    {
     "data": {
      "image/png": "[encoded data removed]",
      "text/plain": [
       "<Figure size 576x396 with 1 Axes>"
      ]
     },
     "metadata": {},
     "output_type": "display_data"
    }
   ],
   "source": [
    "plt.style.use('seaborn')\n",
    "plt.pie(bank.Subscription.value_counts(),labels=bank.Subscription.unique(), explode=[0.1,0.1],autopct='%.2f')\n",
    "plt.title('Subscription Status Pie Chart')\n",
    "plt.show()"
   ]
  },
  {
   "cell_type": "code",
   "execution_count": 8,
   "id": "2158f509",
   "metadata": {},
   "outputs": [
    {
     "data": {
      "image/png": "[encoded data removed]",
      "text/plain": [
       "<Figure size 576x396 with 1 Axes>"
      ]
     },
     "metadata": {},
     "output_type": "display_data"
    }
   ],
   "source": [
    "#Subscription Status based on Job type\n",
    "sns.countplot(y='Job',hue='Subscription',data=bank)\n",
    "plt.title(\"Subscription status based on Job Type\")\n",
    "plt.show()"
   ]
  },
  {
   "cell_type": "raw",
   "id": "afa0a410",
   "metadata": {},
   "source": [
    "Max subscription by Blue collar job type and Max \"Not Subscribed\" by Management sector job profiles"
   ]
  },
  {
   "cell_type": "code",
   "execution_count": 9,
   "id": "db1af580",
   "metadata": {},
   "outputs": [
    {
     "data": {
      "text/plain": [
       "1    254\n",
       "2     34\n",
       "Name: Subscription, dtype: int64"
      ]
     },
     "execution_count": 9,
     "metadata": {},
     "output_type": "execute_result"
    }
   ],
   "source": [
    "un=bank.loc[bank['Job']=='unknown','Subscription']\n",
    "un.value_counts()"
   ]
  },
  {
   "cell_type": "code",
   "execution_count": 10,
   "id": "855ee162",
   "metadata": {},
   "outputs": [
    {
     "data": {
      "image/png": "[encoded data removed]",
      "text/plain": [
       "<Figure size 576x396 with 1 Axes>"
      ]
     },
     "metadata": {},
     "output_type": "display_data"
    }
   ],
   "source": [
    "sns.countplot(x=un,hue='Subscription',data=bank)\n",
    "plt.title(\"Subscription Count for Unknown Jobtype\")\n",
    "plt.show()"
   ]
  },
  {
   "cell_type": "code",
   "execution_count": 11,
   "id": "98a78746",
   "metadata": {},
   "outputs": [
    {
     "data": {
      "text/plain": [
       "1    1101\n",
       "2     202\n",
       "Name: Subscription, dtype: int64"
      ]
     },
     "execution_count": 11,
     "metadata": {},
     "output_type": "execute_result"
    }
   ],
   "source": [
    "ue=bank.loc[bank['Job']=='unemployed','Subscription']\n",
    "ue.value_counts()"
   ]
  },
  {
   "cell_type": "code",
   "execution_count": 12,
   "id": "fd407b8f",
   "metadata": {},
   "outputs": [
    {
     "data": {
      "image/png": "[encoded data removed]",
      "text/plain": [
       "<Figure size 576x396 with 1 Axes>"
      ]
     },
     "metadata": {},
     "output_type": "display_data"
    }
   ],
   "source": [
    "sns.countplot(x=ue,hue='Subscription',data=bank)\n",
    "plt.title(\"Subscription Count for Unemployed\")\n",
    "plt.show()"
   ]
  },
  {
   "cell_type": "code",
   "execution_count": 13,
   "id": "3a427cc5",
   "metadata": {},
   "outputs": [
    {
     "data": {
      "text/html": [
       "<div>\n",
       "<style scoped>\n",
       "    .dataframe tbody tr th:only-of-type {\n",
       "        vertical-align: middle;\n",
       "    }\n",
       "\n",
       "    .dataframe tbody tr th {\n",
       "        vertical-align: top;\n",
       "    }\n",
       "\n",
       "    .dataframe thead th {\n",
       "        text-align: right;\n",
       "    }\n",
       "</style>\n",
       "<table border=\"1\" class=\"dataframe\">\n",
       "  <thead>\n",
       "    <tr style=\"text-align: right;\">\n",
       "      <th></th>\n",
       "      <th>Age</th>\n",
       "      <th>Job</th>\n",
       "      <th>Marital Status</th>\n",
       "      <th>Education</th>\n",
       "      <th>Credit</th>\n",
       "      <th>Balance (euros)</th>\n",
       "      <th>Housing Loan</th>\n",
       "      <th>Personal Loan</th>\n",
       "      <th>Last Contact Day</th>\n",
       "      <th>Last Contact Month</th>\n",
       "      <th>Last Contact Duration</th>\n",
       "      <th>Campaign</th>\n",
       "      <th>Pdays</th>\n",
       "      <th>Previous</th>\n",
       "      <th>Poutcome</th>\n",
       "      <th>Subscription</th>\n",
       "    </tr>\n",
       "  </thead>\n",
       "  <tbody>\n",
       "    <tr>\n",
       "      <th>0</th>\n",
       "      <td>58</td>\n",
       "      <td>management</td>\n",
       "      <td>married</td>\n",
       "      <td>tertiary</td>\n",
       "      <td>no</td>\n",
       "      <td>2143</td>\n",
       "      <td>yes</td>\n",
       "      <td>no</td>\n",
       "      <td>5</td>\n",
       "      <td>may</td>\n",
       "      <td>261</td>\n",
       "      <td>1</td>\n",
       "      <td>-1</td>\n",
       "      <td>0</td>\n",
       "      <td>unknown</td>\n",
       "      <td>1</td>\n",
       "    </tr>\n",
       "    <tr>\n",
       "      <th>1</th>\n",
       "      <td>44</td>\n",
       "      <td>technician</td>\n",
       "      <td>single</td>\n",
       "      <td>secondary</td>\n",
       "      <td>no</td>\n",
       "      <td>29</td>\n",
       "      <td>yes</td>\n",
       "      <td>no</td>\n",
       "      <td>5</td>\n",
       "      <td>may</td>\n",
       "      <td>151</td>\n",
       "      <td>1</td>\n",
       "      <td>-1</td>\n",
       "      <td>0</td>\n",
       "      <td>unknown</td>\n",
       "      <td>1</td>\n",
       "    </tr>\n",
       "    <tr>\n",
       "      <th>2</th>\n",
       "      <td>33</td>\n",
       "      <td>entrepreneur</td>\n",
       "      <td>married</td>\n",
       "      <td>secondary</td>\n",
       "      <td>no</td>\n",
       "      <td>2</td>\n",
       "      <td>yes</td>\n",
       "      <td>yes</td>\n",
       "      <td>5</td>\n",
       "      <td>may</td>\n",
       "      <td>76</td>\n",
       "      <td>1</td>\n",
       "      <td>-1</td>\n",
       "      <td>0</td>\n",
       "      <td>unknown</td>\n",
       "      <td>1</td>\n",
       "    </tr>\n",
       "    <tr>\n",
       "      <th>3</th>\n",
       "      <td>47</td>\n",
       "      <td>blue-collar</td>\n",
       "      <td>married</td>\n",
       "      <td>unknown</td>\n",
       "      <td>no</td>\n",
       "      <td>1506</td>\n",
       "      <td>yes</td>\n",
       "      <td>no</td>\n",
       "      <td>5</td>\n",
       "      <td>may</td>\n",
       "      <td>92</td>\n",
       "      <td>1</td>\n",
       "      <td>-1</td>\n",
       "      <td>0</td>\n",
       "      <td>unknown</td>\n",
       "      <td>1</td>\n",
       "    </tr>\n",
       "    <tr>\n",
       "      <th>4</th>\n",
       "      <td>33</td>\n",
       "      <td>unknown</td>\n",
       "      <td>single</td>\n",
       "      <td>unknown</td>\n",
       "      <td>no</td>\n",
       "      <td>1</td>\n",
       "      <td>no</td>\n",
       "      <td>no</td>\n",
       "      <td>5</td>\n",
       "      <td>may</td>\n",
       "      <td>198</td>\n",
       "      <td>1</td>\n",
       "      <td>-1</td>\n",
       "      <td>0</td>\n",
       "      <td>unknown</td>\n",
       "      <td>1</td>\n",
       "    </tr>\n",
       "  </tbody>\n",
       "</table>\n",
       "</div>"
      ],
      "text/plain": [
       "   Age           Job Marital Status  Education Credit  Balance (euros)  \\\n",
       "0   58    management        married   tertiary     no             2143   \n",
       "1   44    technician         single  secondary     no               29   \n",
       "2   33  entrepreneur        married  secondary     no                2   \n",
       "3   47   blue-collar        married    unknown     no             1506   \n",
       "4   33       unknown         single    unknown     no                1   \n",
       "\n",
       "  Housing Loan Personal Loan  Last Contact Day Last Contact Month  \\\n",
       "0          yes            no                 5                may   \n",
       "1          yes            no                 5                may   \n",
       "2          yes           yes                 5                may   \n",
       "3          yes            no                 5                may   \n",
       "4           no            no                 5                may   \n",
       "\n",
       "   Last Contact Duration  Campaign  Pdays  Previous Poutcome  Subscription  \n",
       "0                    261         1     -1         0  unknown             1  \n",
       "1                    151         1     -1         0  unknown             1  \n",
       "2                     76         1     -1         0  unknown             1  \n",
       "3                     92         1     -1         0  unknown             1  \n",
       "4                    198         1     -1         0  unknown             1  "
      ]
     },
     "execution_count": 13,
     "metadata": {},
     "output_type": "execute_result"
    }
   ],
   "source": [
    "bank.drop(['Contact'],inplace=True,axis=1)\n",
    "bank.head()"
   ]
  },
  {
   "cell_type": "code",
   "execution_count": 14,
   "id": "2abc45b3",
   "metadata": {},
   "outputs": [
    {
     "data": {
      "text/plain": [
       "1    763\n",
       "2     52\n",
       "Name: Subscription, dtype: int64"
      ]
     },
     "execution_count": 14,
     "metadata": {},
     "output_type": "execute_result"
    }
   ],
   "source": [
    "cr=bank.loc[bank['Credit']=='yes','Subscription']\n",
    "cr.value_counts()"
   ]
  },
  {
   "cell_type": "code",
   "execution_count": 15,
   "id": "f9cee694",
   "metadata": {},
   "outputs": [
    {
     "data": {
      "image/png": "[encoded data removed]",
      "text/plain": [
       "<Figure size 576x396 with 1 Axes>"
      ]
     },
     "metadata": {},
     "output_type": "display_data"
    }
   ],
   "source": [
    "plt.style.use('seaborn')\n",
    "plt.pie(bank.Credit.value_counts(),labels=bank.Credit.unique(), explode=[0.1,0.1],autopct='%.2f')\n",
    "plt.title('Credit Default Status Pie Chart')\n",
    "plt.show()"
   ]
  },
  {
   "cell_type": "code",
   "execution_count": 16,
   "id": "49678194",
   "metadata": {},
   "outputs": [
    {
     "data": {
      "image/png": "[encoded data removed]",
      "text/plain": [
       "<Figure size 576x396 with 1 Axes>"
      ]
     },
     "metadata": {},
     "output_type": "display_data"
    }
   ],
   "source": [
    "sns.countplot(x=cr,hue='Subscription',data=bank)\n",
    "plt.title(\"Subscription Count of people with credit default\")\n",
    "plt.show()"
   ]
  },
  {
   "cell_type": "code",
   "execution_count": 17,
   "id": "327cbe1e",
   "metadata": {},
   "outputs": [
    {
     "data": {
      "image/png": "[encoded data removed]",
      "text/plain": [
       "<Figure size 576x396 with 1 Axes>"
      ]
     },
     "metadata": {},
     "output_type": "display_data"
    }
   ],
   "source": [
    "sns.countplot(x='Job',hue='Credit',data=bank)\n",
    "plt.title(\"Job Type Vs Credit Default\")\n",
    "plt.show()"
   ]
  },
  {
   "cell_type": "code",
   "execution_count": 18,
   "id": "08b55191",
   "metadata": {},
   "outputs": [
    {
     "data": {
      "text/plain": [
       "1    39159\n",
       "2     5237\n",
       "Name: Subscription, dtype: int64"
      ]
     },
     "execution_count": 18,
     "metadata": {},
     "output_type": "execute_result"
    }
   ],
   "source": [
    "cr1=bank.loc[bank['Credit']=='no','Subscription']\n",
    "cr1.value_counts()"
   ]
  },
  {
   "cell_type": "code",
   "execution_count": 19,
   "id": "7eccc944",
   "metadata": {},
   "outputs": [
    {
     "data": {
      "text/plain": [
       "25       44\n",
       "28       46\n",
       "36       25\n",
       "37       53\n",
       "45       36\n",
       "         ..\n",
       "44626    31\n",
       "44629    28\n",
       "44836    33\n",
       "44908    48\n",
       "44964    21\n",
       "Name: Age, Length: 3766, dtype: int64"
      ]
     },
     "execution_count": 19,
     "metadata": {},
     "output_type": "execute_result"
    }
   ],
   "source": [
    "bal=bank[bank['Balance (euros)']<0]['Balance (euros)']\n",
    "ag=bank[bank['Balance (euros)']<0]['Age']\n",
    "bal\n",
    "ag"
   ]
  },
  {
   "cell_type": "code",
   "execution_count": 20,
   "id": "e007428c",
   "metadata": {},
   "outputs": [
    {
     "data": {
      "image/png": "[encoded data removed]",
      "text/plain": [
       "<Figure size 432x432 with 3 Axes>"
      ]
     },
     "metadata": {},
     "output_type": "display_data"
    }
   ],
   "source": [
    "sns.jointplot(y=bal,x=ag,hue='Subscription',data=bank)\n",
    "plt.title(\"Subscription Count Vs Negative Bank Balance\")\n",
    "plt.show()"
   ]
  },
  {
   "cell_type": "code",
   "execution_count": 21,
   "id": "398bf11f",
   "metadata": {},
   "outputs": [
    {
     "data": {
      "image/png": "[encoded data removed]",
      "text/plain": [
       "<Figure size 432x432 with 3 Axes>"
      ]
     },
     "metadata": {},
     "output_type": "display_data"
    }
   ],
   "source": [
    "sns.jointplot(y=bank['Balance (euros)'],x=bank['Age'],hue='Subscription',data=bank)\n",
    "plt.title(\"Subscription Count Vs Bank Balance\")\n",
    "plt.show()"
   ]
  },
  {
   "cell_type": "code",
   "execution_count": 22,
   "id": "4bed16a8",
   "metadata": {},
   "outputs": [
    {
     "data": {
      "image/png": "[encoded data removed]",
      "text/plain": [
       "<Figure size 576x396 with 1 Axes>"
      ]
     },
     "metadata": {},
     "output_type": "display_data"
    }
   ],
   "source": [
    "sns.countplot(x='Subscription',hue='Marital Status',data=bank)\n",
    "plt.title(\"Subscription Count Vs Marital Status\")\n",
    "plt.show()"
   ]
  },
  {
   "cell_type": "code",
   "execution_count": 23,
   "id": "a7aa0198",
   "metadata": {},
   "outputs": [
    {
     "data": {
      "image/png": "[encoded data removed]",
      "text/plain": [
       "<Figure size 576x396 with 1 Axes>"
      ]
     },
     "metadata": {},
     "output_type": "display_data"
    }
   ],
   "source": [
    "sns.kdeplot(bank.loc[bank['Subscription']==1,'Age'],label='Subscribed')\n",
    "sns.kdeplot(bank.loc[bank['Subscription']==2,'Age'],label='Not Subscribed')\n",
    "plt.title(\"Subscription Count Vs Age\")\n",
    "plt.legend()\n",
    "plt.show()\n"
   ]
  },
  {
   "cell_type": "code",
   "execution_count": 24,
   "id": "40a63d48",
   "metadata": {},
   "outputs": [
    {
     "data": {
      "image/png": "[encoded data removed]",
      "text/plain": [
       "<Figure size 360x360 with 1 Axes>"
      ]
     },
     "metadata": {},
     "output_type": "display_data"
    }
   ],
   "source": [
    "sns.catplot(y='Previous',x='Poutcome',data=bank)\n",
    "plt.title(\"Outcome based on previous campaign\")\n",
    "plt.show()"
   ]
  },
  {
   "cell_type": "code",
   "execution_count": 25,
   "id": "dae44e3f",
   "metadata": {},
   "outputs": [
    {
     "data": {
      "text/plain": [
       "unknown    36959\n",
       "failure     4901\n",
       "other       1840\n",
       "success     1511\n",
       "Name: Poutcome, dtype: int64"
      ]
     },
     "execution_count": 25,
     "metadata": {},
     "output_type": "execute_result"
    }
   ],
   "source": [
    "s=bank['Poutcome'].value_counts()\n",
    "bank['Poutcome'].value_counts()"
   ]
  },
  {
   "cell_type": "code",
   "execution_count": 26,
   "id": "c1a1b0ac",
   "metadata": {},
   "outputs": [
    {
     "data": {
      "image/png": "[encoded data removed]",
      "text/plain": [
       "<Figure size 576x396 with 1 Axes>"
      ]
     },
     "metadata": {},
     "output_type": "display_data"
    }
   ],
   "source": [
    "plt.style.use('seaborn')\n",
    "plt.pie(s,labels=bank.Poutcome.unique(), autopct='%.2f')\n",
    "plt.title('Previous Campaign Outcome Status Pie Chart')\n",
    "plt.show()"
   ]
  },
  {
   "cell_type": "code",
   "execution_count": 27,
   "id": "4699dc12",
   "metadata": {},
   "outputs": [
    {
     "data": {
      "image/png": "[encoded data removed]",
      "text/plain": [
       "<Figure size 576x396 with 1 Axes>"
      ]
     },
     "metadata": {},
     "output_type": "display_data"
    }
   ],
   "source": [
    "sns.countplot(x='Education',hue='Subscription',data=bank)\n",
    "plt.title(\"Subscription Count Vs Education\")\n",
    "plt.show()"
   ]
  },
  {
   "cell_type": "code",
   "execution_count": 28,
   "id": "13847f33",
   "metadata": {},
   "outputs": [
    {
     "data": {
      "text/plain": [
       "<AxesSubplot:xlabel='Campaign', ylabel='Count'>"
      ]
     },
     "execution_count": 28,
     "metadata": {},
     "output_type": "execute_result"
    },
    {
     "data": {
      "image/png": "[encoded data removed]",
      "text/plain": [
       "<Figure size 576x396 with 1 Axes>"
      ]
     },
     "metadata": {},
     "output_type": "display_data"
    }
   ],
   "source": [
    "sns.histplot(x='Campaign',bins=5,data=bank)"
   ]
  },
  {
   "cell_type": "code",
   "execution_count": 29,
   "id": "3863eb89",
   "metadata": {},
   "outputs": [
    {
     "data": {
      "image/png": "[encoded data removed]",
      "text/plain": [
       "<Figure size 432x432 with 3 Axes>"
      ]
     },
     "metadata": {},
     "output_type": "display_data"
    }
   ],
   "source": [
    "sns.jointplot(y='Campaign',x='Pdays',hue='Poutcome',data=bank)\n",
    "plt.title(\"Current campaign counts Vs Days after previous campaign and previous outcome \")\n",
    "plt.show()"
   ]
  },
  {
   "cell_type": "code",
   "execution_count": 30,
   "id": "57ac8838",
   "metadata": {},
   "outputs": [
    {
     "data": {
      "text/plain": [
       "-1      36954\n",
       " 182      167\n",
       " 92       147\n",
       " 91       126\n",
       " 183      126\n",
       "        ...  \n",
       " 465        1\n",
       " 529        1\n",
       " 18         1\n",
       " 434        1\n",
       " 831        1\n",
       "Name: Pdays, Length: 559, dtype: int64"
      ]
     },
     "execution_count": 30,
     "metadata": {},
     "output_type": "execute_result"
    }
   ],
   "source": [
    "bank.Pdays.value_counts()\n",
    "#-1 indicates that the client was not previously contacted"
   ]
  },
  {
   "cell_type": "code",
   "execution_count": 31,
   "id": "61967b79",
   "metadata": {},
   "outputs": [
    {
     "data": {
      "image/png": "[encoded data removed]",
      "text/plain": [
       "<Figure size 576x396 with 1 Axes>"
      ]
     },
     "metadata": {},
     "output_type": "display_data"
    },
    {
     "data": {
      "text/plain": [
       "36954"
      ]
     },
     "execution_count": 31,
     "metadata": {},
     "output_type": "execute_result"
    }
   ],
   "source": [
    "p=bank[bank['Pdays']==-1]['Campaign']\n",
    "sns.countplot(x=p,hue='Subscription',data=bank,orient='h')\n",
    "plt.title(\"Current campaign outcome for new customers \")\n",
    "plt.xlabel(\"Campaign count for new customers\")\n",
    "plt.show()\n",
    "len(p)"
   ]
  },
  {
   "cell_type": "code",
   "execution_count": 32,
   "id": "cc94f953",
   "metadata": {},
   "outputs": [
    {
     "data": {
      "image/png": "[encoded data removed]",
      "text/plain": [
       "<Figure size 576x396 with 1 Axes>"
      ]
     },
     "metadata": {},
     "output_type": "display_data"
    }
   ],
   "source": [
    "sns.countplot(x='Housing Loan',hue='Subscription',data=bank)\n",
    "plt.title(\"HousingLoan and Subscription Status \")\n",
    "plt.show()"
   ]
  },
  {
   "cell_type": "code",
   "execution_count": 33,
   "id": "3cbb9d0f",
   "metadata": {},
   "outputs": [
    {
     "data": {
      "image/png": "[encoded data removed]",
      "text/plain": [
       "<Figure size 576x396 with 1 Axes>"
      ]
     },
     "metadata": {},
     "output_type": "display_data"
    }
   ],
   "source": [
    "sns.countplot(x='Personal Loan',hue='Subscription',data=bank)\n",
    "plt.title(\"PersonalLoan and Subscription Status \")\n",
    "plt.show()"
   ]
  },
  {
   "cell_type": "code",
   "execution_count": 34,
   "id": "1421dccb",
   "metadata": {},
   "outputs": [
    {
     "data": {
      "text/html": [
       "<div>\n",
       "<style scoped>\n",
       "    .dataframe tbody tr th:only-of-type {\n",
       "        vertical-align: middle;\n",
       "    }\n",
       "\n",
       "    .dataframe tbody tr th {\n",
       "        vertical-align: top;\n",
       "    }\n",
       "\n",
       "    .dataframe thead th {\n",
       "        text-align: right;\n",
       "    }\n",
       "</style>\n",
       "<table border=\"1\" class=\"dataframe\">\n",
       "  <thead>\n",
       "    <tr style=\"text-align: right;\">\n",
       "      <th></th>\n",
       "      <th>Age</th>\n",
       "      <th>Job</th>\n",
       "      <th>Marital Status</th>\n",
       "      <th>Education</th>\n",
       "      <th>Credit</th>\n",
       "      <th>Balance (euros)</th>\n",
       "      <th>Housing Loan</th>\n",
       "      <th>Personal Loan</th>\n",
       "      <th>Last Contact Day</th>\n",
       "      <th>Last Contact Month</th>\n",
       "      <th>Last Contact Duration</th>\n",
       "      <th>Campaign</th>\n",
       "      <th>Pdays</th>\n",
       "      <th>Previous</th>\n",
       "      <th>Poutcome</th>\n",
       "      <th>Subscription</th>\n",
       "    </tr>\n",
       "  </thead>\n",
       "  <tbody>\n",
       "    <tr>\n",
       "      <th>0</th>\n",
       "      <td>58</td>\n",
       "      <td>management</td>\n",
       "      <td>married</td>\n",
       "      <td>tertiary</td>\n",
       "      <td>no</td>\n",
       "      <td>2143</td>\n",
       "      <td>yes</td>\n",
       "      <td>no</td>\n",
       "      <td>5</td>\n",
       "      <td>may</td>\n",
       "      <td>261</td>\n",
       "      <td>1</td>\n",
       "      <td>-1</td>\n",
       "      <td>0</td>\n",
       "      <td>unknown</td>\n",
       "      <td>1</td>\n",
       "    </tr>\n",
       "    <tr>\n",
       "      <th>1</th>\n",
       "      <td>44</td>\n",
       "      <td>technician</td>\n",
       "      <td>single</td>\n",
       "      <td>secondary</td>\n",
       "      <td>no</td>\n",
       "      <td>29</td>\n",
       "      <td>yes</td>\n",
       "      <td>no</td>\n",
       "      <td>5</td>\n",
       "      <td>may</td>\n",
       "      <td>151</td>\n",
       "      <td>1</td>\n",
       "      <td>-1</td>\n",
       "      <td>0</td>\n",
       "      <td>unknown</td>\n",
       "      <td>1</td>\n",
       "    </tr>\n",
       "    <tr>\n",
       "      <th>2</th>\n",
       "      <td>33</td>\n",
       "      <td>entrepreneur</td>\n",
       "      <td>married</td>\n",
       "      <td>secondary</td>\n",
       "      <td>no</td>\n",
       "      <td>2</td>\n",
       "      <td>yes</td>\n",
       "      <td>yes</td>\n",
       "      <td>5</td>\n",
       "      <td>may</td>\n",
       "      <td>76</td>\n",
       "      <td>1</td>\n",
       "      <td>-1</td>\n",
       "      <td>0</td>\n",
       "      <td>unknown</td>\n",
       "      <td>1</td>\n",
       "    </tr>\n",
       "    <tr>\n",
       "      <th>3</th>\n",
       "      <td>47</td>\n",
       "      <td>blue-collar</td>\n",
       "      <td>married</td>\n",
       "      <td>unknown</td>\n",
       "      <td>no</td>\n",
       "      <td>1506</td>\n",
       "      <td>yes</td>\n",
       "      <td>no</td>\n",
       "      <td>5</td>\n",
       "      <td>may</td>\n",
       "      <td>92</td>\n",
       "      <td>1</td>\n",
       "      <td>-1</td>\n",
       "      <td>0</td>\n",
       "      <td>unknown</td>\n",
       "      <td>1</td>\n",
       "    </tr>\n",
       "    <tr>\n",
       "      <th>4</th>\n",
       "      <td>33</td>\n",
       "      <td>unknown</td>\n",
       "      <td>single</td>\n",
       "      <td>unknown</td>\n",
       "      <td>no</td>\n",
       "      <td>1</td>\n",
       "      <td>no</td>\n",
       "      <td>no</td>\n",
       "      <td>5</td>\n",
       "      <td>may</td>\n",
       "      <td>198</td>\n",
       "      <td>1</td>\n",
       "      <td>-1</td>\n",
       "      <td>0</td>\n",
       "      <td>unknown</td>\n",
       "      <td>1</td>\n",
       "    </tr>\n",
       "  </tbody>\n",
       "</table>\n",
       "</div>"
      ],
      "text/plain": [
       "   Age           Job Marital Status  Education Credit  Balance (euros)  \\\n",
       "0   58    management        married   tertiary     no             2143   \n",
       "1   44    technician         single  secondary     no               29   \n",
       "2   33  entrepreneur        married  secondary     no                2   \n",
       "3   47   blue-collar        married    unknown     no             1506   \n",
       "4   33       unknown         single    unknown     no                1   \n",
       "\n",
       "  Housing Loan Personal Loan  Last Contact Day Last Contact Month  \\\n",
       "0          yes            no                 5                may   \n",
       "1          yes            no                 5                may   \n",
       "2          yes           yes                 5                may   \n",
       "3          yes            no                 5                may   \n",
       "4           no            no                 5                may   \n",
       "\n",
       "   Last Contact Duration  Campaign  Pdays  Previous Poutcome  Subscription  \n",
       "0                    261         1     -1         0  unknown             1  \n",
       "1                    151         1     -1         0  unknown             1  \n",
       "2                     76         1     -1         0  unknown             1  \n",
       "3                     92         1     -1         0  unknown             1  \n",
       "4                    198         1     -1         0  unknown             1  "
      ]
     },
     "execution_count": 34,
     "metadata": {},
     "output_type": "execute_result"
    }
   ],
   "source": [
    "bank.head()"
   ]
  },
  {
   "cell_type": "code",
   "execution_count": 35,
   "id": "e01a7a7a",
   "metadata": {},
   "outputs": [
    {
     "data": {
      "text/plain": [
       "Age                       int64\n",
       "Job                      object\n",
       "Marital Status           object\n",
       "Education                object\n",
       "Credit                   object\n",
       "Balance (euros)           int64\n",
       "Housing Loan             object\n",
       "Personal Loan            object\n",
       "Last Contact Day          int64\n",
       "Last Contact Month       object\n",
       "Last Contact Duration     int64\n",
       "Campaign                  int64\n",
       "Pdays                     int64\n",
       "Previous                  int64\n",
       "Poutcome                 object\n",
       "Subscription              int64\n",
       "dtype: object"
      ]
     },
     "execution_count": 35,
     "metadata": {},
     "output_type": "execute_result"
    }
   ],
   "source": [
    "bank.dtypes\n"
   ]
  },
  {
   "cell_type": "markdown",
   "id": "f66d6797",
   "metadata": {},
   "source": [
    "# Data Encoding"
   ]
  },
  {
   "cell_type": "code",
   "execution_count": 36,
   "id": "446c6f3d",
   "metadata": {},
   "outputs": [],
   "source": [
    "# Defining the function\n",
    "def dummies(x,df):\n",
    "    temp = pd.get_dummies(df[x], drop_first = True)\n",
    "    df = pd.concat([df, temp], axis = 1)\n",
    "    df.drop([x], axis = 1, inplace = True)\n",
    "    return df\n",
    "# Applying the function to bank\n",
    "bank = dummies('Job',bank)\n",
    "bank = dummies('Marital Status',bank)\n",
    "bank = dummies('Education',bank)\n",
    "bank = dummies('Last Contact Month',bank)\n"
   ]
  },
  {
   "cell_type": "code",
   "execution_count": 37,
   "id": "d14098d7",
   "metadata": {},
   "outputs": [
    {
     "data": {
      "text/html": [
       "<div>\n",
       "<style scoped>\n",
       "    .dataframe tbody tr th:only-of-type {\n",
       "        vertical-align: middle;\n",
       "    }\n",
       "\n",
       "    .dataframe tbody tr th {\n",
       "        vertical-align: top;\n",
       "    }\n",
       "\n",
       "    .dataframe thead th {\n",
       "        text-align: right;\n",
       "    }\n",
       "</style>\n",
       "<table border=\"1\" class=\"dataframe\">\n",
       "  <thead>\n",
       "    <tr style=\"text-align: right;\">\n",
       "      <th></th>\n",
       "      <th>Age</th>\n",
       "      <th>Credit</th>\n",
       "      <th>Balance (euros)</th>\n",
       "      <th>Housing Loan</th>\n",
       "      <th>Personal Loan</th>\n",
       "      <th>Last Contact Day</th>\n",
       "      <th>Last Contact Duration</th>\n",
       "      <th>Campaign</th>\n",
       "      <th>Pdays</th>\n",
       "      <th>Previous</th>\n",
       "      <th>...</th>\n",
       "      <th>dec</th>\n",
       "      <th>feb</th>\n",
       "      <th>jan</th>\n",
       "      <th>jul</th>\n",
       "      <th>jun</th>\n",
       "      <th>mar</th>\n",
       "      <th>may</th>\n",
       "      <th>nov</th>\n",
       "      <th>oct</th>\n",
       "      <th>sep</th>\n",
       "    </tr>\n",
       "  </thead>\n",
       "  <tbody>\n",
       "    <tr>\n",
       "      <th>0</th>\n",
       "      <td>58</td>\n",
       "      <td>0</td>\n",
       "      <td>2143</td>\n",
       "      <td>1</td>\n",
       "      <td>0</td>\n",
       "      <td>5</td>\n",
       "      <td>261</td>\n",
       "      <td>1</td>\n",
       "      <td>-1</td>\n",
       "      <td>0</td>\n",
       "      <td>...</td>\n",
       "      <td>0</td>\n",
       "      <td>0</td>\n",
       "      <td>0</td>\n",
       "      <td>0</td>\n",
       "      <td>0</td>\n",
       "      <td>0</td>\n",
       "      <td>1</td>\n",
       "      <td>0</td>\n",
       "      <td>0</td>\n",
       "      <td>0</td>\n",
       "    </tr>\n",
       "    <tr>\n",
       "      <th>1</th>\n",
       "      <td>44</td>\n",
       "      <td>0</td>\n",
       "      <td>29</td>\n",
       "      <td>1</td>\n",
       "      <td>0</td>\n",
       "      <td>5</td>\n",
       "      <td>151</td>\n",
       "      <td>1</td>\n",
       "      <td>-1</td>\n",
       "      <td>0</td>\n",
       "      <td>...</td>\n",
       "      <td>0</td>\n",
       "      <td>0</td>\n",
       "      <td>0</td>\n",
       "      <td>0</td>\n",
       "      <td>0</td>\n",
       "      <td>0</td>\n",
       "      <td>1</td>\n",
       "      <td>0</td>\n",
       "      <td>0</td>\n",
       "      <td>0</td>\n",
       "    </tr>\n",
       "    <tr>\n",
       "      <th>2</th>\n",
       "      <td>33</td>\n",
       "      <td>0</td>\n",
       "      <td>2</td>\n",
       "      <td>1</td>\n",
       "      <td>1</td>\n",
       "      <td>5</td>\n",
       "      <td>76</td>\n",
       "      <td>1</td>\n",
       "      <td>-1</td>\n",
       "      <td>0</td>\n",
       "      <td>...</td>\n",
       "      <td>0</td>\n",
       "      <td>0</td>\n",
       "      <td>0</td>\n",
       "      <td>0</td>\n",
       "      <td>0</td>\n",
       "      <td>0</td>\n",
       "      <td>1</td>\n",
       "      <td>0</td>\n",
       "      <td>0</td>\n",
       "      <td>0</td>\n",
       "    </tr>\n",
       "    <tr>\n",
       "      <th>3</th>\n",
       "      <td>47</td>\n",
       "      <td>0</td>\n",
       "      <td>1506</td>\n",
       "      <td>1</td>\n",
       "      <td>0</td>\n",
       "      <td>5</td>\n",
       "      <td>92</td>\n",
       "      <td>1</td>\n",
       "      <td>-1</td>\n",
       "      <td>0</td>\n",
       "      <td>...</td>\n",
       "      <td>0</td>\n",
       "      <td>0</td>\n",
       "      <td>0</td>\n",
       "      <td>0</td>\n",
       "      <td>0</td>\n",
       "      <td>0</td>\n",
       "      <td>1</td>\n",
       "      <td>0</td>\n",
       "      <td>0</td>\n",
       "      <td>0</td>\n",
       "    </tr>\n",
       "    <tr>\n",
       "      <th>4</th>\n",
       "      <td>33</td>\n",
       "      <td>0</td>\n",
       "      <td>1</td>\n",
       "      <td>0</td>\n",
       "      <td>0</td>\n",
       "      <td>5</td>\n",
       "      <td>198</td>\n",
       "      <td>1</td>\n",
       "      <td>-1</td>\n",
       "      <td>0</td>\n",
       "      <td>...</td>\n",
       "      <td>0</td>\n",
       "      <td>0</td>\n",
       "      <td>0</td>\n",
       "      <td>0</td>\n",
       "      <td>0</td>\n",
       "      <td>0</td>\n",
       "      <td>1</td>\n",
       "      <td>0</td>\n",
       "      <td>0</td>\n",
       "      <td>0</td>\n",
       "    </tr>\n",
       "  </tbody>\n",
       "</table>\n",
       "<p>5 rows × 39 columns</p>\n",
       "</div>"
      ],
      "text/plain": [
       "   Age  Credit  Balance (euros)  Housing Loan  Personal Loan  \\\n",
       "0   58       0             2143             1              0   \n",
       "1   44       0               29             1              0   \n",
       "2   33       0                2             1              1   \n",
       "3   47       0             1506             1              0   \n",
       "4   33       0                1             0              0   \n",
       "\n",
       "   Last Contact Day  Last Contact Duration  Campaign  Pdays  Previous  ...  \\\n",
       "0                 5                    261         1     -1         0  ...   \n",
       "1                 5                    151         1     -1         0  ...   \n",
       "2                 5                     76         1     -1         0  ...   \n",
       "3                 5                     92         1     -1         0  ...   \n",
       "4                 5                    198         1     -1         0  ...   \n",
       "\n",
       "   dec  feb  jan  jul  jun  mar  may  nov  oct  sep  \n",
       "0    0    0    0    0    0    0    1    0    0    0  \n",
       "1    0    0    0    0    0    0    1    0    0    0  \n",
       "2    0    0    0    0    0    0    1    0    0    0  \n",
       "3    0    0    0    0    0    0    1    0    0    0  \n",
       "4    0    0    0    0    0    0    1    0    0    0  \n",
       "\n",
       "[5 rows x 39 columns]"
      ]
     },
     "execution_count": 37,
     "metadata": {},
     "output_type": "execute_result"
    }
   ],
   "source": [
    "label=LabelEncoder()\n",
    "def l_encoder(x,df):\n",
    "    df[x]=label.fit_transform(df[x])\n",
    "    return df\n",
    "\n",
    "bank = l_encoder('Credit',bank)\n",
    "bank = l_encoder('Housing Loan',bank)\n",
    "bank = l_encoder('Personal Loan',bank)\n",
    "bank = l_encoder('Poutcome',bank)\n",
    "bank.head()"
   ]
  },
  {
   "cell_type": "code",
   "execution_count": 38,
   "id": "4fd0b947",
   "metadata": {},
   "outputs": [
    {
     "data": {
      "text/plain": [
       "Age                      int64\n",
       "Credit                   int32\n",
       "Balance (euros)          int64\n",
       "Housing Loan             int32\n",
       "Personal Loan            int32\n",
       "Last Contact Day         int64\n",
       "Last Contact Duration    int64\n",
       "Campaign                 int64\n",
       "Pdays                    int64\n",
       "Previous                 int64\n",
       "Poutcome                 int32\n",
       "Subscription             int64\n",
       "blue-collar              uint8\n",
       "entrepreneur             uint8\n",
       "housemaid                uint8\n",
       "management               uint8\n",
       "retired                  uint8\n",
       "self-employed            uint8\n",
       "services                 uint8\n",
       "student                  uint8\n",
       "technician               uint8\n",
       "unemployed               uint8\n",
       "unknown                  uint8\n",
       "married                  uint8\n",
       "single                   uint8\n",
       "secondary                uint8\n",
       "tertiary                 uint8\n",
       "unknown                  uint8\n",
       "aug                      uint8\n",
       "dec                      uint8\n",
       "feb                      uint8\n",
       "jan                      uint8\n",
       "jul                      uint8\n",
       "jun                      uint8\n",
       "mar                      uint8\n",
       "may                      uint8\n",
       "nov                      uint8\n",
       "oct                      uint8\n",
       "sep                      uint8\n",
       "dtype: object"
      ]
     },
     "execution_count": 38,
     "metadata": {},
     "output_type": "execute_result"
    }
   ],
   "source": [
    "bank.dtypes"
   ]
  },
  {
   "cell_type": "code",
   "execution_count": 39,
   "id": "3c5d9a78",
   "metadata": {},
   "outputs": [
    {
     "data": {
      "text/plain": [
       "0        1\n",
       "1        1\n",
       "2        1\n",
       "3        1\n",
       "4        0\n",
       "        ..\n",
       "45206    0\n",
       "45207    0\n",
       "45208    0\n",
       "45209    0\n",
       "45210    0\n",
       "Name: Loan, Length: 45211, dtype: int64"
      ]
     },
     "execution_count": 39,
     "metadata": {},
     "output_type": "execute_result"
    }
   ],
   "source": [
    "def add_loans(loan):\n",
    "    x=loan[0]+loan[1]\n",
    "    if (x==0):\n",
    "        return 0\n",
    "    else:\n",
    "        return 1\n",
    "    \n",
    "bank['Loan']=bank[['Housing Loan','Personal Loan']].apply(add_loans,axis=1)\n",
    "bank['Loan']"
   ]
  },
  {
   "cell_type": "code",
   "execution_count": 40,
   "id": "394d2d31",
   "metadata": {},
   "outputs": [
    {
     "data": {
      "text/html": [
       "<div>\n",
       "<style scoped>\n",
       "    .dataframe tbody tr th:only-of-type {\n",
       "        vertical-align: middle;\n",
       "    }\n",
       "\n",
       "    .dataframe tbody tr th {\n",
       "        vertical-align: top;\n",
       "    }\n",
       "\n",
       "    .dataframe thead th {\n",
       "        text-align: right;\n",
       "    }\n",
       "</style>\n",
       "<table border=\"1\" class=\"dataframe\">\n",
       "  <thead>\n",
       "    <tr style=\"text-align: right;\">\n",
       "      <th></th>\n",
       "      <th>Age</th>\n",
       "      <th>Credit</th>\n",
       "      <th>Balance (euros)</th>\n",
       "      <th>Housing Loan</th>\n",
       "      <th>Personal Loan</th>\n",
       "      <th>Last Contact Day</th>\n",
       "      <th>Last Contact Duration</th>\n",
       "      <th>Campaign</th>\n",
       "      <th>Pdays</th>\n",
       "      <th>Previous</th>\n",
       "      <th>...</th>\n",
       "      <th>feb</th>\n",
       "      <th>jan</th>\n",
       "      <th>jul</th>\n",
       "      <th>jun</th>\n",
       "      <th>mar</th>\n",
       "      <th>may</th>\n",
       "      <th>nov</th>\n",
       "      <th>oct</th>\n",
       "      <th>sep</th>\n",
       "      <th>Loan</th>\n",
       "    </tr>\n",
       "  </thead>\n",
       "  <tbody>\n",
       "    <tr>\n",
       "      <th>0</th>\n",
       "      <td>58</td>\n",
       "      <td>0</td>\n",
       "      <td>2143</td>\n",
       "      <td>1</td>\n",
       "      <td>0</td>\n",
       "      <td>5</td>\n",
       "      <td>261</td>\n",
       "      <td>1</td>\n",
       "      <td>-1</td>\n",
       "      <td>0</td>\n",
       "      <td>...</td>\n",
       "      <td>0</td>\n",
       "      <td>0</td>\n",
       "      <td>0</td>\n",
       "      <td>0</td>\n",
       "      <td>0</td>\n",
       "      <td>1</td>\n",
       "      <td>0</td>\n",
       "      <td>0</td>\n",
       "      <td>0</td>\n",
       "      <td>1</td>\n",
       "    </tr>\n",
       "    <tr>\n",
       "      <th>1</th>\n",
       "      <td>44</td>\n",
       "      <td>0</td>\n",
       "      <td>29</td>\n",
       "      <td>1</td>\n",
       "      <td>0</td>\n",
       "      <td>5</td>\n",
       "      <td>151</td>\n",
       "      <td>1</td>\n",
       "      <td>-1</td>\n",
       "      <td>0</td>\n",
       "      <td>...</td>\n",
       "      <td>0</td>\n",
       "      <td>0</td>\n",
       "      <td>0</td>\n",
       "      <td>0</td>\n",
       "      <td>0</td>\n",
       "      <td>1</td>\n",
       "      <td>0</td>\n",
       "      <td>0</td>\n",
       "      <td>0</td>\n",
       "      <td>1</td>\n",
       "    </tr>\n",
       "    <tr>\n",
       "      <th>2</th>\n",
       "      <td>33</td>\n",
       "      <td>0</td>\n",
       "      <td>2</td>\n",
       "      <td>1</td>\n",
       "      <td>1</td>\n",
       "      <td>5</td>\n",
       "      <td>76</td>\n",
       "      <td>1</td>\n",
       "      <td>-1</td>\n",
       "      <td>0</td>\n",
       "      <td>...</td>\n",
       "      <td>0</td>\n",
       "      <td>0</td>\n",
       "      <td>0</td>\n",
       "      <td>0</td>\n",
       "      <td>0</td>\n",
       "      <td>1</td>\n",
       "      <td>0</td>\n",
       "      <td>0</td>\n",
       "      <td>0</td>\n",
       "      <td>1</td>\n",
       "    </tr>\n",
       "    <tr>\n",
       "      <th>3</th>\n",
       "      <td>47</td>\n",
       "      <td>0</td>\n",
       "      <td>1506</td>\n",
       "      <td>1</td>\n",
       "      <td>0</td>\n",
       "      <td>5</td>\n",
       "      <td>92</td>\n",
       "      <td>1</td>\n",
       "      <td>-1</td>\n",
       "      <td>0</td>\n",
       "      <td>...</td>\n",
       "      <td>0</td>\n",
       "      <td>0</td>\n",
       "      <td>0</td>\n",
       "      <td>0</td>\n",
       "      <td>0</td>\n",
       "      <td>1</td>\n",
       "      <td>0</td>\n",
       "      <td>0</td>\n",
       "      <td>0</td>\n",
       "      <td>1</td>\n",
       "    </tr>\n",
       "    <tr>\n",
       "      <th>4</th>\n",
       "      <td>33</td>\n",
       "      <td>0</td>\n",
       "      <td>1</td>\n",
       "      <td>0</td>\n",
       "      <td>0</td>\n",
       "      <td>5</td>\n",
       "      <td>198</td>\n",
       "      <td>1</td>\n",
       "      <td>-1</td>\n",
       "      <td>0</td>\n",
       "      <td>...</td>\n",
       "      <td>0</td>\n",
       "      <td>0</td>\n",
       "      <td>0</td>\n",
       "      <td>0</td>\n",
       "      <td>0</td>\n",
       "      <td>1</td>\n",
       "      <td>0</td>\n",
       "      <td>0</td>\n",
       "      <td>0</td>\n",
       "      <td>0</td>\n",
       "    </tr>\n",
       "  </tbody>\n",
       "</table>\n",
       "<p>5 rows × 40 columns</p>\n",
       "</div>"
      ],
      "text/plain": [
       "   Age  Credit  Balance (euros)  Housing Loan  Personal Loan  \\\n",
       "0   58       0             2143             1              0   \n",
       "1   44       0               29             1              0   \n",
       "2   33       0                2             1              1   \n",
       "3   47       0             1506             1              0   \n",
       "4   33       0                1             0              0   \n",
       "\n",
       "   Last Contact Day  Last Contact Duration  Campaign  Pdays  Previous  ...  \\\n",
       "0                 5                    261         1     -1         0  ...   \n",
       "1                 5                    151         1     -1         0  ...   \n",
       "2                 5                     76         1     -1         0  ...   \n",
       "3                 5                     92         1     -1         0  ...   \n",
       "4                 5                    198         1     -1         0  ...   \n",
       "\n",
       "   feb  jan  jul  jun  mar  may  nov  oct  sep  Loan  \n",
       "0    0    0    0    0    0    1    0    0    0     1  \n",
       "1    0    0    0    0    0    1    0    0    0     1  \n",
       "2    0    0    0    0    0    1    0    0    0     1  \n",
       "3    0    0    0    0    0    1    0    0    0     1  \n",
       "4    0    0    0    0    0    1    0    0    0     0  \n",
       "\n",
       "[5 rows x 40 columns]"
      ]
     },
     "execution_count": 40,
     "metadata": {},
     "output_type": "execute_result"
    }
   ],
   "source": [
    "bank.head()"
   ]
  },
  {
   "cell_type": "markdown",
   "id": "6887bd8f",
   "metadata": {},
   "source": [
    "# Data Preprocessing"
   ]
  },
  {
   "cell_type": "code",
   "execution_count": 41,
   "id": "3020d582",
   "metadata": {},
   "outputs": [
    {
     "name": "stdout",
     "output_type": "stream",
     "text": [
      "45211\n",
      "45211\n"
     ]
    }
   ],
   "source": [
    "#Splitting to x and y \n",
    "X=bank.drop(['Subscription','Housing Loan','Personal Loan'],axis=1)\n",
    "y=bank['Subscription']\n",
    "print(len(X))\n",
    "print(len(y))"
   ]
  },
  {
   "cell_type": "code",
   "execution_count": 42,
   "id": "13ad15f3",
   "metadata": {},
   "outputs": [],
   "source": [
    "#Divide into training and testing set\n",
    "X_train,X_test,y_train,y_test=train_test_split(X,y,test_size=0.3,random_state=7)"
   ]
  },
  {
   "cell_type": "code",
   "execution_count": 43,
   "id": "c504f218",
   "metadata": {},
   "outputs": [
    {
     "data": {
      "text/plain": [
       "array([[-0.17851996, -0.13687553,  0.94171284, ..., -0.13000681,\n",
       "        -0.11213559,  0.78630511],\n",
       "       [ 0.29239954, -0.13687553, -0.23843122, ..., -0.13000681,\n",
       "        -0.11213559, -1.27177096],\n",
       "       [ 0.48076734, -0.13687553, -0.31005466, ..., -0.13000681,\n",
       "        -0.11213559,  0.78630511],\n",
       "       ...,\n",
       "       [-0.36688777, -0.13687553, -0.42668917, ..., -0.13000681,\n",
       "        -0.11213559,  0.78630511],\n",
       "       [ 0.66913514, -0.13687553, -0.37083602, ..., -0.13000681,\n",
       "        -0.11213559,  0.78630511],\n",
       "       [ 0.38658344, -0.13687553,  0.15582626, ..., -0.13000681,\n",
       "        -0.11213559, -1.27177096]])"
      ]
     },
     "execution_count": 43,
     "metadata": {},
     "output_type": "execute_result"
    }
   ],
   "source": [
    "#Data Scaling\n",
    "from sklearn.preprocessing import StandardScaler\n",
    "sc=StandardScaler()\n",
    "X_train=sc.fit_transform(X_train)\n",
    "X_test=sc.transform(X_test)\n",
    "X_train"
   ]
  },
  {
   "cell_type": "markdown",
   "id": "6854796e",
   "metadata": {},
   "source": [
    "# Data Modelling"
   ]
  },
  {
   "cell_type": "code",
   "execution_count": 44,
   "id": "2f270fbe",
   "metadata": {},
   "outputs": [
    {
     "data": {
      "text/plain": [
       "GaussianNB()"
      ]
     },
     "execution_count": 44,
     "metadata": {},
     "output_type": "execute_result"
    }
   ],
   "source": [
    "model_log=LogisticRegression()\n",
    "#model_knn=KNeighborsClassifier(n_neighbors=5)\n",
    "model_rf=RandomForestClassifier(n_estimators=7)\n",
    "model_nb=GaussianNB()\n",
    "model_log.fit(X_train,y_train)\n",
    "#model_knn.fit(X_train,y_train)\n",
    "model_rf.fit(X_train,y_train)\n",
    "model_nb.fit(X_train,y_train)"
   ]
  },
  {
   "cell_type": "markdown",
   "id": "666dddc1",
   "metadata": {},
   "source": [
    "# Predictions"
   ]
  },
  {
   "cell_type": "code",
   "execution_count": 45,
   "id": "d266287a",
   "metadata": {},
   "outputs": [
    {
     "name": "stdout",
     "output_type": "stream",
     "text": [
      "0.8980389265703332\n"
     ]
    }
   ],
   "source": [
    "pred_log=model_log.predict(X_test)\n",
    "print(metrics.accuracy_score(y_test,pred_log))\n",
    "\n"
   ]
  },
  {
   "cell_type": "code",
   "execution_count": 46,
   "id": "f21d61d7",
   "metadata": {},
   "outputs": [],
   "source": [
    "#pred_knn=model_knn.predict(X_test)\n",
    "#print(metrics.accuracy_score(y_test,pred_knn))"
   ]
  },
  {
   "cell_type": "code",
   "execution_count": 47,
   "id": "a487f34f",
   "metadata": {},
   "outputs": [
    {
     "name": "stdout",
     "output_type": "stream",
     "text": [
      "0.8993659687407844\n"
     ]
    }
   ],
   "source": [
    "pred_rf=model_rf.predict(X_test)\n",
    "print(metrics.accuracy_score(y_test,pred_rf))"
   ]
  },
  {
   "cell_type": "code",
   "execution_count": 48,
   "id": "d688c4da",
   "metadata": {},
   "outputs": [
    {
     "name": "stdout",
     "output_type": "stream",
     "text": [
      "0.8620613388381009\n"
     ]
    }
   ],
   "source": [
    "pred_nb=model_nb.predict(X_test)\n",
    "print(metrics.accuracy_score(y_test,pred_nb))"
   ]
  },
  {
   "cell_type": "code",
   "execution_count": 49,
   "id": "f93ebc48",
   "metadata": {},
   "outputs": [
    {
     "data": {
      "text/plain": [
       "array([[11738,   292],\n",
       "       [ 1091,   443]], dtype=int64)"
      ]
     },
     "execution_count": 49,
     "metadata": {},
     "output_type": "execute_result"
    }
   ],
   "source": [
    "cm=confusion_matrix(y_test,pred_log)\n",
    "cm\n"
   ]
  },
  {
   "cell_type": "code",
   "execution_count": 50,
   "id": "dc9552c7",
   "metadata": {},
   "outputs": [
    {
     "name": "stdout",
     "output_type": "stream",
     "text": [
      "              precision    recall  f1-score   support\n",
      "\n",
      "           1       0.91      0.98      0.94     12030\n",
      "           2       0.60      0.29      0.39      1534\n",
      "\n",
      "    accuracy                           0.90     13564\n",
      "   macro avg       0.76      0.63      0.67     13564\n",
      "weighted avg       0.88      0.90      0.88     13564\n",
      "\n"
     ]
    }
   ],
   "source": [
    "print(classification_report(y_test,pred_log))"
   ]
  },
  {
   "cell_type": "code",
   "execution_count": 51,
   "id": "1eb25b8a",
   "metadata": {},
   "outputs": [
    {
     "data": {
      "text/plain": [
       "array([[11571,   459],\n",
       "       [  906,   628]], dtype=int64)"
      ]
     },
     "execution_count": 51,
     "metadata": {},
     "output_type": "execute_result"
    }
   ],
   "source": [
    "cm1=confusion_matrix(y_test,pred_rf)\n",
    "cm1"
   ]
  },
  {
   "cell_type": "code",
   "execution_count": 52,
   "id": "b1c246f0",
   "metadata": {},
   "outputs": [
    {
     "data": {
      "text/plain": [
       "<AxesSubplot:>"
      ]
     },
     "execution_count": 52,
     "metadata": {},
     "output_type": "execute_result"
    },
    {
     "data": {
      "image/png": "[encoded data removed]",
      "text/plain": [
       "<Figure size 576x396 with 2 Axes>"
      ]
     },
     "metadata": {},
     "output_type": "display_data"
    }
   ],
   "source": [
    "sns.heatmap(cm,annot=True)"
   ]
  },
  {
   "cell_type": "code",
   "execution_count": 53,
   "id": "f31e51e7",
   "metadata": {},
   "outputs": [
    {
     "name": "stdout",
     "output_type": "stream",
     "text": [
      "              precision    recall  f1-score   support\n",
      "\n",
      "           1       0.93      0.96      0.94     12030\n",
      "           2       0.58      0.41      0.48      1534\n",
      "\n",
      "    accuracy                           0.90     13564\n",
      "   macro avg       0.75      0.69      0.71     13564\n",
      "weighted avg       0.89      0.90      0.89     13564\n",
      "\n"
     ]
    }
   ],
   "source": [
    "print(classification_report(y_test,pred_rf))"
   ]
  },
  {
   "cell_type": "code",
   "execution_count": 54,
   "id": "c2f14da9",
   "metadata": {},
   "outputs": [
    {
     "data": {
      "text/plain": [
       "0.8980389265703332"
      ]
     },
     "execution_count": 54,
     "metadata": {},
     "output_type": "execute_result"
    }
   ],
   "source": [
    "model_log.score(X_test,y_test)"
   ]
  },
  {
   "cell_type": "code",
   "execution_count": 55,
   "id": "e1681df0",
   "metadata": {},
   "outputs": [
    {
     "data": {
      "text/plain": [
       "0.8993659687407844"
      ]
     },
     "execution_count": 55,
     "metadata": {},
     "output_type": "execute_result"
    }
   ],
   "source": [
    "model_rf.score(X_test,y_test)"
   ]
  },
  {
   "cell_type": "markdown",
   "id": "84ce3f0d",
   "metadata": {},
   "source": [
    "# Handling imbalanced data"
   ]
  },
  {
   "cell_type": "code",
   "execution_count": 56,
   "id": "435de30d",
   "metadata": {},
   "outputs": [],
   "source": [
    "#pip install imbalanced-learn"
   ]
  },
  {
   "cell_type": "code",
   "execution_count": 57,
   "id": "4ce5e138",
   "metadata": {},
   "outputs": [
    {
     "name": "stdout",
     "output_type": "stream",
     "text": [
      "45211\n",
      "45211\n"
     ]
    }
   ],
   "source": [
    "#Splitting to x and y \n",
    "X_new=bank.drop(['Subscription','Housing Loan','Personal Loan'],axis=1)\n",
    "y_new=bank['Subscription']\n",
    "print(len(X))\n",
    "print(len(y))"
   ]
  },
  {
   "cell_type": "code",
   "execution_count": 58,
   "id": "6764935e",
   "metadata": {},
   "outputs": [],
   "source": [
    "#Divide into training and testing set\n",
    "X_train_new,X_test_new,y_train_new,y_test_new=train_test_split(X_new,y_new,test_size=0.3,random_state=7)"
   ]
  },
  {
   "cell_type": "code",
   "execution_count": 59,
   "id": "cdd2f53c",
   "metadata": {},
   "outputs": [
    {
     "data": {
      "text/plain": [
       "1    27892\n",
       "2     3755\n",
       "Name: Subscription, dtype: int64"
      ]
     },
     "execution_count": 59,
     "metadata": {},
     "output_type": "execute_result"
    }
   ],
   "source": [
    "y_train_new.value_counts()"
   ]
  },
  {
   "cell_type": "code",
   "execution_count": 60,
   "id": "5a25da65",
   "metadata": {},
   "outputs": [
    {
     "data": {
      "text/plain": [
       "1    27892\n",
       "2     3755\n",
       "Name: Subscription, dtype: int64"
      ]
     },
     "execution_count": 60,
     "metadata": {},
     "output_type": "execute_result"
    }
   ],
   "source": [
    "#Data Scaling\n",
    "from sklearn.preprocessing import StandardScaler\n",
    "sc=StandardScaler()\n",
    "X_train_new=sc.fit_transform(X_train_new)\n",
    "X_test_new=sc.transform(X_test_new)\n",
    "y_train_new.value_counts()"
   ]
  },
  {
   "cell_type": "code",
   "execution_count": 62,
   "id": "3fed7775",
   "metadata": {},
   "outputs": [],
   "source": [
    "# define undersample strategy\n",
    "from imblearn.under_sampling import RandomUnderSampler\n",
    "undersample = RandomUnderSampler(sampling_strategy='majority')\n"
   ]
  },
  {
   "cell_type": "code",
   "execution_count": 63,
   "id": "b04b187e",
   "metadata": {},
   "outputs": [
    {
     "data": {
      "text/plain": [
       "1    3755\n",
       "2    3755\n",
       "Name: Subscription, dtype: int64"
      ]
     },
     "execution_count": 63,
     "metadata": {},
     "output_type": "execute_result"
    }
   ],
   "source": [
    "X_train_us, y_train_us = undersample.fit_resample(X_train_new, y_train_new)\n",
    "y_train_us.value_counts()"
   ]
  },
  {
   "cell_type": "code",
   "execution_count": 64,
   "id": "71326aa7",
   "metadata": {},
   "outputs": [
    {
     "data": {
      "text/plain": [
       "LogisticRegression()"
      ]
     },
     "execution_count": 64,
     "metadata": {},
     "output_type": "execute_result"
    }
   ],
   "source": [
    "model_log.fit(X_train_us,y_train_us)"
   ]
  },
  {
   "cell_type": "code",
   "execution_count": 65,
   "id": "940b9eb3",
   "metadata": {},
   "outputs": [
    {
     "name": "stdout",
     "output_type": "stream",
     "text": [
      "0.8195222648186375\n"
     ]
    }
   ],
   "source": [
    "pred_log_us=model_log.predict(X_test_new)\n",
    "print(metrics.accuracy_score(y_test_new,pred_log_us))"
   ]
  },
  {
   "cell_type": "code",
   "execution_count": 66,
   "id": "bcc37e18",
   "metadata": {},
   "outputs": [
    {
     "data": {
      "text/plain": [
       "RandomForestClassifier(n_estimators=7)"
      ]
     },
     "execution_count": 66,
     "metadata": {},
     "output_type": "execute_result"
    }
   ],
   "source": [
    "model_rf.fit(X_train_us,y_train_us)"
   ]
  },
  {
   "cell_type": "code",
   "execution_count": 67,
   "id": "246cda52",
   "metadata": {},
   "outputs": [
    {
     "name": "stdout",
     "output_type": "stream",
     "text": [
      "0.805662046593925\n"
     ]
    }
   ],
   "source": [
    "pred_rf_us=model_rf.predict(X_test_new)\n",
    "print(metrics.accuracy_score(y_test_new,pred_rf_us))"
   ]
  },
  {
   "cell_type": "code",
   "execution_count": 68,
   "id": "bd9e61ba",
   "metadata": {},
   "outputs": [
    {
     "data": {
      "text/plain": [
       "array([[9632, 2398],\n",
       "       [ 238, 1296]], dtype=int64)"
      ]
     },
     "execution_count": 68,
     "metadata": {},
     "output_type": "execute_result"
    }
   ],
   "source": [
    "cm1=confusion_matrix(y_test_new,pred_rf_us)\n",
    "cm1"
   ]
  },
  {
   "cell_type": "code",
   "execution_count": 69,
   "id": "f72d5bdf",
   "metadata": {},
   "outputs": [
    {
     "data": {
      "text/plain": [
       "0.805662046593925"
      ]
     },
     "execution_count": 69,
     "metadata": {},
     "output_type": "execute_result"
    }
   ],
   "source": [
    "model_rf.score(X_test_new,y_test_new)"
   ]
  },
  {
   "cell_type": "code",
   "execution_count": 70,
   "id": "79c18a9c",
   "metadata": {},
   "outputs": [
    {
     "name": "stdout",
     "output_type": "stream",
     "text": [
      "              precision    recall  f1-score   support\n",
      "\n",
      "           1       0.97      0.82      0.89     12030\n",
      "           2       0.37      0.82      0.51      1534\n",
      "\n",
      "    accuracy                           0.82     13564\n",
      "   macro avg       0.67      0.82      0.70     13564\n",
      "weighted avg       0.90      0.82      0.85     13564\n",
      "\n"
     ]
    }
   ],
   "source": [
    "print(classification_report(y_test_new,pred_log_us))"
   ]
  },
  {
   "cell_type": "code",
   "execution_count": 71,
   "id": "69d26a0f",
   "metadata": {},
   "outputs": [
    {
     "data": {
      "text/plain": [
       "1    27892\n",
       "2    27892\n",
       "Name: Subscription, dtype: int64"
      ]
     },
     "execution_count": 71,
     "metadata": {},
     "output_type": "execute_result"
    }
   ],
   "source": [
    "from imblearn.over_sampling import SMOTE\n",
    "smote = SMOTE(random_state = 0)\n",
    "X_train_sm, y_train_sm = smote.fit_resample(X_train_new, y_train_new)\n",
    "y_train_sm.value_counts()"
   ]
  },
  {
   "cell_type": "code",
   "execution_count": 72,
   "id": "ef70867b",
   "metadata": {},
   "outputs": [
    {
     "name": "stdout",
     "output_type": "stream",
     "text": [
      "0.8263049248009436\n"
     ]
    }
   ],
   "source": [
    "model_log.fit(X_train_sm,y_train_sm)\n",
    "pred_log_sm=model_log.predict(X_test_new)\n",
    "print(metrics.accuracy_score(y_test_new,pred_log_sm))"
   ]
  },
  {
   "cell_type": "code",
   "execution_count": 73,
   "id": "fba7b3ce",
   "metadata": {},
   "outputs": [
    {
     "name": "stdout",
     "output_type": "stream",
     "text": [
      "0.8839575346505456\n"
     ]
    }
   ],
   "source": [
    "model_rf.fit(X_train_sm,y_train_sm)\n",
    "pred_rf_sm=model_rf.predict(X_test_new)\n",
    "print(metrics.accuracy_score(y_test_new,pred_rf_sm))"
   ]
  },
  {
   "cell_type": "code",
   "execution_count": 74,
   "id": "19af16e3",
   "metadata": {},
   "outputs": [
    {
     "name": "stdout",
     "output_type": "stream",
     "text": [
      "              precision    recall  f1-score   support\n",
      "\n",
      "           1       0.94      0.93      0.93     12030\n",
      "           2       0.49      0.55      0.52      1534\n",
      "\n",
      "    accuracy                           0.88     13564\n",
      "   macro avg       0.72      0.74      0.73     13564\n",
      "weighted avg       0.89      0.88      0.89     13564\n",
      "\n"
     ]
    }
   ],
   "source": [
    "print(classification_report(y_test_new,pred_rf_sm))"
   ]
  },
  {
   "cell_type": "code",
   "execution_count": 75,
   "id": "a311c449",
   "metadata": {},
   "outputs": [
    {
     "name": "stdout",
     "output_type": "stream",
     "text": [
      "              precision    recall  f1-score   support\n",
      "\n",
      "           1       0.97      0.83      0.89     12030\n",
      "           2       0.38      0.81      0.51      1534\n",
      "\n",
      "    accuracy                           0.83     13564\n",
      "   macro avg       0.67      0.82      0.70     13564\n",
      "weighted avg       0.90      0.83      0.85     13564\n",
      "\n"
     ]
    }
   ],
   "source": [
    "print(classification_report(y_test_new,pred_log_sm))"
   ]
  },
  {
   "cell_type": "code",
   "execution_count": 76,
   "id": "c991e470",
   "metadata": {},
   "outputs": [],
   "source": [
    "from sklearn.tree import DecisionTreeClassifier\n",
    "cf=DecisionTreeClassifier(random_state=6)\n",
    "cf.fit(X_train_sm,y_train_sm)\n",
    "pred_dt_sm=cf.predict(X_test_new)"
   ]
  },
  {
   "cell_type": "code",
   "execution_count": 77,
   "id": "f39652ba",
   "metadata": {},
   "outputs": [
    {
     "name": "stdout",
     "output_type": "stream",
     "text": [
      "0.8549100560306694\n"
     ]
    }
   ],
   "source": [
    "print(metrics.accuracy_score(y_test_new,pred_dt_sm))"
   ]
  },
  {
   "cell_type": "code",
   "execution_count": 78,
   "id": "9e76bfb2",
   "metadata": {},
   "outputs": [
    {
     "name": "stdout",
     "output_type": "stream",
     "text": [
      "              precision    recall  f1-score   support\n",
      "\n",
      "           1       0.94      0.89      0.92     12030\n",
      "           2       0.40      0.54      0.46      1534\n",
      "\n",
      "    accuracy                           0.85     13564\n",
      "   macro avg       0.67      0.72      0.69     13564\n",
      "weighted avg       0.88      0.85      0.86     13564\n",
      "\n"
     ]
    }
   ],
   "source": [
    "print(classification_report(y_test_new,pred_dt_sm))"
   ]
  },
  {
   "cell_type": "code",
   "execution_count": 79,
   "id": "89fa5b7b",
   "metadata": {},
   "outputs": [
    {
     "name": "stdout",
     "output_type": "stream",
     "text": [
      "[0.92967713 0.81619111 0.7987171  0.83056846 0.81021898 0.82393276\n",
      " 0.71112586 0.83698297 0.81574873 0.56779474]\n",
      "0.7940957824124306\n"
     ]
    }
   ],
   "source": [
    "from sklearn.model_selection import KFold\n",
    "kfold_validation=KFold(10)\n",
    "from sklearn.model_selection import cross_val_score\n",
    "results=cross_val_score(cf,X,y,cv=kfold_validation)\n",
    "print(results)\n",
    "print(np.mean(results))"
   ]
  },
  {
   "cell_type": "code",
   "execution_count": 80,
   "id": "34be34a2",
   "metadata": {},
   "outputs": [],
   "source": [
    "#test-train+kfold\n",
    "from sklearn.model_selection import ShuffleSplit\n",
    "#model=RFTreeClassifier()\n",
    "ssplit=ShuffleSplit(n_splits=10,test_size=0.30)\n",
    "res=cross_val_score(model_rf,X,y,cv=ssplit)"
   ]
  },
  {
   "cell_type": "code",
   "execution_count": 81,
   "id": "f0a01a62",
   "metadata": {},
   "outputs": [
    {
     "data": {
      "text/plain": [
       "array([0.89516367, 0.89457387, 0.89523739, 0.89730168, 0.89472132,\n",
       "       0.89457387, 0.8946476 , 0.89619581, 0.89899735, 0.89413152])"
      ]
     },
     "execution_count": 81,
     "metadata": {},
     "output_type": "execute_result"
    }
   ],
   "source": [
    "res"
   ]
  },
  {
   "cell_type": "code",
   "execution_count": 82,
   "id": "e715236f",
   "metadata": {},
   "outputs": [
    {
     "data": {
      "text/plain": [
       "1    39922\n",
       "2     5289\n",
       "Name: Subscription, dtype: int64"
      ]
     },
     "execution_count": 82,
     "metadata": {},
     "output_type": "execute_result"
    }
   ],
   "source": [
    "y.value_counts()"
   ]
  },
  {
   "cell_type": "code",
   "execution_count": 83,
   "id": "04588c23",
   "metadata": {},
   "outputs": [
    {
     "data": {
      "text/plain": [
       "1    39922\n",
       "2     5289\n",
       "Name: Subscription, dtype: int64"
      ]
     },
     "execution_count": 83,
     "metadata": {},
     "output_type": "execute_result"
    }
   ],
   "source": [
    "#Data Scaling\n",
    "from sklearn.preprocessing import StandardScaler\n",
    "sc=StandardScaler()\n",
    "Xnew=sc.fit_transform(X)\n",
    "y.value_counts()"
   ]
  },
  {
   "cell_type": "code",
   "execution_count": 84,
   "id": "50c66455",
   "metadata": {},
   "outputs": [
    {
     "data": {
      "text/plain": [
       "1    5289\n",
       "2    5289\n",
       "Name: Subscription, dtype: int64"
      ]
     },
     "execution_count": 84,
     "metadata": {},
     "output_type": "execute_result"
    }
   ],
   "source": [
    "X_us, y_us = undersample.fit_resample(Xnew, y)\n",
    "y_us.value_counts()"
   ]
  },
  {
   "cell_type": "code",
   "execution_count": 85,
   "id": "b4026a12",
   "metadata": {},
   "outputs": [],
   "source": [
    "#test-train+kfold\n",
    "from sklearn.model_selection import ShuffleSplit\n",
    "#model=RandomForestTreeClassifier()\n",
    "ssplit=ShuffleSplit(n_splits=10,test_size=0.30)\n",
    "res=cross_val_score(model_rf,Xnew,y,cv=ssplit)"
   ]
  },
  {
   "cell_type": "code",
   "execution_count": 86,
   "id": "542b2439",
   "metadata": {},
   "outputs": [
    {
     "data": {
      "text/plain": [
       "0.8961884399882042"
      ]
     },
     "execution_count": 86,
     "metadata": {},
     "output_type": "execute_result"
    }
   ],
   "source": [
    "res.mean()"
   ]
  },
  {
   "cell_type": "markdown",
   "id": "80676612",
   "metadata": {},
   "source": [
    "Random Forest Algorithm gives a better and stable score"
   ]
  },
  {
   "cell_type": "code",
   "execution_count": null,
   "id": "b37ff8f3",
   "metadata": {},
   "outputs": [],
   "source": []
  }
 ],
 "metadata": {
  "kernelspec": {
   "display_name": "Python 3 (ipykernel)",
   "language": "python",
   "name": "python3"
  },
  "language_info": {
   "codemirror_mode": {
    "name": "ipython",
    "version": 3
   },
   "file_extension": ".py",
   "mimetype": "text/x-python",
   "name": "python",
   "nbconvert_exporter": "python",
   "pygments_lexer": "ipython3",
   "version": "3.9.7"
  }
 },
 "nbformat": 4,
 "nbformat_minor": 5
}
