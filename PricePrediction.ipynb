{
 "cells": [
  {
   "cell_type": "markdown",
   "id": "d7549b00",
   "metadata": {},
   "source": [
    "Table of Contents\n",
    "\n",
    "    1 Introduction\n",
    "    2 Data Analysis\n",
    "    3 Data Preprocessing\n",
    "    "
   ]
  },
  {
   "cell_type": "markdown",
   "id": "29a18da6",
   "metadata": {},
   "source": [
    "# Introduction"
   ]
  },
  {
   "cell_type": "markdown",
   "id": "ec412566",
   "metadata": {},
   "source": [
    "In this notebook, we will try to predict the price of a laptop using different specifications about the laptop."
   ]
  },
  {
   "cell_type": "markdown",
   "id": "63916bce",
   "metadata": {},
   "source": [
    "# Data Analysis"
   ]
  },
  {
   "cell_type": "code",
   "execution_count": 40,
   "id": "a10e0eb5",
   "metadata": {},
   "outputs": [],
   "source": [
    "import numpy as np\n",
    "import pandas as pd\n",
    "import matplotlib.pyplot as plt\n",
    "import seaborn as sns\n",
    "from sklearn.model_selection import train_test_split\n",
    "from sklearn.preprocessing import MinMaxScaler\n",
    "from sklearn.linear_model import LinearRegression\n",
    "from sklearn.tree import DecisionTreeRegressor\n",
    "from sklearn.model_selection import cross_val_score\n"
   ]
  },
  {
   "cell_type": "code",
   "execution_count": 2,
   "id": "f4488741",
   "metadata": {},
   "outputs": [
    {
     "data": {
      "text/html": [
       "<div>\n",
       "<style scoped>\n",
       "    .dataframe tbody tr th:only-of-type {\n",
       "        vertical-align: middle;\n",
       "    }\n",
       "\n",
       "    .dataframe tbody tr th {\n",
       "        vertical-align: top;\n",
       "    }\n",
       "\n",
       "    .dataframe thead th {\n",
       "        text-align: right;\n",
       "    }\n",
       "</style>\n",
       "<table border=\"1\" class=\"dataframe\">\n",
       "  <thead>\n",
       "    <tr style=\"text-align: right;\">\n",
       "      <th></th>\n",
       "      <th>Unnamed: 0</th>\n",
       "      <th>Name</th>\n",
       "      <th>Processor</th>\n",
       "      <th>RAM</th>\n",
       "      <th>Operating System</th>\n",
       "      <th>Storage</th>\n",
       "      <th>Display</th>\n",
       "      <th>Warranty</th>\n",
       "      <th>Price</th>\n",
       "      <th>rating</th>\n",
       "    </tr>\n",
       "  </thead>\n",
       "  <tbody>\n",
       "    <tr>\n",
       "      <th>0</th>\n",
       "      <td>0</td>\n",
       "      <td>Lenovo Ideapad S145 Core i5 10th Gen - (8 GB/1...</td>\n",
       "      <td>Intel Core i5 Processor (10th Gen)</td>\n",
       "      <td>8 GB DDR4 RAM</td>\n",
       "      <td>64 bit Windows 10 Operating System</td>\n",
       "      <td>1 TB HDD</td>\n",
       "      <td>39.62 cm (15.6 inch) Display</td>\n",
       "      <td>1 Year Onsite Warranty</td>\n",
       "      <td>₹43,990</td>\n",
       "      <td>3.9</td>\n",
       "    </tr>\n",
       "    <tr>\n",
       "      <th>1</th>\n",
       "      <td>1</td>\n",
       "      <td>Lenovo IdeaPad Core i3 11th Gen - (8 GB/256 GB...</td>\n",
       "      <td>Intel Core i3 Processor (11th Gen)</td>\n",
       "      <td>8 GB DDR4 RAM</td>\n",
       "      <td>64 bit Windows 10 Operating System</td>\n",
       "      <td>256 GB SSD</td>\n",
       "      <td>35.56 cm (14 Inch) Display</td>\n",
       "      <td>1 Year Onsite Warranty</td>\n",
       "      <td>₹43,990</td>\n",
       "      <td>4.2</td>\n",
       "    </tr>\n",
       "    <tr>\n",
       "      <th>2</th>\n",
       "      <td>2</td>\n",
       "      <td>HP Pentium Quad Core - (8 GB/256 GB SSD/Window...</td>\n",
       "      <td>Intel Pentium Quad Core Processor</td>\n",
       "      <td>8 GB DDR4 RAM</td>\n",
       "      <td>64 bit Windows 10 Operating System</td>\n",
       "      <td>256 GB SSD</td>\n",
       "      <td>35.56 cm (14 inch) Display</td>\n",
       "      <td>1 Year Onsite Warranty</td>\n",
       "      <td>₹31,490</td>\n",
       "      <td>4.6</td>\n",
       "    </tr>\n",
       "    <tr>\n",
       "      <th>3</th>\n",
       "      <td>3</td>\n",
       "      <td>HP 14s Core i3 11th Gen - (8 GB/256 GB SSD/Win...</td>\n",
       "      <td>Intel Core i3 Processor (11th Gen)</td>\n",
       "      <td>8 GB DDR4 RAM</td>\n",
       "      <td>64 bit Windows 10 Operating System</td>\n",
       "      <td>256 GB SSD</td>\n",
       "      <td>35.56 cm (14 inch) Display</td>\n",
       "      <td>1 Year Onsite Warranty</td>\n",
       "      <td>₹40,990</td>\n",
       "      <td>4.1</td>\n",
       "    </tr>\n",
       "    <tr>\n",
       "      <th>4</th>\n",
       "      <td>4</td>\n",
       "      <td>HP 15s Athlon Dual Core - (4 GB/1 TB HDD/Windo...</td>\n",
       "      <td>AMD Athlon Dual Core Processor</td>\n",
       "      <td>4 GB DDR4 RAM</td>\n",
       "      <td>64 bit Windows 10 Operating System</td>\n",
       "      <td>1 TB HDD</td>\n",
       "      <td>39.62 cm (15.6 inch) Display</td>\n",
       "      <td>1 Year Onsite Warranty</td>\n",
       "      <td>₹27,490</td>\n",
       "      <td>4.1</td>\n",
       "    </tr>\n",
       "  </tbody>\n",
       "</table>\n",
       "</div>"
      ],
      "text/plain": [
       "   Unnamed: 0                                               Name  \\\n",
       "0           0  Lenovo Ideapad S145 Core i5 10th Gen - (8 GB/1...   \n",
       "1           1  Lenovo IdeaPad Core i3 11th Gen - (8 GB/256 GB...   \n",
       "2           2  HP Pentium Quad Core - (8 GB/256 GB SSD/Window...   \n",
       "3           3  HP 14s Core i3 11th Gen - (8 GB/256 GB SSD/Win...   \n",
       "4           4  HP 15s Athlon Dual Core - (4 GB/1 TB HDD/Windo...   \n",
       "\n",
       "                            Processor            RAM  \\\n",
       "0  Intel Core i5 Processor (10th Gen)  8 GB DDR4 RAM   \n",
       "1  Intel Core i3 Processor (11th Gen)  8 GB DDR4 RAM   \n",
       "2   Intel Pentium Quad Core Processor  8 GB DDR4 RAM   \n",
       "3  Intel Core i3 Processor (11th Gen)  8 GB DDR4 RAM   \n",
       "4      AMD Athlon Dual Core Processor  4 GB DDR4 RAM   \n",
       "\n",
       "                     Operating System     Storage  \\\n",
       "0  64 bit Windows 10 Operating System    1 TB HDD   \n",
       "1  64 bit Windows 10 Operating System  256 GB SSD   \n",
       "2  64 bit Windows 10 Operating System  256 GB SSD   \n",
       "3  64 bit Windows 10 Operating System  256 GB SSD   \n",
       "4  64 bit Windows 10 Operating System    1 TB HDD   \n",
       "\n",
       "                        Display                Warranty    Price  rating  \n",
       "0  39.62 cm (15.6 inch) Display  1 Year Onsite Warranty  ₹43,990     3.9  \n",
       "1    35.56 cm (14 Inch) Display  1 Year Onsite Warranty  ₹43,990     4.2  \n",
       "2    35.56 cm (14 inch) Display  1 Year Onsite Warranty  ₹31,490     4.6  \n",
       "3    35.56 cm (14 inch) Display  1 Year Onsite Warranty  ₹40,990     4.1  \n",
       "4  39.62 cm (15.6 inch) Display  1 Year Onsite Warranty  ₹27,490     4.1  "
      ]
     },
     "execution_count": 2,
     "metadata": {},
     "output_type": "execute_result"
    }
   ],
   "source": [
    "#Load Dataset\n",
    "mydata=pd.read_csv('Laptop.csv')\n",
    "mydata.head()"
   ]
  },
  {
   "cell_type": "code",
   "execution_count": 3,
   "id": "a83f3c66",
   "metadata": {},
   "outputs": [
    {
     "data": {
      "text/plain": [
       "(550, 10)"
      ]
     },
     "execution_count": 3,
     "metadata": {},
     "output_type": "execute_result"
    }
   ],
   "source": [
    "mydata.shape"
   ]
  },
  {
   "cell_type": "code",
   "execution_count": 4,
   "id": "30cf2bba",
   "metadata": {},
   "outputs": [
    {
     "data": {
      "text/plain": [
       "Unnamed: 0            int64\n",
       "Name                 object\n",
       "Processor            object\n",
       "RAM                  object\n",
       "Operating System     object\n",
       "Storage              object\n",
       "Display              object\n",
       "Warranty             object\n",
       "Price                object\n",
       "rating              float64\n",
       "dtype: object"
      ]
     },
     "execution_count": 4,
     "metadata": {},
     "output_type": "execute_result"
    }
   ],
   "source": [
    "mydata.dtypes"
   ]
  },
  {
   "cell_type": "code",
   "execution_count": 5,
   "id": "ac316485",
   "metadata": {},
   "outputs": [
    {
     "data": {
      "text/plain": [
       "Unnamed: 0          0\n",
       "Name                0\n",
       "Processor           0\n",
       "RAM                 0\n",
       "Operating System    0\n",
       "Storage             0\n",
       "Display             0\n",
       "Warranty            0\n",
       "Price               0\n",
       "rating              0\n",
       "dtype: int64"
      ]
     },
     "execution_count": 5,
     "metadata": {},
     "output_type": "execute_result"
    }
   ],
   "source": [
    "mydata.isna().sum()"
   ]
  },
  {
   "cell_type": "markdown",
   "id": "316723c6",
   "metadata": {},
   "source": [
    "# Data Preprocessing"
   ]
  },
  {
   "cell_type": "code",
   "execution_count": 6,
   "id": "feb01316",
   "metadata": {},
   "outputs": [
    {
     "data": {
      "text/plain": [
       "(550, 9)"
      ]
     },
     "execution_count": 6,
     "metadata": {},
     "output_type": "execute_result"
    }
   ],
   "source": [
    "mydata.drop(['Unnamed: 0'],inplace=True,axis=1)\n",
    "mydata.shape"
   ]
  },
  {
   "cell_type": "code",
   "execution_count": 7,
   "id": "dc6ad358",
   "metadata": {},
   "outputs": [
    {
     "name": "stderr",
     "output_type": "stream",
     "text": [
      "<ipython-input-7-d8cce618c2f3>:10: SettingWithCopyWarning: \n",
      "A value is trying to be set on a copy of a slice from a DataFrame\n",
      "\n",
      "See the caveats in the documentation: https://pandas.pydata.org/pandas-docs/stable/user_guide/indexing.html#returning-a-view-versus-a-copy\n",
      "  mydata['Operating System'][items]='Windows'\n",
      "<ipython-input-7-d8cce618c2f3>:12: SettingWithCopyWarning: \n",
      "A value is trying to be set on a copy of a slice from a DataFrame\n",
      "\n",
      "See the caveats in the documentation: https://pandas.pydata.org/pandas-docs/stable/user_guide/indexing.html#returning-a-view-versus-a-copy\n",
      "  mydata['Operating System'][items]='Mac'\n",
      "<ipython-input-7-d8cce618c2f3>:16: SettingWithCopyWarning: \n",
      "A value is trying to be set on a copy of a slice from a DataFrame\n",
      "\n",
      "See the caveats in the documentation: https://pandas.pydata.org/pandas-docs/stable/user_guide/indexing.html#returning-a-view-versus-a-copy\n",
      "  mydata['Operating System'][items]='DOS'\n",
      "<ipython-input-7-d8cce618c2f3>:14: SettingWithCopyWarning: \n",
      "A value is trying to be set on a copy of a slice from a DataFrame\n",
      "\n",
      "See the caveats in the documentation: https://pandas.pydata.org/pandas-docs/stable/user_guide/indexing.html#returning-a-view-versus-a-copy\n",
      "  mydata['Operating System'][items]='Chrome'\n"
     ]
    },
    {
     "data": {
      "text/plain": [
       "Windows    525\n",
       "Mac         20\n",
       "Chrome       3\n",
       "DOS          2\n",
       "Name: Operating System, dtype: int64"
      ]
     },
     "execution_count": 7,
     "metadata": {},
     "output_type": "execute_result"
    }
   ],
   "source": [
    "#Operating System\n",
    "x=mydata[mydata['Operating System'].astype(str).str.contains(\"Windows\")]['Operating System'].tolist()\n",
    "y=mydata[mydata['Operating System'].astype(str).str.contains(\"Mac\")]['Operating System'].tolist()\n",
    "z=mydata[mydata['Operating System'].astype(str).str.contains(\"Chrome\")]['Operating System'].tolist()\n",
    "\n",
    "c=mydata['Operating System'].count()\n",
    "#z.value_counts()\n",
    "for items in range(c):\n",
    "    if mydata['Operating System'][items] in x:\n",
    "        mydata['Operating System'][items]='Windows'\n",
    "    elif mydata['Operating System'][items] in y:\n",
    "        mydata['Operating System'][items]='Mac'\n",
    "    elif mydata['Operating System'][items] in z:\n",
    "        mydata['Operating System'][items]='Chrome'\n",
    "    else:\n",
    "        mydata['Operating System'][items]='DOS'\n",
    "        \n",
    "\n",
    "mydata['Operating System'].value_counts()"
   ]
  },
  {
   "cell_type": "code",
   "execution_count": 8,
   "id": "9131a51e",
   "metadata": {},
   "outputs": [
    {
     "name": "stderr",
     "output_type": "stream",
     "text": [
      "<ipython-input-8-ed25b6c8e7f1>:2: FutureWarning: The default value of regex will change from True to False in a future version.\n",
      "  mydata['RAMCapacity']=mydata.RAM.str.replace('\\s.*','')\n"
     ]
    },
    {
     "data": {
      "text/plain": [
       "8             321\n",
       "16            150\n",
       "4              68\n",
       "32              9\n",
       "Upgradable      1\n",
       "12              1\n",
       "Name: RAMCapacity, dtype: int64"
      ]
     },
     "execution_count": 8,
     "metadata": {},
     "output_type": "execute_result"
    }
   ],
   "source": [
    "#RAM Capacity\n",
    "mydata['RAMCapacity']=mydata.RAM.str.replace('\\s.*','')\n",
    "mydata.RAMCapacity.value_counts()"
   ]
  },
  {
   "cell_type": "code",
   "execution_count": 9,
   "id": "5aecea00",
   "metadata": {},
   "outputs": [
    {
     "data": {
      "text/plain": [
       "array(['DDR4 RAM', ' DDR4 RAM', 'LPDDR4X RAM', 'LPDDR3 RAM',\n",
       "       ' LPDDR4X RAM', ' LPDDR3 RAM', 'DDR3 RAM', ' DDR3 RAM',\n",
       "       'dable SSD Upto '], dtype=object)"
      ]
     },
     "execution_count": 9,
     "metadata": {},
     "output_type": "execute_result"
    }
   ],
   "source": [
    "#RAM Type\n",
    "mydata['RAM']=mydata['RAM'].astype(str)\n",
    "mydata['RAMType']=mydata['RAM'].str.slice(5,20,1)\n",
    "mydata.RAMType.unique()"
   ]
  },
  {
   "cell_type": "code",
   "execution_count": 10,
   "id": "450bb208",
   "metadata": {},
   "outputs": [
    {
     "data": {
      "text/plain": [
       "Index(['Name', 'Processor', 'Operating System', 'Storage', 'Display',\n",
       "       'Warranty', 'Price', 'rating', 'RAMCapacity', 'RAMType'],\n",
       "      dtype='object')"
      ]
     },
     "execution_count": 10,
     "metadata": {},
     "output_type": "execute_result"
    }
   ],
   "source": [
    "mydata.drop(['RAM'],inplace=True,axis=1)\n",
    "mydata.columns"
   ]
  },
  {
   "cell_type": "code",
   "execution_count": 11,
   "id": "8c21641e",
   "metadata": {},
   "outputs": [
    {
     "data": {
      "text/plain": [
       "array(['Lenovo', 'HP', 'acer', 'ASUS', 'MSI', 'Avita', 'APPLE', 'DELL',\n",
       "       'LG', 'MICROSOFT', 'Nokia', 'Nexstgo', 'ALIENWARE', 'Vaio'],\n",
       "      dtype=object)"
      ]
     },
     "execution_count": 11,
     "metadata": {},
     "output_type": "execute_result"
    }
   ],
   "source": [
    "#Brand\n",
    "mydata['Brand']=mydata['Name'].apply(lambda x: x.split(' ')[0])\n",
    "mydata.Brand.unique()"
   ]
  },
  {
   "cell_type": "code",
   "execution_count": 12,
   "id": "2857e1e7",
   "metadata": {},
   "outputs": [
    {
     "data": {
      "text/plain": [
       "Index(['Processor', 'Operating System', 'Storage', 'Display', 'Warranty',\n",
       "       'Price', 'rating', 'RAMCapacity', 'RAMType', 'Brand'],\n",
       "      dtype='object')"
      ]
     },
     "execution_count": 12,
     "metadata": {},
     "output_type": "execute_result"
    }
   ],
   "source": [
    "mydata.drop(['Name'],inplace=True,axis=1)\n",
    "mydata.columns"
   ]
  },
  {
   "cell_type": "code",
   "execution_count": 13,
   "id": "ea2d5346",
   "metadata": {},
   "outputs": [
    {
     "data": {
      "text/plain": [
       "43990     47\n",
       "109990    26\n",
       "116990    24\n",
       "59990     15\n",
       "60990     15\n",
       "          ..\n",
       "57440      1\n",
       "148990     1\n",
       "89149      1\n",
       "71990      1\n",
       "87990      1\n",
       "Name: Price, Length: 235, dtype: int64"
      ]
     },
     "execution_count": 13,
     "metadata": {},
     "output_type": "execute_result"
    }
   ],
   "source": [
    "#Price\n",
    "mydata['Price']=mydata['Price'].apply(lambda x: x.split('₹')[1])\n",
    "mydata['Price'] = mydata['Price'].str.replace(',', '')\n",
    "mydata['Price'].value_counts()"
   ]
  },
  {
   "cell_type": "code",
   "execution_count": 14,
   "id": "46bd4eeb",
   "metadata": {},
   "outputs": [],
   "source": [
    "mydata[\"Price\"] = mydata[\"Price\"].astype(str).astype(int)"
   ]
  },
  {
   "cell_type": "code",
   "execution_count": 15,
   "id": "3bfd4068",
   "metadata": {},
   "outputs": [
    {
     "name": "stderr",
     "output_type": "stream",
     "text": [
      "<ipython-input-15-843f2be93215>:2: FutureWarning: The default value of regex will change from True to False in a future version.\n",
      "  mydata['Warranty']=mydata.Warranty.str.replace('\\s.*','')\n"
     ]
    },
    {
     "data": {
      "text/plain": [
       "1     461\n",
       "2      57\n",
       "3      21\n",
       "18     10\n",
       "24      1\n",
       "Name: Warranty, dtype: int64"
      ]
     },
     "execution_count": 15,
     "metadata": {},
     "output_type": "execute_result"
    }
   ],
   "source": [
    "#Warranty\n",
    "mydata['Warranty']=mydata.Warranty.str.replace('\\s.*','')\n",
    "mydata['Warranty']=mydata.Warranty.str.replace('One-year','1')\n",
    "mydata['Warranty']=mydata.Warranty.str.replace('Onsite','1')\n",
    "mydata[\"Warranty\"] = mydata[\"Warranty\"].astype(str).astype(int)\n",
    "mydata.Warranty.value_counts()"
   ]
  },
  {
   "cell_type": "code",
   "execution_count": 16,
   "id": "0155eb04",
   "metadata": {},
   "outputs": [
    {
     "data": {
      "text/plain": [
       "512 GB SSD                                                 213\n",
       "1024 GB HDD|256 GB SSD                                      98\n",
       "1024 GB HDD                                                 86\n",
       "256 GB SSD                                                  77\n",
       "1024 GB SSD                                                 58\n",
       "1024 GB HDD|128 GB SSD                                       8\n",
       "1024 GB HDD|512 GB SSD                                       2\n",
       "128 GB NVMe PCIe 3.0 x4 SSD                                  2\n",
       "128 GB SSD                                                   2\n",
       "512 GB HDD|512 GB SSD                                        1\n",
       "512 GB SSD for Reduced Boot Up Time and in Game Loading      1\n",
       "128 GB SSD for Reduced Boot Up Time and in Game Loading      1\n",
       "M.2 Slot for SSD Upgrade                                     1\n",
       "Name: Storage, dtype: int64"
      ]
     },
     "execution_count": 16,
     "metadata": {},
     "output_type": "execute_result"
    }
   ],
   "source": [
    "#Storage\n",
    "mydata['Storage']=mydata.Storage.str.replace('1 TB','1024 GB')\n",
    "mydata.Storage.value_counts()"
   ]
  },
  {
   "cell_type": "code",
   "execution_count": 17,
   "id": "e2f3183b",
   "metadata": {},
   "outputs": [
    {
     "data": {
      "text/plain": [
       "0                           39.62 cm (15.6 inch) Display\n",
       "1                             35.56 cm (14 Inch) Display\n",
       "2                             35.56 cm (14 inch) Display\n",
       "3                             35.56 cm (14 inch) Display\n",
       "4                           39.62 cm (15.6 inch) Display\n",
       "                             ...                        \n",
       "545    Matrix Display, Dragon Center, Cooler Boost 5,...\n",
       "546               35.56 cm (14 inch) Touchscreen Display\n",
       "547                         33.78 cm (13.3 inch) Display\n",
       "548                         39.62 cm (15.6 inch) Display\n",
       "549                           35.56 cm (14 inch) Display\n",
       "Name: Display(inch), Length: 550, dtype: object"
      ]
     },
     "execution_count": 17,
     "metadata": {},
     "output_type": "execute_result"
    }
   ],
   "source": [
    "#Display\n",
    "mydata['Display(inch)']=mydata['Display'].copy()\n",
    "mydata['Display(inch)']"
   ]
  },
  {
   "cell_type": "code",
   "execution_count": 18,
   "id": "63bf53d7",
   "metadata": {},
   "outputs": [
    {
     "name": "stderr",
     "output_type": "stream",
     "text": [
      "C:\\Users\\vishak\\anaconda3\\lib\\site-packages\\pandas\\core\\strings\\accessor.py:101: UserWarning: This pattern has match groups. To actually get the groups, use str.extract.\n",
      "  return func(self, *args, **kwargs)\n",
      "<ipython-input-18-713b02459f24>:9: SettingWithCopyWarning: \n",
      "A value is trying to be set on a copy of a slice from a DataFrame\n",
      "\n",
      "See the caveats in the documentation: https://pandas.pydata.org/pandas-docs/stable/user_guide/indexing.html#returning-a-view-versus-a-copy\n",
      "  mydata['Display(inch)'][items]=z[i1+1:i2:1]\n"
     ]
    },
    {
     "data": {
      "text/plain": [
       "15.6 inch                                                              242\n",
       "14 inch                                                                150\n",
       "13.3 inch                                                               54\n",
       "Matrix Display, Dragon Center, Cooler Boost 5, Nahimic 3                22\n",
       "14 Inch                                                                 22\n",
       "Extend                                                                  10\n",
       "144Hz, 45% NTSC Color Gamut                                             10\n",
       "15.6 Inch                                                                5\n",
       "13 inch                                                                  5\n",
       "14 inches                                                                4\n",
       "13.3 Inch                                                                4\n",
       "16 inch                                                                  3\n",
       "13.4 inch                                                                3\n",
       "17.3 inch                                                                3\n",
       "Full HD LED Backlit Display                                              2\n",
       "12 inch                                                                  2\n",
       "60Hz, 45% NTSC Color Gamut                                               1\n",
       "13.5 inch                                                                1\n",
       "10 inch                                                                  1\n",
       "13.6 inch                                                                1\n",
       "15 inch                                                                  1\n",
       "11.6 inch                                                                1\n",
       "12.3 inch                                                                1\n",
       "10.1 inch                                                                1\n",
       "Full HD LED Backlit Anti-glare Display for Better Visual Experience      1\n",
       "Name: Display(inch), dtype: int64"
      ]
     },
     "execution_count": 18,
     "metadata": {},
     "output_type": "execute_result"
    }
   ],
   "source": [
    "x=mydata[mydata['Display'].astype(str).str.contains(r\"\\((.*?)\\)\")]['Display'].tolist()\n",
    "c=mydata['Display'].count()\n",
    "#len(x)\n",
    "for items in range(c):\n",
    "    if mydata['Display'][items] in x:\n",
    "        z=mydata['Display'][items]\n",
    "        i1=z.index('(')\n",
    "        i2=z.index(')')\n",
    "        mydata['Display(inch)'][items]=z[i1+1:i2:1]\n",
    "    \n",
    "mydata['Display(inch)'].value_counts()"
   ]
  },
  {
   "cell_type": "code",
   "execution_count": 19,
   "id": "140f5cb8",
   "metadata": {},
   "outputs": [
    {
     "data": {
      "text/plain": [
       "15.6 inch    253\n",
       "14 inch      150\n",
       "13.3 inch     54\n",
       "0             32\n",
       "14 Inch       22\n",
       "15.6 Inch      5\n",
       "13 inch        5\n",
       "14 inches      4\n",
       "13.3 Inch      4\n",
       "16 inch        3\n",
       "13.4 inch      3\n",
       "1              3\n",
       "17.3 inch      3\n",
       "12 inch        2\n",
       "13.5 inch      1\n",
       "11.6 inch      1\n",
       "10.1 inch      1\n",
       "10 inch        1\n",
       "13.6 inch      1\n",
       "15 inch        1\n",
       "12.3 inch      1\n",
       "Name: Display(inch), dtype: int64"
      ]
     },
     "execution_count": 19,
     "metadata": {},
     "output_type": "execute_result"
    }
   ],
   "source": [
    "mydata['Display(inch)']=mydata['Display(inch)'].str.replace('Extend','0')\n",
    "mydata['Display(inch)']=mydata['Display(inch)'].str.replace('144Hz, 45% NTSC Color Gamut','15.6 inch')\n",
    "mydata['Display(inch)']=mydata['Display(inch)'].str.replace('60Hz, 45% NTSC Color Gamut','15.6 inch')\n",
    "mydata['Display(inch)']=mydata['Display(inch)'].str.replace('Matrix Display, Dragon Center, Cooler Boost 5, Nahimic 3','0')\n",
    "mydata['Display(inch)']=mydata['Display(inch)'].str.replace('Full HD LED Backlit Display','1')\n",
    "mydata['Display(inch)']=mydata['Display(inch)'].str.replace('Full HD LED Backlit Anti-glare Display for Better Visual Experience','1')\n",
    "mydata['Display(inch)'].value_counts()"
   ]
  },
  {
   "cell_type": "code",
   "execution_count": 20,
   "id": "b0dd7812",
   "metadata": {},
   "outputs": [
    {
     "data": {
      "text/plain": [
       "15.6    258\n",
       "14.0    176\n",
       "13.3     58\n",
       "0.0      32\n",
       "13.0      5\n",
       "13.4      3\n",
       "17.3      3\n",
       "16.0      3\n",
       "1.0       3\n",
       "12.0      2\n",
       "11.6      1\n",
       "15.0      1\n",
       "13.6      1\n",
       "10.0      1\n",
       "13.5      1\n",
       "12.3      1\n",
       "10.1      1\n",
       "Name: Display(inch), dtype: int64"
      ]
     },
     "execution_count": 20,
     "metadata": {},
     "output_type": "execute_result"
    }
   ],
   "source": [
    "mydata['Display(inch)']=mydata['Display(inch)'].astype(str).apply(lambda x: x.split('i')[0])\n",
    "mydata['Display(inch)']=mydata['Display(inch)'].astype(str).apply(lambda x: x.split('I')[0])\n",
    "mydata['Display(inch)'] = mydata['Display(inch)'].astype(str).astype(float)\n",
    "mydata['Display(inch)'].value_counts()"
   ]
  },
  {
   "cell_type": "code",
   "execution_count": 21,
   "id": "2b69b463",
   "metadata": {},
   "outputs": [
    {
     "data": {
      "text/plain": [
       "(550, 10)"
      ]
     },
     "execution_count": 21,
     "metadata": {},
     "output_type": "execute_result"
    }
   ],
   "source": [
    "mydata.drop(['Display'],axis=1,inplace=True)\n",
    "mydata.shape"
   ]
  },
  {
   "cell_type": "code",
   "execution_count": 22,
   "id": "5dea7174",
   "metadata": {},
   "outputs": [
    {
     "data": {
      "text/plain": [
       "Operating System     object\n",
       "Storage              object\n",
       "Warranty              int32\n",
       "Price                 int32\n",
       "rating              float64\n",
       "RAMCapacity          object\n",
       "RAMType              object\n",
       "Brand                object\n",
       "Display(inch)       float64\n",
       "ProcessorCore        object\n",
       "dtype: object"
      ]
     },
     "execution_count": 22,
     "metadata": {},
     "output_type": "execute_result"
    }
   ],
   "source": [
    "#Processor\n",
    "mydata['ProcessorCore']=mydata['Processor'].astype(str).apply(lambda x: x.split('(')[0])\n",
    "mydata.drop(['Processor'],inplace=True,axis=1)\n",
    "mydata.dtypes"
   ]
  },
  {
   "cell_type": "code",
   "execution_count": 23,
   "id": "60416dd4",
   "metadata": {},
   "outputs": [
    {
     "data": {
      "text/plain": [
       "Operating System     object\n",
       "Storage              object\n",
       "Warranty              int32\n",
       "Price                 int32\n",
       "rating              float64\n",
       "RAMCapacity           int32\n",
       "RAMType              object\n",
       "Brand                object\n",
       "Display(inch)       float64\n",
       "ProcessorCore        object\n",
       "dtype: object"
      ]
     },
     "execution_count": 23,
     "metadata": {},
     "output_type": "execute_result"
    }
   ],
   "source": [
    "mydata.drop(mydata.loc[mydata['RAMType']=='dable SSD Upto '].index,inplace=True)\n",
    "mydata['RAMCapacity'] = mydata['RAMCapacity'].astype(str).astype(int)\n",
    "mydata.dtypes"
   ]
  },
  {
   "cell_type": "markdown",
   "id": "a9176f36",
   "metadata": {},
   "source": [
    "# Data Visualization"
   ]
  },
  {
   "cell_type": "code",
   "execution_count": 24,
   "id": "69143646",
   "metadata": {},
   "outputs": [
    {
     "data": {
      "text/html": [
       "<div>\n",
       "<style scoped>\n",
       "    .dataframe tbody tr th:only-of-type {\n",
       "        vertical-align: middle;\n",
       "    }\n",
       "\n",
       "    .dataframe tbody tr th {\n",
       "        vertical-align: top;\n",
       "    }\n",
       "\n",
       "    .dataframe thead th {\n",
       "        text-align: right;\n",
       "    }\n",
       "</style>\n",
       "<table border=\"1\" class=\"dataframe\">\n",
       "  <thead>\n",
       "    <tr style=\"text-align: right;\">\n",
       "      <th></th>\n",
       "      <th>Operating System</th>\n",
       "      <th>Storage</th>\n",
       "      <th>Warranty</th>\n",
       "      <th>Price</th>\n",
       "      <th>rating</th>\n",
       "      <th>RAMCapacity</th>\n",
       "      <th>RAMType</th>\n",
       "      <th>Brand</th>\n",
       "      <th>Display(inch)</th>\n",
       "      <th>ProcessorCore</th>\n",
       "    </tr>\n",
       "  </thead>\n",
       "  <tbody>\n",
       "    <tr>\n",
       "      <th>0</th>\n",
       "      <td>Windows</td>\n",
       "      <td>1024 GB HDD</td>\n",
       "      <td>1</td>\n",
       "      <td>43990</td>\n",
       "      <td>3.9</td>\n",
       "      <td>8</td>\n",
       "      <td>DDR4 RAM</td>\n",
       "      <td>Lenovo</td>\n",
       "      <td>15.6</td>\n",
       "      <td>Intel Core i5 Processor</td>\n",
       "    </tr>\n",
       "    <tr>\n",
       "      <th>1</th>\n",
       "      <td>Windows</td>\n",
       "      <td>256 GB SSD</td>\n",
       "      <td>1</td>\n",
       "      <td>43990</td>\n",
       "      <td>4.2</td>\n",
       "      <td>8</td>\n",
       "      <td>DDR4 RAM</td>\n",
       "      <td>Lenovo</td>\n",
       "      <td>14.0</td>\n",
       "      <td>Intel Core i3 Processor</td>\n",
       "    </tr>\n",
       "    <tr>\n",
       "      <th>2</th>\n",
       "      <td>Windows</td>\n",
       "      <td>256 GB SSD</td>\n",
       "      <td>1</td>\n",
       "      <td>31490</td>\n",
       "      <td>4.6</td>\n",
       "      <td>8</td>\n",
       "      <td>DDR4 RAM</td>\n",
       "      <td>HP</td>\n",
       "      <td>14.0</td>\n",
       "      <td>Intel Pentium Quad Core Processor</td>\n",
       "    </tr>\n",
       "    <tr>\n",
       "      <th>3</th>\n",
       "      <td>Windows</td>\n",
       "      <td>256 GB SSD</td>\n",
       "      <td>1</td>\n",
       "      <td>40990</td>\n",
       "      <td>4.1</td>\n",
       "      <td>8</td>\n",
       "      <td>DDR4 RAM</td>\n",
       "      <td>HP</td>\n",
       "      <td>14.0</td>\n",
       "      <td>Intel Core i3 Processor</td>\n",
       "    </tr>\n",
       "    <tr>\n",
       "      <th>4</th>\n",
       "      <td>Windows</td>\n",
       "      <td>1024 GB HDD</td>\n",
       "      <td>1</td>\n",
       "      <td>27490</td>\n",
       "      <td>4.1</td>\n",
       "      <td>4</td>\n",
       "      <td>DDR4 RAM</td>\n",
       "      <td>HP</td>\n",
       "      <td>15.6</td>\n",
       "      <td>AMD Athlon Dual Core Processor</td>\n",
       "    </tr>\n",
       "  </tbody>\n",
       "</table>\n",
       "</div>"
      ],
      "text/plain": [
       "  Operating System      Storage  Warranty  Price  rating  RAMCapacity  \\\n",
       "0          Windows  1024 GB HDD         1  43990     3.9            8   \n",
       "1          Windows   256 GB SSD         1  43990     4.2            8   \n",
       "2          Windows   256 GB SSD         1  31490     4.6            8   \n",
       "3          Windows   256 GB SSD         1  40990     4.1            8   \n",
       "4          Windows  1024 GB HDD         1  27490     4.1            4   \n",
       "\n",
       "    RAMType   Brand  Display(inch)                      ProcessorCore  \n",
       "0  DDR4 RAM  Lenovo           15.6           Intel Core i5 Processor   \n",
       "1  DDR4 RAM  Lenovo           14.0           Intel Core i3 Processor   \n",
       "2  DDR4 RAM      HP           14.0  Intel Pentium Quad Core Processor  \n",
       "3  DDR4 RAM      HP           14.0           Intel Core i3 Processor   \n",
       "4  DDR4 RAM      HP           15.6     AMD Athlon Dual Core Processor  "
      ]
     },
     "execution_count": 24,
     "metadata": {},
     "output_type": "execute_result"
    }
   ],
   "source": [
    "mydata.head()"
   ]
  },
  {
   "cell_type": "markdown",
   "id": "a3285047",
   "metadata": {},
   "source": [
    "# Dummy Variables"
   ]
  },
  {
   "cell_type": "code",
   "execution_count": 25,
   "id": "a2455780",
   "metadata": {},
   "outputs": [],
   "source": [
    "# Defining the function\n",
    "def dummies(x,df):\n",
    "    temp = pd.get_dummies(df[x], drop_first = True)\n",
    "    df = pd.concat([df, temp], axis = 1)\n",
    "    df.drop([x], axis = 1, inplace = True)\n",
    "    return df\n",
    "# Applying the function to mydata\n",
    "mydata = dummies('Operating System',mydata)\n",
    "mydata = dummies('Storage',mydata)\n",
    "mydata = dummies('RAMType',mydata)\n",
    "mydata = dummies('Brand',mydata)\n",
    "mydata = dummies('ProcessorCore',mydata)"
   ]
  },
  {
   "cell_type": "code",
   "execution_count": 26,
   "id": "479c0064",
   "metadata": {},
   "outputs": [
    {
     "data": {
      "text/html": [
       "<div>\n",
       "<style scoped>\n",
       "    .dataframe tbody tr th:only-of-type {\n",
       "        vertical-align: middle;\n",
       "    }\n",
       "\n",
       "    .dataframe tbody tr th {\n",
       "        vertical-align: top;\n",
       "    }\n",
       "\n",
       "    .dataframe thead th {\n",
       "        text-align: right;\n",
       "    }\n",
       "</style>\n",
       "<table border=\"1\" class=\"dataframe\">\n",
       "  <thead>\n",
       "    <tr style=\"text-align: right;\">\n",
       "      <th></th>\n",
       "      <th>Warranty</th>\n",
       "      <th>Price</th>\n",
       "      <th>rating</th>\n",
       "      <th>RAMCapacity</th>\n",
       "      <th>Display(inch)</th>\n",
       "      <th>DOS</th>\n",
       "      <th>Mac</th>\n",
       "      <th>Windows</th>\n",
       "      <th>1024 GB HDD|128 GB SSD</th>\n",
       "      <th>1024 GB HDD|256 GB SSD</th>\n",
       "      <th>...</th>\n",
       "      <th>AMD Ryzen 9 Octa Core Processor</th>\n",
       "      <th>Intel Celeron Dual Core Processor</th>\n",
       "      <th>Intel Core i3 Processor</th>\n",
       "      <th>Intel Core i5 Processor</th>\n",
       "      <th>Intel Core i7 Processor</th>\n",
       "      <th>Intel Core i9 Processor</th>\n",
       "      <th>Intel Evo platform feat 11th Gen Intel Core i5 processor</th>\n",
       "      <th>Intel Evo platform feat 11th Gen Intel Core i7 processor</th>\n",
       "      <th>Intel Pentium Quad Core Processor</th>\n",
       "      <th>Microsoft Core i5 Processor</th>\n",
       "    </tr>\n",
       "  </thead>\n",
       "  <tbody>\n",
       "    <tr>\n",
       "      <th>0</th>\n",
       "      <td>1</td>\n",
       "      <td>43990</td>\n",
       "      <td>3.9</td>\n",
       "      <td>8</td>\n",
       "      <td>15.6</td>\n",
       "      <td>0</td>\n",
       "      <td>0</td>\n",
       "      <td>1</td>\n",
       "      <td>0</td>\n",
       "      <td>0</td>\n",
       "      <td>...</td>\n",
       "      <td>0</td>\n",
       "      <td>0</td>\n",
       "      <td>0</td>\n",
       "      <td>1</td>\n",
       "      <td>0</td>\n",
       "      <td>0</td>\n",
       "      <td>0</td>\n",
       "      <td>0</td>\n",
       "      <td>0</td>\n",
       "      <td>0</td>\n",
       "    </tr>\n",
       "    <tr>\n",
       "      <th>1</th>\n",
       "      <td>1</td>\n",
       "      <td>43990</td>\n",
       "      <td>4.2</td>\n",
       "      <td>8</td>\n",
       "      <td>14.0</td>\n",
       "      <td>0</td>\n",
       "      <td>0</td>\n",
       "      <td>1</td>\n",
       "      <td>0</td>\n",
       "      <td>0</td>\n",
       "      <td>...</td>\n",
       "      <td>0</td>\n",
       "      <td>0</td>\n",
       "      <td>1</td>\n",
       "      <td>0</td>\n",
       "      <td>0</td>\n",
       "      <td>0</td>\n",
       "      <td>0</td>\n",
       "      <td>0</td>\n",
       "      <td>0</td>\n",
       "      <td>0</td>\n",
       "    </tr>\n",
       "    <tr>\n",
       "      <th>2</th>\n",
       "      <td>1</td>\n",
       "      <td>31490</td>\n",
       "      <td>4.6</td>\n",
       "      <td>8</td>\n",
       "      <td>14.0</td>\n",
       "      <td>0</td>\n",
       "      <td>0</td>\n",
       "      <td>1</td>\n",
       "      <td>0</td>\n",
       "      <td>0</td>\n",
       "      <td>...</td>\n",
       "      <td>0</td>\n",
       "      <td>0</td>\n",
       "      <td>0</td>\n",
       "      <td>0</td>\n",
       "      <td>0</td>\n",
       "      <td>0</td>\n",
       "      <td>0</td>\n",
       "      <td>0</td>\n",
       "      <td>1</td>\n",
       "      <td>0</td>\n",
       "    </tr>\n",
       "    <tr>\n",
       "      <th>3</th>\n",
       "      <td>1</td>\n",
       "      <td>40990</td>\n",
       "      <td>4.1</td>\n",
       "      <td>8</td>\n",
       "      <td>14.0</td>\n",
       "      <td>0</td>\n",
       "      <td>0</td>\n",
       "      <td>1</td>\n",
       "      <td>0</td>\n",
       "      <td>0</td>\n",
       "      <td>...</td>\n",
       "      <td>0</td>\n",
       "      <td>0</td>\n",
       "      <td>1</td>\n",
       "      <td>0</td>\n",
       "      <td>0</td>\n",
       "      <td>0</td>\n",
       "      <td>0</td>\n",
       "      <td>0</td>\n",
       "      <td>0</td>\n",
       "      <td>0</td>\n",
       "    </tr>\n",
       "    <tr>\n",
       "      <th>4</th>\n",
       "      <td>1</td>\n",
       "      <td>27490</td>\n",
       "      <td>4.1</td>\n",
       "      <td>4</td>\n",
       "      <td>15.6</td>\n",
       "      <td>0</td>\n",
       "      <td>0</td>\n",
       "      <td>1</td>\n",
       "      <td>0</td>\n",
       "      <td>0</td>\n",
       "      <td>...</td>\n",
       "      <td>0</td>\n",
       "      <td>0</td>\n",
       "      <td>0</td>\n",
       "      <td>0</td>\n",
       "      <td>0</td>\n",
       "      <td>0</td>\n",
       "      <td>0</td>\n",
       "      <td>0</td>\n",
       "      <td>0</td>\n",
       "      <td>0</td>\n",
       "    </tr>\n",
       "  </tbody>\n",
       "</table>\n",
       "<p>5 rows × 64 columns</p>\n",
       "</div>"
      ],
      "text/plain": [
       "   Warranty  Price  rating  RAMCapacity  Display(inch)  DOS  Mac  Windows  \\\n",
       "0         1  43990     3.9            8           15.6    0    0        1   \n",
       "1         1  43990     4.2            8           14.0    0    0        1   \n",
       "2         1  31490     4.6            8           14.0    0    0        1   \n",
       "3         1  40990     4.1            8           14.0    0    0        1   \n",
       "4         1  27490     4.1            4           15.6    0    0        1   \n",
       "\n",
       "   1024 GB HDD|128 GB SSD  1024 GB HDD|256 GB SSD  ...  \\\n",
       "0                       0                       0  ...   \n",
       "1                       0                       0  ...   \n",
       "2                       0                       0  ...   \n",
       "3                       0                       0  ...   \n",
       "4                       0                       0  ...   \n",
       "\n",
       "   AMD Ryzen 9 Octa Core Processor  Intel Celeron Dual Core Processor  \\\n",
       "0                                0                                  0   \n",
       "1                                0                                  0   \n",
       "2                                0                                  0   \n",
       "3                                0                                  0   \n",
       "4                                0                                  0   \n",
       "\n",
       "   Intel Core i3 Processor   Intel Core i5 Processor   \\\n",
       "0                         0                         1   \n",
       "1                         1                         0   \n",
       "2                         0                         0   \n",
       "3                         1                         0   \n",
       "4                         0                         0   \n",
       "\n",
       "   Intel Core i7 Processor   Intel Core i9 Processor   \\\n",
       "0                         0                         0   \n",
       "1                         0                         0   \n",
       "2                         0                         0   \n",
       "3                         0                         0   \n",
       "4                         0                         0   \n",
       "\n",
       "   Intel Evo platform feat 11th Gen Intel Core i5 processor  \\\n",
       "0                                                  0          \n",
       "1                                                  0          \n",
       "2                                                  0          \n",
       "3                                                  0          \n",
       "4                                                  0          \n",
       "\n",
       "   Intel Evo platform feat 11th Gen Intel Core i7 processor  \\\n",
       "0                                                  0          \n",
       "1                                                  0          \n",
       "2                                                  0          \n",
       "3                                                  0          \n",
       "4                                                  0          \n",
       "\n",
       "   Intel Pentium Quad Core Processor  Microsoft Core i5 Processor   \n",
       "0                                  0                             0  \n",
       "1                                  0                             0  \n",
       "2                                  1                             0  \n",
       "3                                  0                             0  \n",
       "4                                  0                             0  \n",
       "\n",
       "[5 rows x 64 columns]"
      ]
     },
     "execution_count": 26,
     "metadata": {},
     "output_type": "execute_result"
    }
   ],
   "source": [
    "mydata.head()"
   ]
  },
  {
   "cell_type": "code",
   "execution_count": 27,
   "id": "c6281373",
   "metadata": {},
   "outputs": [],
   "source": [
    "#Train Test Splitting\n",
    "np.random.seed(0)\n",
    "mydata_train, mydata_test = train_test_split(mydata,test_size = 0.3, random_state = 100)"
   ]
  },
  {
   "cell_type": "code",
   "execution_count": 31,
   "id": "02191cd9",
   "metadata": {},
   "outputs": [
    {
     "name": "stderr",
     "output_type": "stream",
     "text": [
      "<ipython-input-31-953505cc8a2a>:4: SettingWithCopyWarning: \n",
      "A value is trying to be set on a copy of a slice from a DataFrame.\n",
      "Try using .loc[row_indexer,col_indexer] = value instead\n",
      "\n",
      "See the caveats in the documentation: https://pandas.pydata.org/pandas-docs/stable/user_guide/indexing.html#returning-a-view-versus-a-copy\n",
      "  mydata_train[num_vars] = scaler.fit_transform(mydata_train[num_vars])\n",
      "C:\\Users\\vishak\\anaconda3\\lib\\site-packages\\pandas\\core\\indexing.py:1738: SettingWithCopyWarning: \n",
      "A value is trying to be set on a copy of a slice from a DataFrame.\n",
      "Try using .loc[row_indexer,col_indexer] = value instead\n",
      "\n",
      "See the caveats in the documentation: https://pandas.pydata.org/pandas-docs/stable/user_guide/indexing.html#returning-a-view-versus-a-copy\n",
      "  self._setitem_single_column(loc, value[:, i].tolist(), pi)\n"
     ]
    }
   ],
   "source": [
    "#Scaling\n",
    "scaler = MinMaxScaler()\n",
    "num_vars = ['Warranty', 'Price', 'rating', 'RAMCapacity', 'Display(inch)']\n",
    "mydata_train[num_vars] = scaler.fit_transform(mydata_train[num_vars])"
   ]
  },
  {
   "cell_type": "code",
   "execution_count": 32,
   "id": "6522a7a8",
   "metadata": {},
   "outputs": [
    {
     "data": {
      "text/html": [
       "<div>\n",
       "<style scoped>\n",
       "    .dataframe tbody tr th:only-of-type {\n",
       "        vertical-align: middle;\n",
       "    }\n",
       "\n",
       "    .dataframe tbody tr th {\n",
       "        vertical-align: top;\n",
       "    }\n",
       "\n",
       "    .dataframe thead th {\n",
       "        text-align: right;\n",
       "    }\n",
       "</style>\n",
       "<table border=\"1\" class=\"dataframe\">\n",
       "  <thead>\n",
       "    <tr style=\"text-align: right;\">\n",
       "      <th></th>\n",
       "      <th>Warranty</th>\n",
       "      <th>Price</th>\n",
       "      <th>rating</th>\n",
       "      <th>RAMCapacity</th>\n",
       "      <th>Display(inch)</th>\n",
       "      <th>DOS</th>\n",
       "      <th>Mac</th>\n",
       "      <th>Windows</th>\n",
       "      <th>1024 GB HDD|128 GB SSD</th>\n",
       "      <th>1024 GB HDD|256 GB SSD</th>\n",
       "      <th>...</th>\n",
       "      <th>AMD Ryzen 9 Octa Core Processor</th>\n",
       "      <th>Intel Celeron Dual Core Processor</th>\n",
       "      <th>Intel Core i3 Processor</th>\n",
       "      <th>Intel Core i5 Processor</th>\n",
       "      <th>Intel Core i7 Processor</th>\n",
       "      <th>Intel Core i9 Processor</th>\n",
       "      <th>Intel Evo platform feat 11th Gen Intel Core i5 processor</th>\n",
       "      <th>Intel Evo platform feat 11th Gen Intel Core i7 processor</th>\n",
       "      <th>Intel Pentium Quad Core Processor</th>\n",
       "      <th>Microsoft Core i5 Processor</th>\n",
       "    </tr>\n",
       "  </thead>\n",
       "  <tbody>\n",
       "    <tr>\n",
       "      <th>357</th>\n",
       "      <td>0.0</td>\n",
       "      <td>0.037383</td>\n",
       "      <td>0.875</td>\n",
       "      <td>0.000000</td>\n",
       "      <td>0.901734</td>\n",
       "      <td>0</td>\n",
       "      <td>0</td>\n",
       "      <td>1</td>\n",
       "      <td>0</td>\n",
       "      <td>0</td>\n",
       "      <td>...</td>\n",
       "      <td>0</td>\n",
       "      <td>0</td>\n",
       "      <td>0</td>\n",
       "      <td>0</td>\n",
       "      <td>0</td>\n",
       "      <td>0</td>\n",
       "      <td>0</td>\n",
       "      <td>0</td>\n",
       "      <td>0</td>\n",
       "      <td>0</td>\n",
       "    </tr>\n",
       "    <tr>\n",
       "      <th>46</th>\n",
       "      <td>0.0</td>\n",
       "      <td>0.018692</td>\n",
       "      <td>0.875</td>\n",
       "      <td>0.000000</td>\n",
       "      <td>0.901734</td>\n",
       "      <td>0</td>\n",
       "      <td>0</td>\n",
       "      <td>1</td>\n",
       "      <td>0</td>\n",
       "      <td>0</td>\n",
       "      <td>...</td>\n",
       "      <td>0</td>\n",
       "      <td>0</td>\n",
       "      <td>1</td>\n",
       "      <td>0</td>\n",
       "      <td>0</td>\n",
       "      <td>0</td>\n",
       "      <td>0</td>\n",
       "      <td>0</td>\n",
       "      <td>0</td>\n",
       "      <td>0</td>\n",
       "    </tr>\n",
       "    <tr>\n",
       "      <th>50</th>\n",
       "      <td>0.0</td>\n",
       "      <td>0.149533</td>\n",
       "      <td>0.825</td>\n",
       "      <td>0.428571</td>\n",
       "      <td>0.809249</td>\n",
       "      <td>0</td>\n",
       "      <td>0</td>\n",
       "      <td>1</td>\n",
       "      <td>0</td>\n",
       "      <td>1</td>\n",
       "      <td>...</td>\n",
       "      <td>0</td>\n",
       "      <td>0</td>\n",
       "      <td>0</td>\n",
       "      <td>0</td>\n",
       "      <td>1</td>\n",
       "      <td>0</td>\n",
       "      <td>0</td>\n",
       "      <td>0</td>\n",
       "      <td>0</td>\n",
       "      <td>0</td>\n",
       "    </tr>\n",
       "    <tr>\n",
       "      <th>363</th>\n",
       "      <td>0.0</td>\n",
       "      <td>0.080997</td>\n",
       "      <td>1.000</td>\n",
       "      <td>0.142857</td>\n",
       "      <td>0.809249</td>\n",
       "      <td>0</td>\n",
       "      <td>0</td>\n",
       "      <td>0</td>\n",
       "      <td>0</td>\n",
       "      <td>0</td>\n",
       "      <td>...</td>\n",
       "      <td>0</td>\n",
       "      <td>0</td>\n",
       "      <td>0</td>\n",
       "      <td>1</td>\n",
       "      <td>0</td>\n",
       "      <td>0</td>\n",
       "      <td>0</td>\n",
       "      <td>0</td>\n",
       "      <td>0</td>\n",
       "      <td>0</td>\n",
       "    </tr>\n",
       "    <tr>\n",
       "      <th>19</th>\n",
       "      <td>0.0</td>\n",
       "      <td>0.084112</td>\n",
       "      <td>0.850</td>\n",
       "      <td>0.142857</td>\n",
       "      <td>0.901734</td>\n",
       "      <td>0</td>\n",
       "      <td>0</td>\n",
       "      <td>1</td>\n",
       "      <td>0</td>\n",
       "      <td>0</td>\n",
       "      <td>...</td>\n",
       "      <td>0</td>\n",
       "      <td>0</td>\n",
       "      <td>1</td>\n",
       "      <td>0</td>\n",
       "      <td>0</td>\n",
       "      <td>0</td>\n",
       "      <td>0</td>\n",
       "      <td>0</td>\n",
       "      <td>0</td>\n",
       "      <td>0</td>\n",
       "    </tr>\n",
       "  </tbody>\n",
       "</table>\n",
       "<p>5 rows × 64 columns</p>\n",
       "</div>"
      ],
      "text/plain": [
       "     Warranty     Price  rating  RAMCapacity  Display(inch)  DOS  Mac  \\\n",
       "357       0.0  0.037383   0.875     0.000000       0.901734    0    0   \n",
       "46        0.0  0.018692   0.875     0.000000       0.901734    0    0   \n",
       "50        0.0  0.149533   0.825     0.428571       0.809249    0    0   \n",
       "363       0.0  0.080997   1.000     0.142857       0.809249    0    0   \n",
       "19        0.0  0.084112   0.850     0.142857       0.901734    0    0   \n",
       "\n",
       "     Windows  1024 GB HDD|128 GB SSD  1024 GB HDD|256 GB SSD  ...  \\\n",
       "357        1                       0                       0  ...   \n",
       "46         1                       0                       0  ...   \n",
       "50         1                       0                       1  ...   \n",
       "363        0                       0                       0  ...   \n",
       "19         1                       0                       0  ...   \n",
       "\n",
       "     AMD Ryzen 9 Octa Core Processor  Intel Celeron Dual Core Processor  \\\n",
       "357                                0                                  0   \n",
       "46                                 0                                  0   \n",
       "50                                 0                                  0   \n",
       "363                                0                                  0   \n",
       "19                                 0                                  0   \n",
       "\n",
       "     Intel Core i3 Processor   Intel Core i5 Processor   \\\n",
       "357                         0                         0   \n",
       "46                          1                         0   \n",
       "50                          0                         0   \n",
       "363                         0                         1   \n",
       "19                          1                         0   \n",
       "\n",
       "     Intel Core i7 Processor   Intel Core i9 Processor   \\\n",
       "357                         0                         0   \n",
       "46                          0                         0   \n",
       "50                          1                         0   \n",
       "363                         0                         0   \n",
       "19                          0                         0   \n",
       "\n",
       "     Intel Evo platform feat 11th Gen Intel Core i5 processor  \\\n",
       "357                                                  0          \n",
       "46                                                   0          \n",
       "50                                                   0          \n",
       "363                                                  0          \n",
       "19                                                   0          \n",
       "\n",
       "     Intel Evo platform feat 11th Gen Intel Core i7 processor  \\\n",
       "357                                                  0          \n",
       "46                                                   0          \n",
       "50                                                   0          \n",
       "363                                                  0          \n",
       "19                                                   0          \n",
       "\n",
       "     Intel Pentium Quad Core Processor  Microsoft Core i5 Processor   \n",
       "357                                  0                             0  \n",
       "46                                   0                             0  \n",
       "50                                   0                             0  \n",
       "363                                  0                             0  \n",
       "19                                   0                             0  \n",
       "\n",
       "[5 rows x 64 columns]"
      ]
     },
     "execution_count": 32,
     "metadata": {},
     "output_type": "execute_result"
    }
   ],
   "source": [
    "mydata_train.head()"
   ]
  },
  {
   "cell_type": "code",
   "execution_count": 34,
   "id": "b4fd8845",
   "metadata": {},
   "outputs": [
    {
     "data": {
      "text/html": [
       "<div>\n",
       "<style scoped>\n",
       "    .dataframe tbody tr th:only-of-type {\n",
       "        vertical-align: middle;\n",
       "    }\n",
       "\n",
       "    .dataframe tbody tr th {\n",
       "        vertical-align: top;\n",
       "    }\n",
       "\n",
       "    .dataframe thead th {\n",
       "        text-align: right;\n",
       "    }\n",
       "</style>\n",
       "<table border=\"1\" class=\"dataframe\">\n",
       "  <thead>\n",
       "    <tr style=\"text-align: right;\">\n",
       "      <th></th>\n",
       "      <th>Warranty</th>\n",
       "      <th>Price</th>\n",
       "      <th>rating</th>\n",
       "      <th>RAMCapacity</th>\n",
       "      <th>Display(inch)</th>\n",
       "      <th>DOS</th>\n",
       "      <th>Mac</th>\n",
       "      <th>Windows</th>\n",
       "      <th>1024 GB HDD|128 GB SSD</th>\n",
       "      <th>1024 GB HDD|256 GB SSD</th>\n",
       "      <th>...</th>\n",
       "      <th>AMD Ryzen 9 Octa Core Processor</th>\n",
       "      <th>Intel Celeron Dual Core Processor</th>\n",
       "      <th>Intel Core i3 Processor</th>\n",
       "      <th>Intel Core i5 Processor</th>\n",
       "      <th>Intel Core i7 Processor</th>\n",
       "      <th>Intel Core i9 Processor</th>\n",
       "      <th>Intel Evo platform feat 11th Gen Intel Core i5 processor</th>\n",
       "      <th>Intel Evo platform feat 11th Gen Intel Core i7 processor</th>\n",
       "      <th>Intel Pentium Quad Core Processor</th>\n",
       "      <th>Microsoft Core i5 Processor</th>\n",
       "    </tr>\n",
       "  </thead>\n",
       "  <tbody>\n",
       "    <tr>\n",
       "      <th>count</th>\n",
       "      <td>384.000000</td>\n",
       "      <td>384.000000</td>\n",
       "      <td>384.000000</td>\n",
       "      <td>384.000000</td>\n",
       "      <td>384.000000</td>\n",
       "      <td>384.000000</td>\n",
       "      <td>384.000000</td>\n",
       "      <td>384.000000</td>\n",
       "      <td>384.000000</td>\n",
       "      <td>384.000000</td>\n",
       "      <td>...</td>\n",
       "      <td>384.000000</td>\n",
       "      <td>384.000000</td>\n",
       "      <td>384.000000</td>\n",
       "      <td>384.000000</td>\n",
       "      <td>384.000000</td>\n",
       "      <td>384.000000</td>\n",
       "      <td>384.000000</td>\n",
       "      <td>384.000000</td>\n",
       "      <td>384.000000</td>\n",
       "      <td>384.000000</td>\n",
       "    </tr>\n",
       "    <tr>\n",
       "      <th>mean</th>\n",
       "      <td>0.022305</td>\n",
       "      <td>0.199331</td>\n",
       "      <td>0.821484</td>\n",
       "      <td>0.219494</td>\n",
       "      <td>0.795249</td>\n",
       "      <td>0.002604</td>\n",
       "      <td>0.039062</td>\n",
       "      <td>0.950521</td>\n",
       "      <td>0.013021</td>\n",
       "      <td>0.187500</td>\n",
       "      <td>...</td>\n",
       "      <td>0.007812</td>\n",
       "      <td>0.018229</td>\n",
       "      <td>0.151042</td>\n",
       "      <td>0.388021</td>\n",
       "      <td>0.250000</td>\n",
       "      <td>0.015625</td>\n",
       "      <td>0.002604</td>\n",
       "      <td>0.002604</td>\n",
       "      <td>0.002604</td>\n",
       "      <td>0.002604</td>\n",
       "    </tr>\n",
       "    <tr>\n",
       "      <th>std</th>\n",
       "      <td>0.105894</td>\n",
       "      <td>0.142171</td>\n",
       "      <td>0.182152</td>\n",
       "      <td>0.174810</td>\n",
       "      <td>0.211498</td>\n",
       "      <td>0.051031</td>\n",
       "      <td>0.193996</td>\n",
       "      <td>0.217149</td>\n",
       "      <td>0.113511</td>\n",
       "      <td>0.390822</td>\n",
       "      <td>...</td>\n",
       "      <td>0.088157</td>\n",
       "      <td>0.133954</td>\n",
       "      <td>0.358557</td>\n",
       "      <td>0.487935</td>\n",
       "      <td>0.433578</td>\n",
       "      <td>0.124181</td>\n",
       "      <td>0.051031</td>\n",
       "      <td>0.051031</td>\n",
       "      <td>0.051031</td>\n",
       "      <td>0.051031</td>\n",
       "    </tr>\n",
       "    <tr>\n",
       "      <th>min</th>\n",
       "      <td>0.000000</td>\n",
       "      <td>0.000000</td>\n",
       "      <td>0.000000</td>\n",
       "      <td>0.000000</td>\n",
       "      <td>0.000000</td>\n",
       "      <td>0.000000</td>\n",
       "      <td>0.000000</td>\n",
       "      <td>0.000000</td>\n",
       "      <td>0.000000</td>\n",
       "      <td>0.000000</td>\n",
       "      <td>...</td>\n",
       "      <td>0.000000</td>\n",
       "      <td>0.000000</td>\n",
       "      <td>0.000000</td>\n",
       "      <td>0.000000</td>\n",
       "      <td>0.000000</td>\n",
       "      <td>0.000000</td>\n",
       "      <td>0.000000</td>\n",
       "      <td>0.000000</td>\n",
       "      <td>0.000000</td>\n",
       "      <td>0.000000</td>\n",
       "    </tr>\n",
       "    <tr>\n",
       "      <th>25%</th>\n",
       "      <td>0.000000</td>\n",
       "      <td>0.087227</td>\n",
       "      <td>0.750000</td>\n",
       "      <td>0.142857</td>\n",
       "      <td>0.809249</td>\n",
       "      <td>0.000000</td>\n",
       "      <td>0.000000</td>\n",
       "      <td>1.000000</td>\n",
       "      <td>0.000000</td>\n",
       "      <td>0.000000</td>\n",
       "      <td>...</td>\n",
       "      <td>0.000000</td>\n",
       "      <td>0.000000</td>\n",
       "      <td>0.000000</td>\n",
       "      <td>0.000000</td>\n",
       "      <td>0.000000</td>\n",
       "      <td>0.000000</td>\n",
       "      <td>0.000000</td>\n",
       "      <td>0.000000</td>\n",
       "      <td>0.000000</td>\n",
       "      <td>0.000000</td>\n",
       "    </tr>\n",
       "    <tr>\n",
       "      <th>50%</th>\n",
       "      <td>0.000000</td>\n",
       "      <td>0.155763</td>\n",
       "      <td>0.875000</td>\n",
       "      <td>0.142857</td>\n",
       "      <td>0.809249</td>\n",
       "      <td>0.000000</td>\n",
       "      <td>0.000000</td>\n",
       "      <td>1.000000</td>\n",
       "      <td>0.000000</td>\n",
       "      <td>0.000000</td>\n",
       "      <td>...</td>\n",
       "      <td>0.000000</td>\n",
       "      <td>0.000000</td>\n",
       "      <td>0.000000</td>\n",
       "      <td>0.000000</td>\n",
       "      <td>0.000000</td>\n",
       "      <td>0.000000</td>\n",
       "      <td>0.000000</td>\n",
       "      <td>0.000000</td>\n",
       "      <td>0.000000</td>\n",
       "      <td>0.000000</td>\n",
       "    </tr>\n",
       "    <tr>\n",
       "      <th>75%</th>\n",
       "      <td>0.000000</td>\n",
       "      <td>0.271495</td>\n",
       "      <td>0.906250</td>\n",
       "      <td>0.428571</td>\n",
       "      <td>0.901734</td>\n",
       "      <td>0.000000</td>\n",
       "      <td>0.000000</td>\n",
       "      <td>1.000000</td>\n",
       "      <td>0.000000</td>\n",
       "      <td>0.000000</td>\n",
       "      <td>...</td>\n",
       "      <td>0.000000</td>\n",
       "      <td>0.000000</td>\n",
       "      <td>0.000000</td>\n",
       "      <td>1.000000</td>\n",
       "      <td>0.250000</td>\n",
       "      <td>0.000000</td>\n",
       "      <td>0.000000</td>\n",
       "      <td>0.000000</td>\n",
       "      <td>0.000000</td>\n",
       "      <td>0.000000</td>\n",
       "    </tr>\n",
       "    <tr>\n",
       "      <th>max</th>\n",
       "      <td>1.000000</td>\n",
       "      <td>1.000000</td>\n",
       "      <td>1.000000</td>\n",
       "      <td>1.000000</td>\n",
       "      <td>1.000000</td>\n",
       "      <td>1.000000</td>\n",
       "      <td>1.000000</td>\n",
       "      <td>1.000000</td>\n",
       "      <td>1.000000</td>\n",
       "      <td>1.000000</td>\n",
       "      <td>...</td>\n",
       "      <td>1.000000</td>\n",
       "      <td>1.000000</td>\n",
       "      <td>1.000000</td>\n",
       "      <td>1.000000</td>\n",
       "      <td>1.000000</td>\n",
       "      <td>1.000000</td>\n",
       "      <td>1.000000</td>\n",
       "      <td>1.000000</td>\n",
       "      <td>1.000000</td>\n",
       "      <td>1.000000</td>\n",
       "    </tr>\n",
       "  </tbody>\n",
       "</table>\n",
       "<p>8 rows × 64 columns</p>\n",
       "</div>"
      ],
      "text/plain": [
       "         Warranty       Price      rating  RAMCapacity  Display(inch)  \\\n",
       "count  384.000000  384.000000  384.000000   384.000000     384.000000   \n",
       "mean     0.022305    0.199331    0.821484     0.219494       0.795249   \n",
       "std      0.105894    0.142171    0.182152     0.174810       0.211498   \n",
       "min      0.000000    0.000000    0.000000     0.000000       0.000000   \n",
       "25%      0.000000    0.087227    0.750000     0.142857       0.809249   \n",
       "50%      0.000000    0.155763    0.875000     0.142857       0.809249   \n",
       "75%      0.000000    0.271495    0.906250     0.428571       0.901734   \n",
       "max      1.000000    1.000000    1.000000     1.000000       1.000000   \n",
       "\n",
       "              DOS         Mac     Windows  1024 GB HDD|128 GB SSD  \\\n",
       "count  384.000000  384.000000  384.000000              384.000000   \n",
       "mean     0.002604    0.039062    0.950521                0.013021   \n",
       "std      0.051031    0.193996    0.217149                0.113511   \n",
       "min      0.000000    0.000000    0.000000                0.000000   \n",
       "25%      0.000000    0.000000    1.000000                0.000000   \n",
       "50%      0.000000    0.000000    1.000000                0.000000   \n",
       "75%      0.000000    0.000000    1.000000                0.000000   \n",
       "max      1.000000    1.000000    1.000000                1.000000   \n",
       "\n",
       "       1024 GB HDD|256 GB SSD  ...  AMD Ryzen 9 Octa Core Processor  \\\n",
       "count              384.000000  ...                       384.000000   \n",
       "mean                 0.187500  ...                         0.007812   \n",
       "std                  0.390822  ...                         0.088157   \n",
       "min                  0.000000  ...                         0.000000   \n",
       "25%                  0.000000  ...                         0.000000   \n",
       "50%                  0.000000  ...                         0.000000   \n",
       "75%                  0.000000  ...                         0.000000   \n",
       "max                  1.000000  ...                         1.000000   \n",
       "\n",
       "       Intel Celeron Dual Core Processor  Intel Core i3 Processor   \\\n",
       "count                         384.000000                384.000000   \n",
       "mean                            0.018229                  0.151042   \n",
       "std                             0.133954                  0.358557   \n",
       "min                             0.000000                  0.000000   \n",
       "25%                             0.000000                  0.000000   \n",
       "50%                             0.000000                  0.000000   \n",
       "75%                             0.000000                  0.000000   \n",
       "max                             1.000000                  1.000000   \n",
       "\n",
       "       Intel Core i5 Processor   Intel Core i7 Processor   \\\n",
       "count                384.000000                384.000000   \n",
       "mean                   0.388021                  0.250000   \n",
       "std                    0.487935                  0.433578   \n",
       "min                    0.000000                  0.000000   \n",
       "25%                    0.000000                  0.000000   \n",
       "50%                    0.000000                  0.000000   \n",
       "75%                    1.000000                  0.250000   \n",
       "max                    1.000000                  1.000000   \n",
       "\n",
       "       Intel Core i9 Processor   \\\n",
       "count                384.000000   \n",
       "mean                   0.015625   \n",
       "std                    0.124181   \n",
       "min                    0.000000   \n",
       "25%                    0.000000   \n",
       "50%                    0.000000   \n",
       "75%                    0.000000   \n",
       "max                    1.000000   \n",
       "\n",
       "       Intel Evo platform feat 11th Gen Intel Core i5 processor  \\\n",
       "count                                         384.000000          \n",
       "mean                                            0.002604          \n",
       "std                                             0.051031          \n",
       "min                                             0.000000          \n",
       "25%                                             0.000000          \n",
       "50%                                             0.000000          \n",
       "75%                                             0.000000          \n",
       "max                                             1.000000          \n",
       "\n",
       "       Intel Evo platform feat 11th Gen Intel Core i7 processor  \\\n",
       "count                                         384.000000          \n",
       "mean                                            0.002604          \n",
       "std                                             0.051031          \n",
       "min                                             0.000000          \n",
       "25%                                             0.000000          \n",
       "50%                                             0.000000          \n",
       "75%                                             0.000000          \n",
       "max                                             1.000000          \n",
       "\n",
       "       Intel Pentium Quad Core Processor  Microsoft Core i5 Processor   \n",
       "count                         384.000000                    384.000000  \n",
       "mean                            0.002604                      0.002604  \n",
       "std                             0.051031                      0.051031  \n",
       "min                             0.000000                      0.000000  \n",
       "25%                             0.000000                      0.000000  \n",
       "50%                             0.000000                      0.000000  \n",
       "75%                             0.000000                      0.000000  \n",
       "max                             1.000000                      1.000000  \n",
       "\n",
       "[8 rows x 64 columns]"
      ]
     },
     "execution_count": 34,
     "metadata": {},
     "output_type": "execute_result"
    }
   ],
   "source": [
    "mydata_train.describe()"
   ]
  },
  {
   "cell_type": "code",
   "execution_count": 44,
   "id": "24d07524",
   "metadata": {},
   "outputs": [],
   "source": [
    "#Correlation using heatmap\n",
    "#plt.figure(figsize = (30, 25))\n",
    "#sns.heatmap(mydata_train.corr(),annot=True)\n",
    "#plt.show()\n"
   ]
  },
  {
   "cell_type": "code",
   "execution_count": 45,
   "id": "10b39039",
   "metadata": {},
   "outputs": [],
   "source": [
    "#Splitting to X and y\n",
    "X_train=mydata_train.drop(['Price'],axis=1)\n",
    "y_train=mydata_train['Price']"
   ]
  },
  {
   "cell_type": "code",
   "execution_count": 50,
   "id": "c412a630",
   "metadata": {},
   "outputs": [],
   "source": [
    "X_test=mydata_test.drop(['Price'],axis=1)\n",
    "y_test=mydata_test['Price']"
   ]
  },
  {
   "cell_type": "code",
   "execution_count": 52,
   "id": "0cffa31d",
   "metadata": {},
   "outputs": [
    {
     "data": {
      "text/plain": [
       "165"
      ]
     },
     "execution_count": 52,
     "metadata": {},
     "output_type": "execute_result"
    }
   ],
   "source": [
    "len(X_test)"
   ]
  },
  {
   "cell_type": "code",
   "execution_count": 74,
   "id": "28788325",
   "metadata": {},
   "outputs": [
    {
     "data": {
      "text/plain": [
       "0.5130798288004899"
      ]
     },
     "execution_count": 74,
     "metadata": {},
     "output_type": "execute_result"
    }
   ],
   "source": [
    "lr_model = LinearRegression()\n",
    "lr_model.fit(X_train,y_train)\n",
    "lr_model.score(X_train,y_train)"
   ]
  },
  {
   "cell_type": "code",
   "execution_count": 48,
   "id": "62ce6e97",
   "metadata": {},
   "outputs": [
    {
     "data": {
      "text/plain": [
       "0.9940259107783836"
      ]
     },
     "execution_count": 48,
     "metadata": {},
     "output_type": "execute_result"
    }
   ],
   "source": [
    "model=DecisionTreeRegressor()\n",
    "model.fit(X_train,y_train)\n",
    "model.score(X_train,y_train)"
   ]
  },
  {
   "cell_type": "code",
   "execution_count": 61,
   "id": "702427aa",
   "metadata": {},
   "outputs": [],
   "source": [
    "y_pred=model.predict(X_test)"
   ]
  },
  {
   "cell_type": "code",
   "execution_count": 63,
   "id": "90dd2005",
   "metadata": {},
   "outputs": [
    {
     "name": "stdout",
     "output_type": "stream",
     "text": [
      "MAE: 79646.7582346833\n",
      "MSE: 8264520299.2426405\n",
      "RMSE: 282.2175725122078\n"
     ]
    }
   ],
   "source": [
    "from sklearn import metrics\n",
    "print('MAE:',metrics.mean_absolute_error(y_test, y_pred))\n",
    "print('MSE:',metrics.mean_squared_error(y_test, y_pred))\n",
    "print('RMSE:',np.sqrt(metrics.mean_absolute_error(y_test, y_pred)))\n"
   ]
  },
  {
   "cell_type": "code",
   "execution_count": 59,
   "id": "a5e10daf",
   "metadata": {},
   "outputs": [
    {
     "name": "stdout",
     "output_type": "stream",
     "text": [
      "0.8862718001119886\n"
     ]
    }
   ],
   "source": [
    "from sklearn.ensemble import RandomForestRegressor\n",
    "reg=RandomForestRegressor(n_estimators=100,random_state=8)\n",
    "reg.fit(X_train,y_train)\n",
    "print(reg.score(X_train,y_train))\n",
    "pred1=reg.predict(X_test)"
   ]
  },
  {
   "cell_type": "code",
   "execution_count": 64,
   "id": "64765e75",
   "metadata": {},
   "outputs": [
    {
     "name": "stdout",
     "output_type": "stream",
     "text": [
      "MAE: 79646.82134490437\n",
      "MSE: 8264529211.538507\n",
      "RMSE: 282.2176843234746\n"
     ]
    }
   ],
   "source": [
    "\n",
    "print('MAE:',metrics.mean_absolute_error(y_test,pred1))\n",
    "print('MSE:',metrics.mean_squared_error(y_test,pred1))\n",
    "print('RMSE:',np.sqrt(metrics.mean_absolute_error(y_test,pred1)))\n"
   ]
  },
  {
   "cell_type": "code",
   "execution_count": null,
   "id": "131b88ee",
   "metadata": {},
   "outputs": [],
   "source": []
  }
 ],
 "metadata": {
  "kernelspec": {
   "display_name": "Python 3",
   "language": "python",
   "name": "python3"
  },
  "language_info": {
   "codemirror_mode": {
    "name": "ipython",
    "version": 3
   },
   "file_extension": ".py",
   "mimetype": "text/x-python",
   "name": "python",
   "nbconvert_exporter": "python",
   "pygments_lexer": "ipython3",
   "version": "3.8.8"
  }
 },
 "nbformat": 4,
 "nbformat_minor": 5
}
