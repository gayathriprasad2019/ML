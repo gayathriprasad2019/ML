{
 "cells": [
  {
   "cell_type": "markdown",
   "id": "750459d8",
   "metadata": {},
   "source": [
    "# Import libraries"
   ]
  },
  {
   "cell_type": "code",
   "execution_count": 1,
   "id": "6bd64571",
   "metadata": {},
   "outputs": [],
   "source": [
    "import numpy as np\n",
    "import pandas as pd \n",
    "import seaborn as sns\n",
    "import matplotlib.pyplot as plt"
   ]
  },
  {
   "cell_type": "markdown",
   "id": "0af8d1be",
   "metadata": {},
   "source": [
    "# Load Dataset"
   ]
  },
  {
   "cell_type": "markdown",
   "id": "2781f721",
   "metadata": {},
   "source": [
    "Variable Description\n",
    "\n",
    "    Age: Age of patient\n",
    "    Sex: Gender of patient\n",
    "    BP: Blood pressure of patient\n",
    "    Cholesterol: Cholesterol of patient\n",
    "    Na_to_K: Sodium to Potassium Ratio in Blood\n",
    "    Drug: Drug Type"
   ]
  },
  {
   "cell_type": "code",
   "execution_count": 2,
   "id": "20b54167",
   "metadata": {},
   "outputs": [
    {
     "data": {
      "text/html": [
       "<div>\n",
       "<style scoped>\n",
       "    .dataframe tbody tr th:only-of-type {\n",
       "        vertical-align: middle;\n",
       "    }\n",
       "\n",
       "    .dataframe tbody tr th {\n",
       "        vertical-align: top;\n",
       "    }\n",
       "\n",
       "    .dataframe thead th {\n",
       "        text-align: right;\n",
       "    }\n",
       "</style>\n",
       "<table border=\"1\" class=\"dataframe\">\n",
       "  <thead>\n",
       "    <tr style=\"text-align: right;\">\n",
       "      <th></th>\n",
       "      <th>Age</th>\n",
       "      <th>Sex</th>\n",
       "      <th>BP</th>\n",
       "      <th>Cholesterol</th>\n",
       "      <th>Na_to_K</th>\n",
       "      <th>Drug</th>\n",
       "    </tr>\n",
       "  </thead>\n",
       "  <tbody>\n",
       "    <tr>\n",
       "      <th>0</th>\n",
       "      <td>23</td>\n",
       "      <td>F</td>\n",
       "      <td>HIGH</td>\n",
       "      <td>HIGH</td>\n",
       "      <td>25.355</td>\n",
       "      <td>DrugY</td>\n",
       "    </tr>\n",
       "    <tr>\n",
       "      <th>1</th>\n",
       "      <td>47</td>\n",
       "      <td>M</td>\n",
       "      <td>LOW</td>\n",
       "      <td>HIGH</td>\n",
       "      <td>13.093</td>\n",
       "      <td>drugC</td>\n",
       "    </tr>\n",
       "    <tr>\n",
       "      <th>2</th>\n",
       "      <td>47</td>\n",
       "      <td>M</td>\n",
       "      <td>LOW</td>\n",
       "      <td>HIGH</td>\n",
       "      <td>10.114</td>\n",
       "      <td>drugC</td>\n",
       "    </tr>\n",
       "    <tr>\n",
       "      <th>3</th>\n",
       "      <td>28</td>\n",
       "      <td>F</td>\n",
       "      <td>NORMAL</td>\n",
       "      <td>HIGH</td>\n",
       "      <td>7.798</td>\n",
       "      <td>drugX</td>\n",
       "    </tr>\n",
       "    <tr>\n",
       "      <th>4</th>\n",
       "      <td>61</td>\n",
       "      <td>F</td>\n",
       "      <td>LOW</td>\n",
       "      <td>HIGH</td>\n",
       "      <td>18.043</td>\n",
       "      <td>DrugY</td>\n",
       "    </tr>\n",
       "    <tr>\n",
       "      <th>...</th>\n",
       "      <td>...</td>\n",
       "      <td>...</td>\n",
       "      <td>...</td>\n",
       "      <td>...</td>\n",
       "      <td>...</td>\n",
       "      <td>...</td>\n",
       "    </tr>\n",
       "    <tr>\n",
       "      <th>195</th>\n",
       "      <td>56</td>\n",
       "      <td>F</td>\n",
       "      <td>LOW</td>\n",
       "      <td>HIGH</td>\n",
       "      <td>11.567</td>\n",
       "      <td>drugC</td>\n",
       "    </tr>\n",
       "    <tr>\n",
       "      <th>196</th>\n",
       "      <td>16</td>\n",
       "      <td>M</td>\n",
       "      <td>LOW</td>\n",
       "      <td>HIGH</td>\n",
       "      <td>12.006</td>\n",
       "      <td>drugC</td>\n",
       "    </tr>\n",
       "    <tr>\n",
       "      <th>197</th>\n",
       "      <td>52</td>\n",
       "      <td>M</td>\n",
       "      <td>NORMAL</td>\n",
       "      <td>HIGH</td>\n",
       "      <td>9.894</td>\n",
       "      <td>drugX</td>\n",
       "    </tr>\n",
       "    <tr>\n",
       "      <th>198</th>\n",
       "      <td>23</td>\n",
       "      <td>M</td>\n",
       "      <td>NORMAL</td>\n",
       "      <td>NORMAL</td>\n",
       "      <td>14.020</td>\n",
       "      <td>drugX</td>\n",
       "    </tr>\n",
       "    <tr>\n",
       "      <th>199</th>\n",
       "      <td>40</td>\n",
       "      <td>F</td>\n",
       "      <td>LOW</td>\n",
       "      <td>NORMAL</td>\n",
       "      <td>11.349</td>\n",
       "      <td>drugX</td>\n",
       "    </tr>\n",
       "  </tbody>\n",
       "</table>\n",
       "<p>200 rows × 6 columns</p>\n",
       "</div>"
      ],
      "text/plain": [
       "     Age Sex      BP Cholesterol  Na_to_K   Drug\n",
       "0     23   F    HIGH        HIGH   25.355  DrugY\n",
       "1     47   M     LOW        HIGH   13.093  drugC\n",
       "2     47   M     LOW        HIGH   10.114  drugC\n",
       "3     28   F  NORMAL        HIGH    7.798  drugX\n",
       "4     61   F     LOW        HIGH   18.043  DrugY\n",
       "..   ...  ..     ...         ...      ...    ...\n",
       "195   56   F     LOW        HIGH   11.567  drugC\n",
       "196   16   M     LOW        HIGH   12.006  drugC\n",
       "197   52   M  NORMAL        HIGH    9.894  drugX\n",
       "198   23   M  NORMAL      NORMAL   14.020  drugX\n",
       "199   40   F     LOW      NORMAL   11.349  drugX\n",
       "\n",
       "[200 rows x 6 columns]"
      ]
     },
     "execution_count": 2,
     "metadata": {},
     "output_type": "execute_result"
    }
   ],
   "source": [
    "drug_data=pd.read_csv(\"drug.csv\")\n",
    "drug_data"
   ]
  },
  {
   "cell_type": "markdown",
   "id": "1df775f0",
   "metadata": {},
   "source": [
    "# Check datatypes and null values"
   ]
  },
  {
   "cell_type": "code",
   "execution_count": 3,
   "id": "ecb70aee",
   "metadata": {},
   "outputs": [
    {
     "name": "stdout",
     "output_type": "stream",
     "text": [
      "<class 'pandas.core.frame.DataFrame'>\n",
      "RangeIndex: 200 entries, 0 to 199\n",
      "Data columns (total 6 columns):\n",
      " #   Column       Non-Null Count  Dtype  \n",
      "---  ------       --------------  -----  \n",
      " 0   Age          200 non-null    int64  \n",
      " 1   Sex          200 non-null    object \n",
      " 2   BP           200 non-null    object \n",
      " 3   Cholesterol  200 non-null    object \n",
      " 4   Na_to_K      200 non-null    float64\n",
      " 5   Drug         200 non-null    object \n",
      "dtypes: float64(1), int64(1), object(4)\n",
      "memory usage: 9.5+ KB\n"
     ]
    }
   ],
   "source": [
    "drug_data.info()"
   ]
  },
  {
   "cell_type": "code",
   "execution_count": 4,
   "id": "cda9cc50",
   "metadata": {},
   "outputs": [
    {
     "data": {
      "text/html": [
       "<div>\n",
       "<style scoped>\n",
       "    .dataframe tbody tr th:only-of-type {\n",
       "        vertical-align: middle;\n",
       "    }\n",
       "\n",
       "    .dataframe tbody tr th {\n",
       "        vertical-align: top;\n",
       "    }\n",
       "\n",
       "    .dataframe thead th {\n",
       "        text-align: right;\n",
       "    }\n",
       "</style>\n",
       "<table border=\"1\" class=\"dataframe\">\n",
       "  <thead>\n",
       "    <tr style=\"text-align: right;\">\n",
       "      <th></th>\n",
       "      <th>Age</th>\n",
       "      <th>Na_to_K</th>\n",
       "    </tr>\n",
       "  </thead>\n",
       "  <tbody>\n",
       "    <tr>\n",
       "      <th>count</th>\n",
       "      <td>200.000000</td>\n",
       "      <td>200.000000</td>\n",
       "    </tr>\n",
       "    <tr>\n",
       "      <th>mean</th>\n",
       "      <td>44.315000</td>\n",
       "      <td>16.084485</td>\n",
       "    </tr>\n",
       "    <tr>\n",
       "      <th>std</th>\n",
       "      <td>16.544315</td>\n",
       "      <td>7.223956</td>\n",
       "    </tr>\n",
       "    <tr>\n",
       "      <th>min</th>\n",
       "      <td>15.000000</td>\n",
       "      <td>6.269000</td>\n",
       "    </tr>\n",
       "    <tr>\n",
       "      <th>25%</th>\n",
       "      <td>31.000000</td>\n",
       "      <td>10.445500</td>\n",
       "    </tr>\n",
       "    <tr>\n",
       "      <th>50%</th>\n",
       "      <td>45.000000</td>\n",
       "      <td>13.936500</td>\n",
       "    </tr>\n",
       "    <tr>\n",
       "      <th>75%</th>\n",
       "      <td>58.000000</td>\n",
       "      <td>19.380000</td>\n",
       "    </tr>\n",
       "    <tr>\n",
       "      <th>max</th>\n",
       "      <td>74.000000</td>\n",
       "      <td>38.247000</td>\n",
       "    </tr>\n",
       "  </tbody>\n",
       "</table>\n",
       "</div>"
      ],
      "text/plain": [
       "              Age     Na_to_K\n",
       "count  200.000000  200.000000\n",
       "mean    44.315000   16.084485\n",
       "std     16.544315    7.223956\n",
       "min     15.000000    6.269000\n",
       "25%     31.000000   10.445500\n",
       "50%     45.000000   13.936500\n",
       "75%     58.000000   19.380000\n",
       "max     74.000000   38.247000"
      ]
     },
     "execution_count": 4,
     "metadata": {},
     "output_type": "execute_result"
    }
   ],
   "source": [
    "drug_data.describe()"
   ]
  },
  {
   "cell_type": "markdown",
   "id": "61b9319f",
   "metadata": {},
   "source": [
    "# Data Analysis"
   ]
  },
  {
   "cell_type": "code",
   "execution_count": 5,
   "id": "33110c60",
   "metadata": {},
   "outputs": [
    {
     "data": {
      "text/plain": [
       "<Figure size 648x360 with 0 Axes>"
      ]
     },
     "metadata": {},
     "output_type": "display_data"
    },
    {
     "data": {
      "image/png": "[encoded data removed]",
      "text/plain": [
       "<Figure size 360x360 with 1 Axes>"
      ]
     },
     "metadata": {
      "needs_background": "light"
     },
     "output_type": "display_data"
    }
   ],
   "source": [
    "# Age distribution #Age range is between 15 and 74.\n",
    "plt.figure(figsize = (9,5))\n",
    "sns.displot(drug_data.Age)\n",
    "plt.show()"
   ]
  },
  {
   "cell_type": "code",
   "execution_count": 6,
   "id": "8c4c6f1d",
   "metadata": {},
   "outputs": [
    {
     "data": {
      "text/plain": [
       "M    104\n",
       "F     96\n",
       "Name: Sex, dtype: int64"
      ]
     },
     "execution_count": 6,
     "metadata": {},
     "output_type": "execute_result"
    }
   ],
   "source": [
    "drug_data.Sex.value_counts()"
   ]
  },
  {
   "cell_type": "code",
   "execution_count": 7,
   "id": "f17278fc",
   "metadata": {},
   "outputs": [
    {
     "data": {
      "image/png": "[encoded data removed]",
      "text/plain": [
       "<Figure size 648x360 with 1 Axes>"
      ]
     },
     "metadata": {
      "needs_background": "light"
     },
     "output_type": "display_data"
    }
   ],
   "source": [
    "#Sex Distribution\n",
    "plt.figure(figsize=(9,5))\n",
    "sns.countplot(x = drug_data.Sex)\n",
    "plt.show()"
   ]
  },
  {
   "cell_type": "code",
   "execution_count": 8,
   "id": "649822e4",
   "metadata": {},
   "outputs": [
    {
     "data": {
      "text/plain": [
       "HIGH      77\n",
       "LOW       64\n",
       "NORMAL    59\n",
       "Name: BP, dtype: int64"
      ]
     },
     "execution_count": 8,
     "metadata": {},
     "output_type": "execute_result"
    }
   ],
   "source": [
    "drug_data.BP.value_counts()"
   ]
  },
  {
   "cell_type": "code",
   "execution_count": 9,
   "id": "5981a35f",
   "metadata": {},
   "outputs": [
    {
     "data": {
      "image/png": "[encoded data removed]",
      "text/plain": [
       "<Figure size 648x360 with 1 Axes>"
      ]
     },
     "metadata": {
      "needs_background": "light"
     },
     "output_type": "display_data"
    }
   ],
   "source": [
    "plt.figure(figsize = (9,5))\n",
    "sns.countplot(x='BP',data=drug_data)\n",
    "plt.show()"
   ]
  },
  {
   "cell_type": "code",
   "execution_count": 10,
   "id": "80b09b67",
   "metadata": {},
   "outputs": [
    {
     "data": {
      "text/plain": [
       "HIGH      103\n",
       "NORMAL     97\n",
       "Name: Cholesterol, dtype: int64"
      ]
     },
     "execution_count": 10,
     "metadata": {},
     "output_type": "execute_result"
    }
   ],
   "source": [
    "drug_data.Cholesterol.value_counts()"
   ]
  },
  {
   "cell_type": "code",
   "execution_count": 11,
   "id": "d3a33035",
   "metadata": {},
   "outputs": [
    {
     "data": {
      "image/png": "[encoded data removed]",
      "text/plain": [
       "<Figure size 648x360 with 1 Axes>"
      ]
     },
     "metadata": {
      "needs_background": "light"
     },
     "output_type": "display_data"
    }
   ],
   "source": [
    "plt.figure(figsize = (9,5))\n",
    "sns.countplot(x='Cholesterol',data=drug_data)\n",
    "plt.show()"
   ]
  },
  {
   "cell_type": "code",
   "execution_count": 12,
   "id": "cf99d028",
   "metadata": {},
   "outputs": [
    {
     "data": {
      "text/plain": [
       "<Figure size 648x360 with 0 Axes>"
      ]
     },
     "metadata": {},
     "output_type": "display_data"
    },
    {
     "data": {
      "image/png": "[encoded data removed]",
      "text/plain": [
       "<Figure size 360x360 with 1 Axes>"
      ]
     },
     "metadata": {
      "needs_background": "light"
     },
     "output_type": "display_data"
    }
   ],
   "source": [
    "plt.figure(figsize = (9,5))\n",
    "sns.displot(drug_data.Na_to_K,kind='kde')\n",
    "plt.show()"
   ]
  },
  {
   "cell_type": "code",
   "execution_count": 13,
   "id": "8a5a4058",
   "metadata": {},
   "outputs": [
    {
     "data": {
      "text/plain": [
       "DrugY    91\n",
       "drugX    54\n",
       "drugA    23\n",
       "drugC    16\n",
       "drugB    16\n",
       "Name: Drug, dtype: int64"
      ]
     },
     "execution_count": 13,
     "metadata": {},
     "output_type": "execute_result"
    }
   ],
   "source": [
    "drug_data.Drug.value_counts()"
   ]
  },
  {
   "cell_type": "code",
   "execution_count": 14,
   "id": "7e8fe2d1",
   "metadata": {},
   "outputs": [
    {
     "data": {
      "image/png": "[encoded data removed]",
      "text/plain": [
       "<Figure size 648x360 with 1 Axes>"
      ]
     },
     "metadata": {
      "needs_background": "light"
     },
     "output_type": "display_data"
    }
   ],
   "source": [
    "plt.figure(figsize = (9,5))\n",
    "sns.countplot(x='Drug',data=drug_data)\n",
    "plt.show()"
   ]
  },
  {
   "cell_type": "markdown",
   "id": "0ae9af22",
   "metadata": {},
   "source": [
    "Drug is target column and you can see that it is unbalanced dataset. Using Stratified K Fold cross-validation would be better for reliable results."
   ]
  },
  {
   "cell_type": "code",
   "execution_count": 15,
   "id": "053cee67",
   "metadata": {},
   "outputs": [
    {
     "data": {
      "image/png": "[encoded data removed]",
      "text/plain": [
       "<Figure size 648x360 with 1 Axes>"
      ]
     },
     "metadata": {
      "needs_background": "light"
     },
     "output_type": "display_data"
    }
   ],
   "source": [
    "#Age Vs Drug\n",
    "plt.figure(figsize = (9,5))\n",
    "sns.swarmplot(x = \"Drug\", y = \"Age\",data = drug_data)\n",
    "plt.legend(drug_data.Drug.value_counts().index)\n",
    "plt.title(\"Age Vs Drug\")\n",
    "plt.show()"
   ]
  },
  {
   "cell_type": "code",
   "execution_count": 16,
   "id": "456a6aa1",
   "metadata": {},
   "outputs": [
    {
     "name": "stdout",
     "output_type": "stream",
     "text": [
      "Minimum Age of DrugA 19\n",
      "Minimum Age of DrugB 51\n",
      "Minimum Age of DrugC 16\n",
      "Minimum Age of DrugX 15\n",
      "Minimum Age of DrugY 15\n"
     ]
    }
   ],
   "source": [
    "print(\"Minimum Age of DrugA\",drug_data.Age[drug_data.Drug == \"drugA\"].min())\n",
    "print(\"Minimum Age of DrugB\",drug_data.Age[drug_data.Drug == \"drugB\"].min())\n",
    "print(\"Minimum Age of DrugC\",drug_data.Age[drug_data.Drug == \"drugC\"].min())\n",
    "print(\"Minimum Age of DrugX\",drug_data.Age[drug_data.Drug == \"drugX\"].min())\n",
    "print(\"Minimum Age of DrugY\",drug_data.Age[drug_data.Drug == \"DrugY\"].min())\n"
   ]
  },
  {
   "cell_type": "code",
   "execution_count": 17,
   "id": "b73df7fc",
   "metadata": {},
   "outputs": [
    {
     "name": "stdout",
     "output_type": "stream",
     "text": [
      "Maximum Age of DrugA 50\n",
      "Maximum Age of DrugB 74\n",
      "Maximum Age of DrugC 72\n",
      "Maximum Age of DrugX 74\n",
      "Maximum Age of DrugY 74\n"
     ]
    }
   ],
   "source": [
    "print(\"Maximum Age of DrugA\",drug_data.Age[drug_data.Drug == \"drugA\"].max())\n",
    "print(\"Maximum Age of DrugB\",drug_data.Age[drug_data.Drug == \"drugB\"].max())\n",
    "print(\"Maximum Age of DrugC\",drug_data.Age[drug_data.Drug == \"drugC\"].max())\n",
    "print(\"Maximum Age of DrugX\",drug_data.Age[drug_data.Drug == \"drugX\"].max())\n",
    "print(\"Maximum Age of DrugY\",drug_data.Age[drug_data.Drug == \"DrugY\"].max())\n"
   ]
  },
  {
   "cell_type": "code",
   "execution_count": 18,
   "id": "1b6bbefc",
   "metadata": {},
   "outputs": [
    {
     "data": {
      "text/plain": [
       "Drug   Sex\n",
       "DrugY  F      47\n",
       "       M      44\n",
       "drugA  F       9\n",
       "       M      14\n",
       "drugB  F       6\n",
       "       M      10\n",
       "drugC  F       7\n",
       "       M       9\n",
       "drugX  F      27\n",
       "       M      27\n",
       "dtype: int64"
      ]
     },
     "execution_count": 18,
     "metadata": {},
     "output_type": "execute_result"
    }
   ],
   "source": [
    "#Sex Vs Drug\n",
    "drug_data_Sex_Drug = drug_data.groupby([\"Drug\",\"Sex\"]).size()\n",
    "drug_data_Sex_Drug"
   ]
  },
  {
   "cell_type": "code",
   "execution_count": 19,
   "id": "74491048",
   "metadata": {},
   "outputs": [
    {
     "data": {
      "image/png": "[encoded data removed]",
      "text/plain": [
       "<Figure size 648x360 with 1 Axes>"
      ]
     },
     "metadata": {
      "needs_background": "light"
     },
     "output_type": "display_data"
    }
   ],
   "source": [
    "plt.figure(figsize = (9,5))\n",
    "sns.countplot(x = \"Drug\",hue = \"Sex\",data = drug_data)\n",
    "plt.title(\"Sex Vs Drug\")\n",
    "plt.show()"
   ]
  },
  {
   "cell_type": "code",
   "execution_count": 75,
   "id": "04c4868e",
   "metadata": {},
   "outputs": [
    {
     "data": {
      "text/html": [
       "<div>\n",
       "<style scoped>\n",
       "    .dataframe tbody tr th:only-of-type {\n",
       "        vertical-align: middle;\n",
       "    }\n",
       "\n",
       "    .dataframe tbody tr th {\n",
       "        vertical-align: top;\n",
       "    }\n",
       "\n",
       "    .dataframe thead th {\n",
       "        text-align: right;\n",
       "    }\n",
       "</style>\n",
       "<table border=\"1\" class=\"dataframe\">\n",
       "  <thead>\n",
       "    <tr style=\"text-align: right;\">\n",
       "      <th></th>\n",
       "      <th>Drug</th>\n",
       "      <th>BP</th>\n",
       "      <th>Count</th>\n",
       "    </tr>\n",
       "  </thead>\n",
       "  <tbody>\n",
       "    <tr>\n",
       "      <th>4</th>\n",
       "      <td>drugB</td>\n",
       "      <td>HIGH</td>\n",
       "      <td>16</td>\n",
       "    </tr>\n",
       "    <tr>\n",
       "      <th>5</th>\n",
       "      <td>drugC</td>\n",
       "      <td>LOW</td>\n",
       "      <td>16</td>\n",
       "    </tr>\n",
       "    <tr>\n",
       "      <th>6</th>\n",
       "      <td>drugX</td>\n",
       "      <td>LOW</td>\n",
       "      <td>18</td>\n",
       "    </tr>\n",
       "    <tr>\n",
       "      <th>2</th>\n",
       "      <td>DrugY</td>\n",
       "      <td>NORMAL</td>\n",
       "      <td>23</td>\n",
       "    </tr>\n",
       "    <tr>\n",
       "      <th>3</th>\n",
       "      <td>drugA</td>\n",
       "      <td>HIGH</td>\n",
       "      <td>23</td>\n",
       "    </tr>\n",
       "    <tr>\n",
       "      <th>1</th>\n",
       "      <td>DrugY</td>\n",
       "      <td>LOW</td>\n",
       "      <td>30</td>\n",
       "    </tr>\n",
       "    <tr>\n",
       "      <th>7</th>\n",
       "      <td>drugX</td>\n",
       "      <td>NORMAL</td>\n",
       "      <td>36</td>\n",
       "    </tr>\n",
       "    <tr>\n",
       "      <th>0</th>\n",
       "      <td>DrugY</td>\n",
       "      <td>HIGH</td>\n",
       "      <td>38</td>\n",
       "    </tr>\n",
       "  </tbody>\n",
       "</table>\n",
       "</div>"
      ],
      "text/plain": [
       "    Drug      BP  Count\n",
       "4  drugB    HIGH     16\n",
       "5  drugC     LOW     16\n",
       "6  drugX     LOW     18\n",
       "2  DrugY  NORMAL     23\n",
       "3  drugA    HIGH     23\n",
       "1  DrugY     LOW     30\n",
       "7  drugX  NORMAL     36\n",
       "0  DrugY    HIGH     38"
      ]
     },
     "execution_count": 75,
     "metadata": {},
     "output_type": "execute_result"
    }
   ],
   "source": [
    "#BP Vs Drug\n",
    "drug_data_BP_Drug = drug_data.groupby([\"Drug\",\"BP\"]).size().reset_index(name='Count')\n",
    "drug_data_BP_Drug.sort_values(by='Count')"
   ]
  },
  {
   "cell_type": "code",
   "execution_count": 21,
   "id": "a3aa63ee",
   "metadata": {},
   "outputs": [
    {
     "data": {
      "image/png": "[encoded data removed]",
      "text/plain": [
       "<Figure size 648x360 with 1 Axes>"
      ]
     },
     "metadata": {
      "needs_background": "light"
     },
     "output_type": "display_data"
    }
   ],
   "source": [
    "plt.figure(figsize = (9,5))\n",
    "sns.barplot(x = \"Drug\",y=\"Count\", hue = \"BP\",data = drug_data_BP_Drug)\n",
    "plt.title(\"BP Vs Drug\")\n",
    "plt.show()"
   ]
  },
  {
   "cell_type": "markdown",
   "id": "559a2a8d",
   "metadata": {},
   "source": [
    "Drug X and Y possibly is not related to BP\n",
    "Drug A and B for High BP\n",
    "Drug C for low BP\n"
   ]
  },
  {
   "cell_type": "code",
   "execution_count": 22,
   "id": "c546e86f",
   "metadata": {},
   "outputs": [
    {
     "data": {
      "image/png": "[encoded data removed]",
      "text/plain": [
       "<Figure size 648x360 with 1 Axes>"
      ]
     },
     "metadata": {
      "needs_background": "light"
     },
     "output_type": "display_data"
    }
   ],
   "source": [
    "#Na_to_K Vs Drug\n",
    "plt.figure(figsize = (9,5))\n",
    "sns.boxplot(x = \"Drug\", y = \"Na_to_K\",data = drug_data)\n",
    "plt.title(\"Na_to_K Vs Drug\")\n",
    "plt.show()"
   ]
  },
  {
   "cell_type": "code",
   "execution_count": 23,
   "id": "131ecf1a",
   "metadata": {},
   "outputs": [
    {
     "data": {
      "text/html": [
       "<div>\n",
       "<style scoped>\n",
       "    .dataframe tbody tr th:only-of-type {\n",
       "        vertical-align: middle;\n",
       "    }\n",
       "\n",
       "    .dataframe tbody tr th {\n",
       "        vertical-align: top;\n",
       "    }\n",
       "\n",
       "    .dataframe thead th {\n",
       "        text-align: right;\n",
       "    }\n",
       "</style>\n",
       "<table border=\"1\" class=\"dataframe\">\n",
       "  <thead>\n",
       "    <tr style=\"text-align: right;\">\n",
       "      <th></th>\n",
       "      <th>Na_to_K</th>\n",
       "    </tr>\n",
       "    <tr>\n",
       "      <th>Drug</th>\n",
       "      <th></th>\n",
       "    </tr>\n",
       "  </thead>\n",
       "  <tbody>\n",
       "    <tr>\n",
       "      <th>DrugY</th>\n",
       "      <td>15.015</td>\n",
       "    </tr>\n",
       "    <tr>\n",
       "      <th>drugA</th>\n",
       "      <td>6.269</td>\n",
       "    </tr>\n",
       "    <tr>\n",
       "      <th>drugB</th>\n",
       "      <td>8.621</td>\n",
       "    </tr>\n",
       "    <tr>\n",
       "      <th>drugC</th>\n",
       "      <td>6.769</td>\n",
       "    </tr>\n",
       "    <tr>\n",
       "      <th>drugX</th>\n",
       "      <td>6.683</td>\n",
       "    </tr>\n",
       "  </tbody>\n",
       "</table>\n",
       "</div>"
      ],
      "text/plain": [
       "       Na_to_K\n",
       "Drug          \n",
       "DrugY   15.015\n",
       "drugA    6.269\n",
       "drugB    8.621\n",
       "drugC    6.769\n",
       "drugX    6.683"
      ]
     },
     "execution_count": 23,
     "metadata": {},
     "output_type": "execute_result"
    }
   ],
   "source": [
    "drug_data.groupby([\"Drug\"])[['Na_to_K']].min()"
   ]
  },
  {
   "cell_type": "code",
   "execution_count": 24,
   "id": "1149d4d2",
   "metadata": {},
   "outputs": [
    {
     "data": {
      "text/html": [
       "<div>\n",
       "<style scoped>\n",
       "    .dataframe tbody tr th:only-of-type {\n",
       "        vertical-align: middle;\n",
       "    }\n",
       "\n",
       "    .dataframe tbody tr th {\n",
       "        vertical-align: top;\n",
       "    }\n",
       "\n",
       "    .dataframe thead th {\n",
       "        text-align: right;\n",
       "    }\n",
       "</style>\n",
       "<table border=\"1\" class=\"dataframe\">\n",
       "  <thead>\n",
       "    <tr style=\"text-align: right;\">\n",
       "      <th></th>\n",
       "      <th>Na_to_K</th>\n",
       "    </tr>\n",
       "    <tr>\n",
       "      <th>Drug</th>\n",
       "      <th></th>\n",
       "    </tr>\n",
       "  </thead>\n",
       "  <tbody>\n",
       "    <tr>\n",
       "      <th>DrugY</th>\n",
       "      <td>38.247</td>\n",
       "    </tr>\n",
       "    <tr>\n",
       "      <th>drugA</th>\n",
       "      <td>13.972</td>\n",
       "    </tr>\n",
       "    <tr>\n",
       "      <th>drugB</th>\n",
       "      <td>14.239</td>\n",
       "    </tr>\n",
       "    <tr>\n",
       "      <th>drugC</th>\n",
       "      <td>14.160</td>\n",
       "    </tr>\n",
       "    <tr>\n",
       "      <th>drugX</th>\n",
       "      <td>14.642</td>\n",
       "    </tr>\n",
       "  </tbody>\n",
       "</table>\n",
       "</div>"
      ],
      "text/plain": [
       "       Na_to_K\n",
       "Drug          \n",
       "DrugY   38.247\n",
       "drugA   13.972\n",
       "drugB   14.239\n",
       "drugC   14.160\n",
       "drugX   14.642"
      ]
     },
     "execution_count": 24,
     "metadata": {},
     "output_type": "execute_result"
    }
   ],
   "source": [
    "drug_data.groupby([\"Drug\"])[['Na_to_K']].max()"
   ]
  },
  {
   "cell_type": "markdown",
   "id": "793ed6b7",
   "metadata": {},
   "source": [
    "Drug Y related to high Na to K ratio"
   ]
  },
  {
   "cell_type": "code",
   "execution_count": 25,
   "id": "9d25e812",
   "metadata": {},
   "outputs": [
    {
     "data": {
      "text/html": [
       "<div>\n",
       "<style scoped>\n",
       "    .dataframe tbody tr th:only-of-type {\n",
       "        vertical-align: middle;\n",
       "    }\n",
       "\n",
       "    .dataframe tbody tr th {\n",
       "        vertical-align: top;\n",
       "    }\n",
       "\n",
       "    .dataframe thead th {\n",
       "        text-align: right;\n",
       "    }\n",
       "</style>\n",
       "<table border=\"1\" class=\"dataframe\">\n",
       "  <thead>\n",
       "    <tr style=\"text-align: right;\">\n",
       "      <th></th>\n",
       "      <th>Drug</th>\n",
       "      <th>Cholesterol</th>\n",
       "      <th>Count</th>\n",
       "    </tr>\n",
       "  </thead>\n",
       "  <tbody>\n",
       "    <tr>\n",
       "      <th>0</th>\n",
       "      <td>DrugY</td>\n",
       "      <td>HIGH</td>\n",
       "      <td>47</td>\n",
       "    </tr>\n",
       "    <tr>\n",
       "      <th>1</th>\n",
       "      <td>DrugY</td>\n",
       "      <td>NORMAL</td>\n",
       "      <td>44</td>\n",
       "    </tr>\n",
       "    <tr>\n",
       "      <th>2</th>\n",
       "      <td>drugA</td>\n",
       "      <td>HIGH</td>\n",
       "      <td>12</td>\n",
       "    </tr>\n",
       "    <tr>\n",
       "      <th>3</th>\n",
       "      <td>drugA</td>\n",
       "      <td>NORMAL</td>\n",
       "      <td>11</td>\n",
       "    </tr>\n",
       "    <tr>\n",
       "      <th>4</th>\n",
       "      <td>drugB</td>\n",
       "      <td>HIGH</td>\n",
       "      <td>8</td>\n",
       "    </tr>\n",
       "    <tr>\n",
       "      <th>5</th>\n",
       "      <td>drugB</td>\n",
       "      <td>NORMAL</td>\n",
       "      <td>8</td>\n",
       "    </tr>\n",
       "    <tr>\n",
       "      <th>6</th>\n",
       "      <td>drugC</td>\n",
       "      <td>HIGH</td>\n",
       "      <td>16</td>\n",
       "    </tr>\n",
       "    <tr>\n",
       "      <th>7</th>\n",
       "      <td>drugX</td>\n",
       "      <td>HIGH</td>\n",
       "      <td>20</td>\n",
       "    </tr>\n",
       "    <tr>\n",
       "      <th>8</th>\n",
       "      <td>drugX</td>\n",
       "      <td>NORMAL</td>\n",
       "      <td>34</td>\n",
       "    </tr>\n",
       "  </tbody>\n",
       "</table>\n",
       "</div>"
      ],
      "text/plain": [
       "    Drug Cholesterol  Count\n",
       "0  DrugY        HIGH     47\n",
       "1  DrugY      NORMAL     44\n",
       "2  drugA        HIGH     12\n",
       "3  drugA      NORMAL     11\n",
       "4  drugB        HIGH      8\n",
       "5  drugB      NORMAL      8\n",
       "6  drugC        HIGH     16\n",
       "7  drugX        HIGH     20\n",
       "8  drugX      NORMAL     34"
      ]
     },
     "execution_count": 25,
     "metadata": {},
     "output_type": "execute_result"
    }
   ],
   "source": [
    "drug_data_CH_Drug = drug_data.groupby([\"Drug\",\"Cholesterol\"]).size().reset_index(name = \"Count\")\n",
    "drug_data_CH_Drug"
   ]
  },
  {
   "cell_type": "code",
   "execution_count": 26,
   "id": "0002ce2e",
   "metadata": {},
   "outputs": [
    {
     "data": {
      "image/png": "[encoded data removed]",
      "text/plain": [
       "<Figure size 648x360 with 1 Axes>"
      ]
     },
     "metadata": {
      "needs_background": "light"
     },
     "output_type": "display_data"
    }
   ],
   "source": [
    "plt.figure(figsize = (9,5))\n",
    "sns.barplot(x = \"Drug\",y=\"Count\", hue = \"Cholesterol\",data = drug_data_CH_Drug)\n",
    "plt.title(\"Cholesterol Vs Drug\")\n",
    "plt.show()"
   ]
  },
  {
   "cell_type": "markdown",
   "id": "ebb3a5bb",
   "metadata": {},
   "source": [
    "Drug C is for High Cholestrol"
   ]
  },
  {
   "cell_type": "code",
   "execution_count": 27,
   "id": "5ffed42d",
   "metadata": {},
   "outputs": [
    {
     "data": {
      "image/png": "[encoded data removed]",
      "text/plain": [
       "<Figure size 648x360 with 1 Axes>"
      ]
     },
     "metadata": {
      "needs_background": "light"
     },
     "output_type": "display_data"
    }
   ],
   "source": [
    "#Na_to_K and BP Vs Drug\n",
    "plt.figure(figsize = (9,5))\n",
    "sns.stripplot(x = \"Drug\", y = \"Na_to_K\",hue=\"BP\",data = drug_data)\n",
    "plt.legend()\n",
    "plt.title(\"Na_to_K and BP Vs Drug\")\n",
    "plt.show()"
   ]
  },
  {
   "cell_type": "markdown",
   "id": "ee401019",
   "metadata": {},
   "source": [
    "# Feature Engineering"
   ]
  },
  {
   "cell_type": "markdown",
   "id": "7483c1b9",
   "metadata": {},
   "source": [
    "If Na_to_K is bigger than 15, it is always drugY."
   ]
  },
  {
   "cell_type": "code",
   "execution_count": 28,
   "id": "93c3f6a6",
   "metadata": {},
   "outputs": [
    {
     "data": {
      "text/html": [
       "<div>\n",
       "<style scoped>\n",
       "    .dataframe tbody tr th:only-of-type {\n",
       "        vertical-align: middle;\n",
       "    }\n",
       "\n",
       "    .dataframe tbody tr th {\n",
       "        vertical-align: top;\n",
       "    }\n",
       "\n",
       "    .dataframe thead th {\n",
       "        text-align: right;\n",
       "    }\n",
       "</style>\n",
       "<table border=\"1\" class=\"dataframe\">\n",
       "  <thead>\n",
       "    <tr style=\"text-align: right;\">\n",
       "      <th></th>\n",
       "      <th>Age</th>\n",
       "      <th>Sex</th>\n",
       "      <th>BP</th>\n",
       "      <th>Cholesterol</th>\n",
       "      <th>Na_to_K</th>\n",
       "      <th>Drug</th>\n",
       "      <th>HighNatoK</th>\n",
       "    </tr>\n",
       "  </thead>\n",
       "  <tbody>\n",
       "    <tr>\n",
       "      <th>0</th>\n",
       "      <td>23</td>\n",
       "      <td>F</td>\n",
       "      <td>HIGH</td>\n",
       "      <td>HIGH</td>\n",
       "      <td>25.355</td>\n",
       "      <td>DrugY</td>\n",
       "      <td>1</td>\n",
       "    </tr>\n",
       "    <tr>\n",
       "      <th>1</th>\n",
       "      <td>47</td>\n",
       "      <td>M</td>\n",
       "      <td>LOW</td>\n",
       "      <td>HIGH</td>\n",
       "      <td>13.093</td>\n",
       "      <td>drugC</td>\n",
       "      <td>0</td>\n",
       "    </tr>\n",
       "    <tr>\n",
       "      <th>2</th>\n",
       "      <td>47</td>\n",
       "      <td>M</td>\n",
       "      <td>LOW</td>\n",
       "      <td>HIGH</td>\n",
       "      <td>10.114</td>\n",
       "      <td>drugC</td>\n",
       "      <td>0</td>\n",
       "    </tr>\n",
       "    <tr>\n",
       "      <th>3</th>\n",
       "      <td>28</td>\n",
       "      <td>F</td>\n",
       "      <td>NORMAL</td>\n",
       "      <td>HIGH</td>\n",
       "      <td>7.798</td>\n",
       "      <td>drugX</td>\n",
       "      <td>0</td>\n",
       "    </tr>\n",
       "    <tr>\n",
       "      <th>4</th>\n",
       "      <td>61</td>\n",
       "      <td>F</td>\n",
       "      <td>LOW</td>\n",
       "      <td>HIGH</td>\n",
       "      <td>18.043</td>\n",
       "      <td>DrugY</td>\n",
       "      <td>1</td>\n",
       "    </tr>\n",
       "    <tr>\n",
       "      <th>...</th>\n",
       "      <td>...</td>\n",
       "      <td>...</td>\n",
       "      <td>...</td>\n",
       "      <td>...</td>\n",
       "      <td>...</td>\n",
       "      <td>...</td>\n",
       "      <td>...</td>\n",
       "    </tr>\n",
       "    <tr>\n",
       "      <th>195</th>\n",
       "      <td>56</td>\n",
       "      <td>F</td>\n",
       "      <td>LOW</td>\n",
       "      <td>HIGH</td>\n",
       "      <td>11.567</td>\n",
       "      <td>drugC</td>\n",
       "      <td>0</td>\n",
       "    </tr>\n",
       "    <tr>\n",
       "      <th>196</th>\n",
       "      <td>16</td>\n",
       "      <td>M</td>\n",
       "      <td>LOW</td>\n",
       "      <td>HIGH</td>\n",
       "      <td>12.006</td>\n",
       "      <td>drugC</td>\n",
       "      <td>0</td>\n",
       "    </tr>\n",
       "    <tr>\n",
       "      <th>197</th>\n",
       "      <td>52</td>\n",
       "      <td>M</td>\n",
       "      <td>NORMAL</td>\n",
       "      <td>HIGH</td>\n",
       "      <td>9.894</td>\n",
       "      <td>drugX</td>\n",
       "      <td>0</td>\n",
       "    </tr>\n",
       "    <tr>\n",
       "      <th>198</th>\n",
       "      <td>23</td>\n",
       "      <td>M</td>\n",
       "      <td>NORMAL</td>\n",
       "      <td>NORMAL</td>\n",
       "      <td>14.020</td>\n",
       "      <td>drugX</td>\n",
       "      <td>0</td>\n",
       "    </tr>\n",
       "    <tr>\n",
       "      <th>199</th>\n",
       "      <td>40</td>\n",
       "      <td>F</td>\n",
       "      <td>LOW</td>\n",
       "      <td>NORMAL</td>\n",
       "      <td>11.349</td>\n",
       "      <td>drugX</td>\n",
       "      <td>0</td>\n",
       "    </tr>\n",
       "  </tbody>\n",
       "</table>\n",
       "<p>200 rows × 7 columns</p>\n",
       "</div>"
      ],
      "text/plain": [
       "     Age Sex      BP Cholesterol  Na_to_K   Drug  HighNatoK\n",
       "0     23   F    HIGH        HIGH   25.355  DrugY          1\n",
       "1     47   M     LOW        HIGH   13.093  drugC          0\n",
       "2     47   M     LOW        HIGH   10.114  drugC          0\n",
       "3     28   F  NORMAL        HIGH    7.798  drugX          0\n",
       "4     61   F     LOW        HIGH   18.043  DrugY          1\n",
       "..   ...  ..     ...         ...      ...    ...        ...\n",
       "195   56   F     LOW        HIGH   11.567  drugC          0\n",
       "196   16   M     LOW        HIGH   12.006  drugC          0\n",
       "197   52   M  NORMAL        HIGH    9.894  drugX          0\n",
       "198   23   M  NORMAL      NORMAL   14.020  drugX          0\n",
       "199   40   F     LOW      NORMAL   11.349  drugX          0\n",
       "\n",
       "[200 rows x 7 columns]"
      ]
     },
     "execution_count": 28,
     "metadata": {},
     "output_type": "execute_result"
    }
   ],
   "source": [
    "HighNatoK=drug_data.Na_to_K.apply(lambda x: 1 if x>=15 else 0)\n",
    "High_NatoK_ratio=pd.Series(HighNatoK,name='HighNatoK')\n",
    "drug_data_1=pd.concat([drug_data,High_NatoK_ratio],axis=1)\n",
    "drug_data_1\n"
   ]
  },
  {
   "cell_type": "code",
   "execution_count": 29,
   "id": "3374bcc2",
   "metadata": {},
   "outputs": [
    {
     "data": {
      "image/png": "[encoded data removed]",
      "text/plain": [
       "<Figure size 648x360 with 1 Axes>"
      ]
     },
     "metadata": {
      "needs_background": "light"
     },
     "output_type": "display_data"
    }
   ],
   "source": [
    "plt.figure(figsize = (9,5))\n",
    "sns.violinplot(x = \"Drug\",y=\"Age\",hue=\"HighNatoK\", data = drug_data_1)\n",
    "plt.title(\"Na_to_K_Bigger_Than_15 and Drug\")\n",
    "plt.show()"
   ]
  },
  {
   "cell_type": "code",
   "execution_count": 30,
   "id": "5b15aff3",
   "metadata": {},
   "outputs": [
    {
     "data": {
      "text/plain": [
       "<seaborn.axisgrid.PairGrid at 0x21bca74f670>"
      ]
     },
     "execution_count": 30,
     "metadata": {},
     "output_type": "execute_result"
    },
    {
     "data": {
      "image/png": "[encoded data removed]",
      "text/plain": [
       "<Figure size 540x540 with 12 Axes>"
      ]
     },
     "metadata": {
      "needs_background": "light"
     },
     "output_type": "display_data"
    }
   ],
   "source": [
    "sns.pairplot(drug_data_1)"
   ]
  },
  {
   "cell_type": "markdown",
   "id": "da8ec54c",
   "metadata": {},
   "source": [
    "# Encoding"
   ]
  },
  {
   "cell_type": "code",
   "execution_count": 31,
   "id": "09700d75",
   "metadata": {},
   "outputs": [
    {
     "data": {
      "text/plain": [
       "Age              int64\n",
       "Sex             object\n",
       "BP              object\n",
       "Cholesterol     object\n",
       "Na_to_K        float64\n",
       "Drug            object\n",
       "HighNatoK        int64\n",
       "dtype: object"
      ]
     },
     "execution_count": 31,
     "metadata": {},
     "output_type": "execute_result"
    }
   ],
   "source": [
    "drug_data_1.dtypes"
   ]
  },
  {
   "cell_type": "code",
   "execution_count": 32,
   "id": "dc8ed09c",
   "metadata": {},
   "outputs": [],
   "source": [
    "from sklearn.preprocessing import OneHotEncoder\n",
    "from sklearn.preprocessing import OrdinalEncoder\n",
    "from sklearn.compose import ColumnTransformer\n",
    "ct=ColumnTransformer([('ohe',OneHotEncoder(drop='first'),['Sex']),\n",
    "                     ('oe',OrdinalEncoder(),['BP','Cholesterol'])],remainder='passthrough')"
   ]
  },
  {
   "cell_type": "code",
   "execution_count": 33,
   "id": "495957dc",
   "metadata": {},
   "outputs": [
    {
     "name": "stdout",
     "output_type": "stream",
     "text": [
      "    Age Sex      BP Cholesterol  Na_to_K   Drug  HighNatoK\n",
      "0    23   F    HIGH        HIGH   25.355  DrugY          1\n",
      "1    47   M     LOW        HIGH   13.093  drugC          0\n",
      "2    47   M     LOW        HIGH   10.114  drugC          0\n",
      "3    28   F  NORMAL        HIGH    7.798  drugX          0\n",
      "4    61   F     LOW        HIGH   18.043  DrugY          1\n",
      "5    22   F  NORMAL        HIGH    8.607  drugX          0\n",
      "6    49   F  NORMAL        HIGH   16.275  DrugY          1\n",
      "7    41   M     LOW        HIGH   11.037  drugC          0\n",
      "8    60   M  NORMAL        HIGH   15.171  DrugY          1\n",
      "9    43   M     LOW      NORMAL   19.368  DrugY          1\n",
      "10   47   F     LOW        HIGH   11.767  drugC          0\n",
      "11   34   F    HIGH      NORMAL   19.199  DrugY          1\n",
      "12   43   M     LOW        HIGH   15.376  DrugY          1\n",
      "13   74   F     LOW        HIGH   20.942  DrugY          1\n",
      "14   50   F  NORMAL        HIGH   12.703  drugX          0\n"
     ]
    },
    {
     "data": {
      "text/plain": [
       "array([[0.0, 0.0, 0.0, 23, 25.355, 'DrugY', 1],\n",
       "       [1.0, 1.0, 0.0, 47, 13.093, 'drugC', 0],\n",
       "       [1.0, 1.0, 0.0, 47, 10.114, 'drugC', 0],\n",
       "       [0.0, 2.0, 0.0, 28, 7.798, 'drugX', 0],\n",
       "       [0.0, 1.0, 0.0, 61, 18.043, 'DrugY', 1],\n",
       "       [0.0, 2.0, 0.0, 22, 8.607, 'drugX', 0],\n",
       "       [0.0, 2.0, 0.0, 49, 16.275, 'DrugY', 1],\n",
       "       [1.0, 1.0, 0.0, 41, 11.037, 'drugC', 0],\n",
       "       [1.0, 2.0, 0.0, 60, 15.171, 'DrugY', 1],\n",
       "       [1.0, 1.0, 1.0, 43, 19.368, 'DrugY', 1],\n",
       "       [0.0, 1.0, 0.0, 47, 11.767, 'drugC', 0],\n",
       "       [0.0, 0.0, 1.0, 34, 19.199, 'DrugY', 1],\n",
       "       [1.0, 1.0, 0.0, 43, 15.376, 'DrugY', 1],\n",
       "       [0.0, 1.0, 0.0, 74, 20.942, 'DrugY', 1],\n",
       "       [0.0, 2.0, 0.0, 50, 12.703, 'drugX', 0]], dtype=object)"
      ]
     },
     "execution_count": 33,
     "metadata": {},
     "output_type": "execute_result"
    }
   ],
   "source": [
    "drug_data_2=ct.fit_transform(drug_data_1)\n",
    "print(drug_data_1.head(15))\n",
    "drug_data_2[0:15]"
   ]
  },
  {
   "cell_type": "markdown",
   "id": "8f673b89",
   "metadata": {},
   "source": [
    "# Choosing inputs and output"
   ]
  },
  {
   "cell_type": "code",
   "execution_count": 34,
   "id": "60aaa133",
   "metadata": {},
   "outputs": [
    {
     "data": {
      "text/html": [
       "<div>\n",
       "<style scoped>\n",
       "    .dataframe tbody tr th:only-of-type {\n",
       "        vertical-align: middle;\n",
       "    }\n",
       "\n",
       "    .dataframe tbody tr th {\n",
       "        vertical-align: top;\n",
       "    }\n",
       "\n",
       "    .dataframe thead th {\n",
       "        text-align: right;\n",
       "    }\n",
       "</style>\n",
       "<table border=\"1\" class=\"dataframe\">\n",
       "  <thead>\n",
       "    <tr style=\"text-align: right;\">\n",
       "      <th></th>\n",
       "      <th>Age</th>\n",
       "      <th>Sex</th>\n",
       "      <th>BP</th>\n",
       "      <th>Cholesterol</th>\n",
       "      <th>Na_to_K</th>\n",
       "      <th>HighNatoK</th>\n",
       "    </tr>\n",
       "  </thead>\n",
       "  <tbody>\n",
       "    <tr>\n",
       "      <th>0</th>\n",
       "      <td>23</td>\n",
       "      <td>F</td>\n",
       "      <td>HIGH</td>\n",
       "      <td>HIGH</td>\n",
       "      <td>25.355</td>\n",
       "      <td>1</td>\n",
       "    </tr>\n",
       "    <tr>\n",
       "      <th>1</th>\n",
       "      <td>47</td>\n",
       "      <td>M</td>\n",
       "      <td>LOW</td>\n",
       "      <td>HIGH</td>\n",
       "      <td>13.093</td>\n",
       "      <td>0</td>\n",
       "    </tr>\n",
       "    <tr>\n",
       "      <th>2</th>\n",
       "      <td>47</td>\n",
       "      <td>M</td>\n",
       "      <td>LOW</td>\n",
       "      <td>HIGH</td>\n",
       "      <td>10.114</td>\n",
       "      <td>0</td>\n",
       "    </tr>\n",
       "    <tr>\n",
       "      <th>3</th>\n",
       "      <td>28</td>\n",
       "      <td>F</td>\n",
       "      <td>NORMAL</td>\n",
       "      <td>HIGH</td>\n",
       "      <td>7.798</td>\n",
       "      <td>0</td>\n",
       "    </tr>\n",
       "    <tr>\n",
       "      <th>4</th>\n",
       "      <td>61</td>\n",
       "      <td>F</td>\n",
       "      <td>LOW</td>\n",
       "      <td>HIGH</td>\n",
       "      <td>18.043</td>\n",
       "      <td>1</td>\n",
       "    </tr>\n",
       "    <tr>\n",
       "      <th>...</th>\n",
       "      <td>...</td>\n",
       "      <td>...</td>\n",
       "      <td>...</td>\n",
       "      <td>...</td>\n",
       "      <td>...</td>\n",
       "      <td>...</td>\n",
       "    </tr>\n",
       "    <tr>\n",
       "      <th>195</th>\n",
       "      <td>56</td>\n",
       "      <td>F</td>\n",
       "      <td>LOW</td>\n",
       "      <td>HIGH</td>\n",
       "      <td>11.567</td>\n",
       "      <td>0</td>\n",
       "    </tr>\n",
       "    <tr>\n",
       "      <th>196</th>\n",
       "      <td>16</td>\n",
       "      <td>M</td>\n",
       "      <td>LOW</td>\n",
       "      <td>HIGH</td>\n",
       "      <td>12.006</td>\n",
       "      <td>0</td>\n",
       "    </tr>\n",
       "    <tr>\n",
       "      <th>197</th>\n",
       "      <td>52</td>\n",
       "      <td>M</td>\n",
       "      <td>NORMAL</td>\n",
       "      <td>HIGH</td>\n",
       "      <td>9.894</td>\n",
       "      <td>0</td>\n",
       "    </tr>\n",
       "    <tr>\n",
       "      <th>198</th>\n",
       "      <td>23</td>\n",
       "      <td>M</td>\n",
       "      <td>NORMAL</td>\n",
       "      <td>NORMAL</td>\n",
       "      <td>14.020</td>\n",
       "      <td>0</td>\n",
       "    </tr>\n",
       "    <tr>\n",
       "      <th>199</th>\n",
       "      <td>40</td>\n",
       "      <td>F</td>\n",
       "      <td>LOW</td>\n",
       "      <td>NORMAL</td>\n",
       "      <td>11.349</td>\n",
       "      <td>0</td>\n",
       "    </tr>\n",
       "  </tbody>\n",
       "</table>\n",
       "<p>200 rows × 6 columns</p>\n",
       "</div>"
      ],
      "text/plain": [
       "     Age Sex      BP Cholesterol  Na_to_K  HighNatoK\n",
       "0     23   F    HIGH        HIGH   25.355          1\n",
       "1     47   M     LOW        HIGH   13.093          0\n",
       "2     47   M     LOW        HIGH   10.114          0\n",
       "3     28   F  NORMAL        HIGH    7.798          0\n",
       "4     61   F     LOW        HIGH   18.043          1\n",
       "..   ...  ..     ...         ...      ...        ...\n",
       "195   56   F     LOW        HIGH   11.567          0\n",
       "196   16   M     LOW        HIGH   12.006          0\n",
       "197   52   M  NORMAL        HIGH    9.894          0\n",
       "198   23   M  NORMAL      NORMAL   14.020          0\n",
       "199   40   F     LOW      NORMAL   11.349          0\n",
       "\n",
       "[200 rows x 6 columns]"
      ]
     },
     "execution_count": 34,
     "metadata": {},
     "output_type": "execute_result"
    }
   ],
   "source": [
    "X=drug_data_1.drop(['Drug'],axis=1)\n",
    "X"
   ]
  },
  {
   "cell_type": "code",
   "execution_count": 35,
   "id": "7ddb5f3a",
   "metadata": {},
   "outputs": [
    {
     "data": {
      "text/plain": [
       "0      DrugY\n",
       "1      drugC\n",
       "2      drugC\n",
       "3      drugX\n",
       "4      DrugY\n",
       "       ...  \n",
       "195    drugC\n",
       "196    drugC\n",
       "197    drugX\n",
       "198    drugX\n",
       "199    drugX\n",
       "Name: Drug, Length: 200, dtype: object"
      ]
     },
     "execution_count": 35,
     "metadata": {},
     "output_type": "execute_result"
    }
   ],
   "source": [
    "y=drug_data_1['Drug']\n",
    "y"
   ]
  },
  {
   "cell_type": "code",
   "execution_count": 36,
   "id": "15b7931c",
   "metadata": {},
   "outputs": [
    {
     "data": {
      "text/plain": [
       "array([[ 0.   ,  0.   ,  0.   , 23.   , 25.355,  1.   ],\n",
       "       [ 1.   ,  1.   ,  0.   , 47.   , 13.093,  0.   ],\n",
       "       [ 1.   ,  1.   ,  0.   , 47.   , 10.114,  0.   ],\n",
       "       [ 0.   ,  2.   ,  0.   , 28.   ,  7.798,  0.   ],\n",
       "       [ 0.   ,  1.   ,  0.   , 61.   , 18.043,  1.   ],\n",
       "       [ 0.   ,  2.   ,  0.   , 22.   ,  8.607,  0.   ],\n",
       "       [ 0.   ,  2.   ,  0.   , 49.   , 16.275,  1.   ],\n",
       "       [ 1.   ,  1.   ,  0.   , 41.   , 11.037,  0.   ],\n",
       "       [ 1.   ,  2.   ,  0.   , 60.   , 15.171,  1.   ],\n",
       "       [ 1.   ,  1.   ,  1.   , 43.   , 19.368,  1.   ],\n",
       "       [ 0.   ,  1.   ,  0.   , 47.   , 11.767,  0.   ],\n",
       "       [ 0.   ,  0.   ,  1.   , 34.   , 19.199,  1.   ],\n",
       "       [ 1.   ,  1.   ,  0.   , 43.   , 15.376,  1.   ],\n",
       "       [ 0.   ,  1.   ,  0.   , 74.   , 20.942,  1.   ],\n",
       "       [ 0.   ,  2.   ,  0.   , 50.   , 12.703,  0.   ]])"
      ]
     },
     "execution_count": 36,
     "metadata": {},
     "output_type": "execute_result"
    }
   ],
   "source": [
    "Xnew=ct.fit_transform(X)\n",
    "Xnew[:15]"
   ]
  },
  {
   "cell_type": "code",
   "execution_count": 37,
   "id": "a9f54082",
   "metadata": {},
   "outputs": [],
   "source": [
    "from sklearn.model_selection import train_test_split\n",
    "X_train,X_test,y_train,y_test=train_test_split(Xnew,y,test_size=0.30,random_state=5)\n"
   ]
  },
  {
   "cell_type": "markdown",
   "id": "73583548",
   "metadata": {},
   "source": [
    "# Model Implementation"
   ]
  },
  {
   "cell_type": "code",
   "execution_count": 38,
   "id": "651f6543",
   "metadata": {},
   "outputs": [],
   "source": [
    "from sklearn.model_selection import GridSearchCV\n",
    "from sklearn.model_selection import StratifiedKFold\n",
    "from sklearn.model_selection import cross_val_score\n",
    "skfold = StratifiedKFold(n_splits=5)"
   ]
  },
  {
   "cell_type": "markdown",
   "id": "42392b43",
   "metadata": {},
   "source": [
    "Logistic Regression"
   ]
  },
  {
   "cell_type": "code",
   "execution_count": 39,
   "id": "73edbea8",
   "metadata": {},
   "outputs": [
    {
     "data": {
      "text/plain": [
       "LogisticRegression(solver='liblinear')"
      ]
     },
     "execution_count": 39,
     "metadata": {},
     "output_type": "execute_result"
    }
   ],
   "source": [
    "from sklearn.linear_model import LogisticRegression\n",
    "lr_model=LogisticRegression(solver='liblinear')\n",
    "lr_model.fit(X_train,y_train)"
   ]
  },
  {
   "cell_type": "code",
   "execution_count": 40,
   "id": "0dbfa813",
   "metadata": {},
   "outputs": [],
   "source": [
    "lr_trainscore=cross_val_score(lr_model,X_train,y_train,cv=skfold)\n",
    "lr_pred=lr_model.predict(X_test)"
   ]
  },
  {
   "cell_type": "code",
   "execution_count": 41,
   "id": "cdc3a1bc",
   "metadata": {},
   "outputs": [
    {
     "name": "stdout",
     "output_type": "stream",
     "text": [
      "[0.89285714 0.89285714 0.89285714 0.85714286 0.89285714]\n"
     ]
    },
    {
     "data": {
      "text/plain": [
       "0.8857142857142858"
      ]
     },
     "execution_count": 41,
     "metadata": {},
     "output_type": "execute_result"
    }
   ],
   "source": [
    "print(lr_trainscore)\n",
    "lr_trainscore.mean()"
   ]
  },
  {
   "cell_type": "code",
   "execution_count": 42,
   "id": "7d32ab0f",
   "metadata": {},
   "outputs": [
    {
     "data": {
      "text/plain": [
       "0.9166666666666666"
      ]
     },
     "execution_count": 42,
     "metadata": {},
     "output_type": "execute_result"
    }
   ],
   "source": [
    "lr_testscore=lr_model.score(X_test,y_test)\n",
    "lr_testscore"
   ]
  },
  {
   "cell_type": "code",
   "execution_count": 43,
   "id": "b6be7b90",
   "metadata": {},
   "outputs": [],
   "source": [
    "#To store the scores of different model\n",
    "result_dict_train={}\n",
    "result_dict_test={}"
   ]
  },
  {
   "cell_type": "code",
   "execution_count": 44,
   "id": "fd19199a",
   "metadata": {},
   "outputs": [],
   "source": [
    "result_dict_train[\"LR Train Score\"] = np.mean(lr_trainscore)\n",
    "result_dict_test[\"LR Test Score\"] = lr_testscore"
   ]
  },
  {
   "cell_type": "markdown",
   "id": "5cce56ca",
   "metadata": {},
   "source": [
    "Random Forest"
   ]
  },
  {
   "cell_type": "code",
   "execution_count": 45,
   "id": "d6a45ccc",
   "metadata": {},
   "outputs": [
    {
     "data": {
      "text/plain": [
       "array([0.96428571, 0.96428571, 0.96428571, 0.92857143, 0.96428571])"
      ]
     },
     "execution_count": 45,
     "metadata": {},
     "output_type": "execute_result"
    }
   ],
   "source": [
    "from sklearn.ensemble import RandomForestClassifier\n",
    "rfc = RandomForestClassifier(n_estimators=5)\n",
    "rfc.fit(X_train,y_train)\n",
    "rfc_trainscore=cross_val_score(rfc,X_train,y_train,cv=skfold)\n",
    "rfc_trainscore"
   ]
  },
  {
   "cell_type": "code",
   "execution_count": 46,
   "id": "6e5cbd5a",
   "metadata": {},
   "outputs": [],
   "source": [
    "rfc_pred=rfc.predict(X_test)"
   ]
  },
  {
   "cell_type": "code",
   "execution_count": 47,
   "id": "8693726c",
   "metadata": {},
   "outputs": [
    {
     "name": "stdout",
     "output_type": "stream",
     "text": [
      "0.9571428571428571\n"
     ]
    },
    {
     "data": {
      "text/plain": [
       "0.9"
      ]
     },
     "execution_count": 47,
     "metadata": {},
     "output_type": "execute_result"
    }
   ],
   "source": [
    "print(rfc_trainscore.mean())\n",
    "rfc_testscore=rfc.score(X_test,y_test)\n",
    "rfc_testscore"
   ]
  },
  {
   "cell_type": "code",
   "execution_count": 48,
   "id": "045ba461",
   "metadata": {},
   "outputs": [],
   "source": [
    "result_dict_train[\"RFC Train Score\"] = np.mean(rfc_trainscore)\n",
    "result_dict_test[\"RFC Test Score\"] = rfc_testscore"
   ]
  },
  {
   "cell_type": "markdown",
   "id": "3ce484ab",
   "metadata": {},
   "source": [
    "KNN Classifier"
   ]
  },
  {
   "cell_type": "code",
   "execution_count": 49,
   "id": "54c92717",
   "metadata": {},
   "outputs": [
    {
     "data": {
      "text/plain": [
       "array([0.82142857, 0.64285714, 0.67857143, 0.75      , 0.82142857])"
      ]
     },
     "execution_count": 49,
     "metadata": {},
     "output_type": "execute_result"
    }
   ],
   "source": [
    "from sklearn.neighbors import KNeighborsClassifier\n",
    "knn = KNeighborsClassifier(n_neighbors=10,p=1)\n",
    "knn.fit(X_train,y_train)\n",
    "knn_trainscore=cross_val_score(knn,X_train,y_train,cv=skfold)\n",
    "knn_trainscore"
   ]
  },
  {
   "cell_type": "code",
   "execution_count": 50,
   "id": "7c127a8c",
   "metadata": {},
   "outputs": [],
   "source": [
    "knn_pred=knn.predict(X_test)"
   ]
  },
  {
   "cell_type": "code",
   "execution_count": 51,
   "id": "732927f0",
   "metadata": {},
   "outputs": [
    {
     "name": "stdout",
     "output_type": "stream",
     "text": [
      "0.7428571428571429\n"
     ]
    },
    {
     "data": {
      "text/plain": [
       "0.7166666666666667"
      ]
     },
     "execution_count": 51,
     "metadata": {},
     "output_type": "execute_result"
    }
   ],
   "source": [
    "print(knn_trainscore.mean())\n",
    "knn_testscore=knn.score(X_test,y_test)\n",
    "knn_testscore"
   ]
  },
  {
   "cell_type": "code",
   "execution_count": 52,
   "id": "57193279",
   "metadata": {},
   "outputs": [],
   "source": [
    "result_dict_train[\"KNN Train Score\"] = np.mean(knn_trainscore)\n",
    "result_dict_test[\"KNN Test Score\"] = knn_testscore"
   ]
  },
  {
   "cell_type": "markdown",
   "id": "c8d974d2",
   "metadata": {},
   "source": [
    "SVM Classifier"
   ]
  },
  {
   "cell_type": "code",
   "execution_count": 53,
   "id": "b748eb94",
   "metadata": {},
   "outputs": [
    {
     "data": {
      "text/plain": [
       "array([0.89285714, 0.92857143, 0.78571429, 0.89285714, 0.92857143])"
      ]
     },
     "execution_count": 53,
     "metadata": {},
     "output_type": "execute_result"
    }
   ],
   "source": [
    "from sklearn.svm import SVC\n",
    "svc=SVC(kernel='linear',C=0.05,gamma=0.5)\n",
    "svc.fit(X_train,y_train)\n",
    "svc_trainscore=cross_val_score(svc,X_train,y_train,cv=skfold)\n",
    "svc_trainscore"
   ]
  },
  {
   "cell_type": "code",
   "execution_count": 54,
   "id": "74b6d607",
   "metadata": {},
   "outputs": [],
   "source": [
    "svc_pred=svc.predict(X_test)"
   ]
  },
  {
   "cell_type": "code",
   "execution_count": 55,
   "id": "12aa4d8b",
   "metadata": {},
   "outputs": [
    {
     "name": "stdout",
     "output_type": "stream",
     "text": [
      "0.8857142857142858\n"
     ]
    },
    {
     "data": {
      "text/plain": [
       "0.8833333333333333"
      ]
     },
     "execution_count": 55,
     "metadata": {},
     "output_type": "execute_result"
    }
   ],
   "source": [
    "print(svc_trainscore.mean())\n",
    "svc_testscore=svc.score(X_test,y_test)\n",
    "svc_testscore"
   ]
  },
  {
   "cell_type": "code",
   "execution_count": 56,
   "id": "d0353a3c",
   "metadata": {},
   "outputs": [],
   "source": [
    "result_dict_train[\"SVC Train Score\"] = np.mean(svc_trainscore)\n",
    "result_dict_test[\"SVC Test Score\"] = svc_testscore"
   ]
  },
  {
   "cell_type": "markdown",
   "id": "c1d6d92e",
   "metadata": {},
   "source": [
    "Naive Bayes"
   ]
  },
  {
   "cell_type": "code",
   "execution_count": 57,
   "id": "24edcd4f",
   "metadata": {},
   "outputs": [
    {
     "data": {
      "text/plain": [
       "array([0.96428571, 1.        , 1.        , 1.        , 1.        ])"
      ]
     },
     "execution_count": 57,
     "metadata": {},
     "output_type": "execute_result"
    }
   ],
   "source": [
    "from sklearn.naive_bayes import GaussianNB\n",
    "nbc=GaussianNB()\n",
    "nbc.fit(X_train,y_train)\n",
    "nbc_trainscore=cross_val_score(nbc,X_train,y_train,cv=skfold)\n",
    "nbc_trainscore"
   ]
  },
  {
   "cell_type": "code",
   "execution_count": 58,
   "id": "21e28c03",
   "metadata": {},
   "outputs": [],
   "source": [
    "nbc_pred=nbc.predict(X_test)"
   ]
  },
  {
   "cell_type": "code",
   "execution_count": 59,
   "id": "ce9d6d6d",
   "metadata": {},
   "outputs": [
    {
     "name": "stdout",
     "output_type": "stream",
     "text": [
      "0.9928571428571429\n"
     ]
    },
    {
     "data": {
      "text/plain": [
       "1.0"
      ]
     },
     "execution_count": 59,
     "metadata": {},
     "output_type": "execute_result"
    }
   ],
   "source": [
    "print(nbc_trainscore.mean())\n",
    "nbc_testscore=nbc.score(X_test,y_test)\n",
    "nbc_testscore"
   ]
  },
  {
   "cell_type": "code",
   "execution_count": 60,
   "id": "5cc64e1f",
   "metadata": {},
   "outputs": [],
   "source": [
    "result_dict_train[\"NBC Train Score\"] = np.mean(nbc_trainscore)\n",
    "result_dict_test[\"NBC Test Score\"] = nbc_testscore"
   ]
  },
  {
   "cell_type": "code",
   "execution_count": 61,
   "id": "56b5936c",
   "metadata": {},
   "outputs": [
    {
     "data": {
      "text/plain": [
       "{'LR Train Score': 0.8857142857142858,\n",
       " 'RFC Train Score': 0.9571428571428571,\n",
       " 'KNN Train Score': 0.7428571428571429,\n",
       " 'SVC Train Score': 0.8857142857142858,\n",
       " 'NBC Train Score': 0.9928571428571429}"
      ]
     },
     "execution_count": 61,
     "metadata": {},
     "output_type": "execute_result"
    }
   ],
   "source": [
    "result_dict_train"
   ]
  },
  {
   "cell_type": "markdown",
   "id": "900261c5",
   "metadata": {},
   "source": [
    "# Conclusion"
   ]
  },
  {
   "cell_type": "code",
   "execution_count": 62,
   "id": "b29e8ed1",
   "metadata": {},
   "outputs": [
    {
     "data": {
      "text/html": [
       "<div>\n",
       "<style scoped>\n",
       "    .dataframe tbody tr th:only-of-type {\n",
       "        vertical-align: middle;\n",
       "    }\n",
       "\n",
       "    .dataframe tbody tr th {\n",
       "        vertical-align: top;\n",
       "    }\n",
       "\n",
       "    .dataframe thead th {\n",
       "        text-align: right;\n",
       "    }\n",
       "</style>\n",
       "<table border=\"1\" class=\"dataframe\">\n",
       "  <thead>\n",
       "    <tr style=\"text-align: right;\">\n",
       "      <th></th>\n",
       "      <th>Score</th>\n",
       "    </tr>\n",
       "  </thead>\n",
       "  <tbody>\n",
       "    <tr>\n",
       "      <th>LR Train Score</th>\n",
       "      <td>0.885714</td>\n",
       "    </tr>\n",
       "    <tr>\n",
       "      <th>RFC Train Score</th>\n",
       "      <td>0.957143</td>\n",
       "    </tr>\n",
       "    <tr>\n",
       "      <th>KNN Train Score</th>\n",
       "      <td>0.742857</td>\n",
       "    </tr>\n",
       "    <tr>\n",
       "      <th>SVC Train Score</th>\n",
       "      <td>0.885714</td>\n",
       "    </tr>\n",
       "    <tr>\n",
       "      <th>NBC Train Score</th>\n",
       "      <td>0.992857</td>\n",
       "    </tr>\n",
       "  </tbody>\n",
       "</table>\n",
       "</div>"
      ],
      "text/plain": [
       "                    Score\n",
       "LR Train Score   0.885714\n",
       "RFC Train Score  0.957143\n",
       "KNN Train Score  0.742857\n",
       "SVC Train Score  0.885714\n",
       "NBC Train Score  0.992857"
      ]
     },
     "execution_count": 62,
     "metadata": {},
     "output_type": "execute_result"
    }
   ],
   "source": [
    "train_result=pd.DataFrame.from_dict(result_dict_train,orient=\"index\",columns=[\"Score\"])\n",
    "train_result"
   ]
  },
  {
   "cell_type": "code",
   "execution_count": 63,
   "id": "fa7deffa",
   "metadata": {},
   "outputs": [
    {
     "data": {
      "text/html": [
       "<div>\n",
       "<style scoped>\n",
       "    .dataframe tbody tr th:only-of-type {\n",
       "        vertical-align: middle;\n",
       "    }\n",
       "\n",
       "    .dataframe tbody tr th {\n",
       "        vertical-align: top;\n",
       "    }\n",
       "\n",
       "    .dataframe thead th {\n",
       "        text-align: right;\n",
       "    }\n",
       "</style>\n",
       "<table border=\"1\" class=\"dataframe\">\n",
       "  <thead>\n",
       "    <tr style=\"text-align: right;\">\n",
       "      <th></th>\n",
       "      <th>TestScore</th>\n",
       "    </tr>\n",
       "  </thead>\n",
       "  <tbody>\n",
       "    <tr>\n",
       "      <th>LR Test Score</th>\n",
       "      <td>0.916667</td>\n",
       "    </tr>\n",
       "    <tr>\n",
       "      <th>RFC Test Score</th>\n",
       "      <td>0.900000</td>\n",
       "    </tr>\n",
       "    <tr>\n",
       "      <th>KNN Test Score</th>\n",
       "      <td>0.716667</td>\n",
       "    </tr>\n",
       "    <tr>\n",
       "      <th>SVC Test Score</th>\n",
       "      <td>0.883333</td>\n",
       "    </tr>\n",
       "    <tr>\n",
       "      <th>NBC Test Score</th>\n",
       "      <td>1.000000</td>\n",
       "    </tr>\n",
       "  </tbody>\n",
       "</table>\n",
       "</div>"
      ],
      "text/plain": [
       "                TestScore\n",
       "LR Test Score    0.916667\n",
       "RFC Test Score   0.900000\n",
       "KNN Test Score   0.716667\n",
       "SVC Test Score   0.883333\n",
       "NBC Test Score   1.000000"
      ]
     },
     "execution_count": 63,
     "metadata": {},
     "output_type": "execute_result"
    }
   ],
   "source": [
    "test_result=pd.DataFrame.from_dict(result_dict_test,orient=\"index\",columns=[\"TestScore\"])\n",
    "test_result"
   ]
  },
  {
   "cell_type": "code",
   "execution_count": 64,
   "id": "87b3fb94",
   "metadata": {},
   "outputs": [
    {
     "name": "stdout",
     "output_type": "stream",
     "text": [
      "Best Parameters: {'C': 1, 'degree': 1, 'gamma': 0.01, 'kernel': 'linear'}\n",
      "Train Score: 1.0\n",
      "Test Score: 1.0\n"
     ]
    }
   ],
   "source": [
    "#Hypertuning SVM using Grid Search CV\n",
    "grid = {\n",
    "    'C':[0.01,0.1,1,10],\n",
    "    'kernel' : [\"linear\",\"poly\",\"rbf\",\"sigmoid\"],\n",
    "    'degree' : [1,3,5,7],\n",
    "    'gamma' : [0.01,1]\n",
    "}\n",
    "\n",
    "svmg  = SVC ();\n",
    "svm_cv = GridSearchCV(svmg, grid, cv = 5)\n",
    "svm_cv.fit(X_train,y_train)\n",
    "print(\"Best Parameters:\",svm_cv.best_params_)\n",
    "print(\"Train Score:\",svm_cv.best_score_)\n",
    "print(\"Test Score:\",svm_cv.score(X_test,y_test))\n"
   ]
  },
  {
   "cell_type": "code",
   "execution_count": 65,
   "id": "de660827",
   "metadata": {},
   "outputs": [
    {
     "data": {
      "image/png": "[encoded data removed]",
      "text/plain": [
       "<Figure size 1440x360 with 2 Axes>"
      ]
     },
     "metadata": {
      "needs_background": "light"
     },
     "output_type": "display_data"
    }
   ],
   "source": [
    "fig,ax = plt.subplots(1,2,figsize=(20,5))\n",
    "sns.barplot(x = test_result.index,y = test_result.TestScore,ax = ax[0])\n",
    "sns.barplot(x = train_result.index,y = train_result.Score,ax = ax[1])\n",
    "ax[0].set_xticklabels(test_result.index,rotation = 75)\n",
    "ax[1].set_xticklabels(train_result.index,rotation = 75)\n",
    "plt.show()"
   ]
  },
  {
   "cell_type": "markdown",
   "id": "94c31d58",
   "metadata": {},
   "source": [
    "Classification has been done using Logistic Regression,Random Forest,KNN,SVM,Naive Bayes algorithms.\n",
    "KNN classifier has worst score among these classifiers."
   ]
  }
 ],
 "metadata": {
  "kernelspec": {
   "display_name": "Python 3 (ipykernel)",
   "language": "python",
   "name": "python3"
  },
  "language_info": {
   "codemirror_mode": {
    "name": "ipython",
    "version": 3
   },
   "file_extension": ".py",
   "mimetype": "text/x-python",
   "name": "python",
   "nbconvert_exporter": "python",
   "pygments_lexer": "ipython3",
   "version": "3.9.7"
  }
 },
 "nbformat": 4,
 "nbformat_minor": 5
}
